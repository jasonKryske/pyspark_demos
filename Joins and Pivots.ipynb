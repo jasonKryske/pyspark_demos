{
 "cells": [
  {
   "cell_type": "markdown",
   "metadata": {
    "application/vnd.databricks.v1+cell": {
     "cellMetadata": {
      "byteLimit": 2048000,
      "rowLimit": 10000
     },
     "inputWidgets": {},
     "nuid": "596960fa-e363-4d10-a206-03bffb85301b",
     "showTitle": true,
     "tableResultSettingsMap": {},
     "title": "h = dbfs:/FileStore/sample_data/countries.txt"
    }
   },
   "source": [
    "# Joinning and Pivoting DataFrames"
   ]
  },
  {
   "cell_type": "code",
   "execution_count": 0,
   "metadata": {
    "application/vnd.databricks.v1+cell": {
     "cellMetadata": {
      "byteLimit": 2048000,
      "rowLimit": 10000
     },
     "inputWidgets": {},
     "nuid": "33f87b37-bd07-410c-a3c3-fffcf6cde514",
     "showTitle": false,
     "tableResultSettingsMap": {},
     "title": ""
    }
   },
   "outputs": [],
   "source": [
    "from pyspark.sql.functions import *"
   ]
  },
  {
   "cell_type": "code",
   "execution_count": 0,
   "metadata": {
    "application/vnd.databricks.v1+cell": {
     "cellMetadata": {
      "byteLimit": 2048000,
      "rowLimit": 10000
     },
     "inputWidgets": {},
     "nuid": "6d96b84d-ff6c-40fc-b813-d74d9ba6fe2f",
     "showTitle": false,
     "tableResultSettingsMap": {},
     "title": ""
    }
   },
   "outputs": [],
   "source": [
    "path_countries = \"dbfs:/FileStore/sample_data/countries.txt\"\n",
    "path_regions = 'dbfs:/FileStore/sample_data/country_regions.csv'"
   ]
  },
  {
   "cell_type": "code",
   "execution_count": 0,
   "metadata": {
    "application/vnd.databricks.v1+cell": {
     "cellMetadata": {
      "byteLimit": 2048000,
      "rowLimit": 10000
     },
     "inputWidgets": {},
     "nuid": "2e3c6554-50a0-4426-868f-5b126f8828bc",
     "showTitle": false,
     "tableResultSettingsMap": {},
     "title": ""
    }
   },
   "outputs": [],
   "source": [
    "countries_df = (spark.read\n",
    "    .format('csv')\n",
    "    .option('header','true')\n",
    "    .option('inferschema','true')\n",
    "     .option('sep', '\\t')\n",
    "    .load(path_countries)\n",
    ")"
   ]
  },
  {
   "cell_type": "code",
   "execution_count": 0,
   "metadata": {
    "application/vnd.databricks.v1+cell": {
     "cellMetadata": {
      "byteLimit": 2048000,
      "rowLimit": 10000
     },
     "inputWidgets": {},
     "nuid": "c834f394-4892-4e12-850b-fbb54bae76a0",
     "showTitle": false,
     "tableResultSettingsMap": {},
     "title": ""
    }
   },
   "outputs": [],
   "source": [
    "path_regions = 'dbfs:/FileStore/sample_data/country_regions.csv'\n",
    "\n",
    "regions_df = (spark.read\n",
    "    .format('csv')\n",
    "    .option('header','true')\n",
    "    .option('inferschema','true')\n",
    "     .option('sep', ',')\n",
    "    .load(path_regions)\n",
    ")"
   ]
  },
  {
   "cell_type": "code",
   "execution_count": 0,
   "metadata": {
    "application/vnd.databricks.v1+cell": {
     "cellMetadata": {
      "byteLimit": 2048000,
      "rowLimit": 10000
     },
     "inputWidgets": {},
     "nuid": "fc6243b9-484e-40b5-85a6-25384f9dd7ed",
     "showTitle": false,
     "tableResultSettingsMap": {},
     "title": ""
    }
   },
   "outputs": [
    {
     "output_type": "display_data",
     "data": {
      "text/html": [
       "<style scoped>\n",
       "  .table-result-container {\n",
       "    max-height: 300px;\n",
       "    overflow: auto;\n",
       "  }\n",
       "  table, th, td {\n",
       "    border: 1px solid black;\n",
       "    border-collapse: collapse;\n",
       "  }\n",
       "  th, td {\n",
       "    padding: 5px;\n",
       "  }\n",
       "  th {\n",
       "    text-align: left;\n",
       "  }\n",
       "</style><div class='table-result-container'><table class='table-result'><thead style='background-color: white'><tr><th>ID</th><th>NAME</th></tr></thead><tbody><tr><td>10</td><td>America</td></tr><tr><td>20</td><td>Europe</td></tr><tr><td>30</td><td>Asia</td></tr><tr><td>40</td><td>Oceania</td></tr><tr><td>50</td><td>Africa</td></tr></tbody></table></div>"
      ]
     },
     "metadata": {
      "application/vnd.databricks.v1+output": {
       "addedWidgets": {},
       "aggData": [],
       "aggError": "",
       "aggOverflow": false,
       "aggSchema": [],
       "aggSeriesLimitReached": false,
       "aggType": "",
       "arguments": {},
       "columnCustomDisplayInfos": {},
       "data": [
        [
         10,
         "America"
        ],
        [
         20,
         "Europe"
        ],
        [
         30,
         "Asia"
        ],
        [
         40,
         "Oceania"
        ],
        [
         50,
         "Africa"
        ]
       ],
       "datasetInfos": [],
       "dbfsResultPath": null,
       "isJsonSchema": true,
       "metadata": {},
       "overflow": false,
       "plotOptions": {
        "customPlotOptions": {},
        "displayType": "table",
        "pivotAggregation": null,
        "pivotColumns": null,
        "xColumns": null,
        "yColumns": null
       },
       "removedWidgets": [],
       "schema": [
        {
         "metadata": "{}",
         "name": "ID",
         "type": "\"integer\""
        },
        {
         "metadata": "{}",
         "name": "NAME",
         "type": "\"string\""
        }
       ],
       "type": "table"
      }
     },
     "output_type": "display_data"
    }
   ],
   "source": [
    "display(regions_df.limit(10))"
   ]
  },
  {
   "cell_type": "markdown",
   "metadata": {
    "application/vnd.databricks.v1+cell": {
     "cellMetadata": {
      "byteLimit": 2048000,
      "rowLimit": 10000
     },
     "inputWidgets": {},
     "nuid": "e9b276e7-ead7-4def-a930-d94ce5331218",
     "showTitle": false,
     "tableResultSettingsMap": {},
     "title": ""
    }
   },
   "source": [
    "\n",
    "When piviting a DF, you apply the pivot method after the groupby method but before the aggregation. "
   ]
  },
  {
   "cell_type": "code",
   "execution_count": 0,
   "metadata": {
    "application/vnd.databricks.v1+cell": {
     "cellMetadata": {
      "byteLimit": 2048000,
      "rowLimit": 10000
     },
     "inputWidgets": {},
     "nuid": "70d036fb-57aa-4a1b-a0ca-ba1d33314e65",
     "showTitle": false,
     "tableResultSettingsMap": {},
     "title": ""
    }
   },
   "outputs": [
    {
     "output_type": "display_data",
     "data": {
      "text/html": [
       "<style scoped>\n",
       "  .table-result-container {\n",
       "    max-height: 300px;\n",
       "    overflow: auto;\n",
       "  }\n",
       "  table, th, td {\n",
       "    border: 1px solid black;\n",
       "    border-collapse: collapse;\n",
       "  }\n",
       "  th, td {\n",
       "    padding: 5px;\n",
       "  }\n",
       "  th {\n",
       "    text-align: left;\n",
       "  }\n",
       "</style><div class='table-result-container'><table class='table-result'><thead style='background-color: white'><tr><th>region_id</th><th>sub_region_id</th><th>population</th></tr></thead><tbody><tr><td>30</td><td>30</td><td>3836422762</td></tr><tr><td>30</td><td>60</td><td>3345222196</td></tr><tr><td>50</td><td>160</td><td>2132574302</td></tr><tr><td>30</td><td>100</td><td>1324023612</td></tr><tr><td>10</td><td>10</td><td>1296241438</td></tr><tr><td>10</td><td>80</td><td>733201928</td></tr><tr><td>20</td><td>140</td><td>586889826</td></tr><tr><td>30</td><td>170</td><td>550649626</td></tr><tr><td>50</td><td>40</td><td>483561536</td></tr><tr><td>20</td><td>150</td><td>391044820</td></tr></tbody></table></div>"
      ]
     },
     "metadata": {
      "application/vnd.databricks.v1+output": {
       "addedWidgets": {},
       "aggData": [],
       "aggError": "",
       "aggOverflow": false,
       "aggSchema": [],
       "aggSeriesLimitReached": false,
       "aggType": "",
       "arguments": {},
       "columnCustomDisplayInfos": {},
       "data": [
        [
         30,
         30,
         3836422762
        ],
        [
         30,
         60,
         3345222196
        ],
        [
         50,
         160,
         2132574302
        ],
        [
         30,
         100,
         1324023612
        ],
        [
         10,
         10,
         1296241438
        ],
        [
         10,
         80,
         733201928
        ],
        [
         20,
         140,
         586889826
        ],
        [
         30,
         170,
         550649626
        ],
        [
         50,
         40,
         483561536
        ],
        [
         20,
         150,
         391044820
        ]
       ],
       "datasetInfos": [],
       "dbfsResultPath": null,
       "isJsonSchema": true,
       "metadata": {},
       "overflow": false,
       "plotOptions": {
        "customPlotOptions": {},
        "displayType": "table",
        "pivotAggregation": null,
        "pivotColumns": null,
        "xColumns": null,
        "yColumns": null
       },
       "removedWidgets": [],
       "schema": [
        {
         "metadata": "{}",
         "name": "region_id",
         "type": "\"integer\""
        },
        {
         "metadata": "{}",
         "name": "sub_region_id",
         "type": "\"integer\""
        },
        {
         "metadata": "{}",
         "name": "population",
         "type": "\"long\""
        }
       ],
       "type": "table"
      }
     },
     "output_type": "display_data"
    }
   ],
   "source": [
    "countries_df.groupBy('region_id','sub_region_id') \\\n",
    "    .agg(sum(col('population')) \\\n",
    "    .alias('population')) \\\n",
    "    .orderBy('population', ascending = False) \\\n",
    "    .limit(10) \\\n",
    "    .display()"
   ]
  },
  {
   "cell_type": "code",
   "execution_count": 0,
   "metadata": {
    "application/vnd.databricks.v1+cell": {
     "cellMetadata": {
      "byteLimit": 2048000,
      "rowLimit": 10000
     },
     "inputWidgets": {},
     "nuid": "7ed21d62-693d-48b9-b9f7-c173a9d58fa7",
     "showTitle": false,
     "tableResultSettingsMap": {},
     "title": ""
    }
   },
   "outputs": [
    {
     "output_type": "display_data",
     "data": {
      "text/html": [
       "<style scoped>\n",
       "  .table-result-container {\n",
       "    max-height: 300px;\n",
       "    overflow: auto;\n",
       "  }\n",
       "  table, th, td {\n",
       "    border: 1px solid black;\n",
       "    border-collapse: collapse;\n",
       "  }\n",
       "  th, td {\n",
       "    padding: 5px;\n",
       "  }\n",
       "  th {\n",
       "    text-align: left;\n",
       "  }\n",
       "</style><div class='table-result-container'><table class='table-result'><thead style='background-color: white'><tr><th>sub_region_id</th><th>10</th><th>20</th><th>30</th><th>40</th><th>50</th></tr></thead><tbody><tr><td>140</td><td>null</td><td>586889826</td><td>null</td><td>null</td><td>null</td></tr><tr><td>null</td><td>null</td><td>null</td><td>null</td><td>2212</td><td>null</td></tr><tr><td>40</td><td>null</td><td>null</td><td>null</td><td>null</td><td>483561536</td></tr><tr><td>20</td><td>null</td><td>null</td><td>null</td><td>1359678</td><td>null</td></tr><tr><td>120</td><td>null</td><td>211583456</td><td>null</td><td>null</td><td>null</td></tr><tr><td>100</td><td>null</td><td>null</td><td>1324023612</td><td>null</td><td>null</td></tr><tr><td>130</td><td>null</td><td>null</td><td>null</td><td>21837034</td><td>null</td></tr><tr><td>10</td><td>1296241438</td><td>null</td><td>null</td><td>null</td><td>null</td></tr><tr><td>50</td><td>null</td><td>null</td><td>null</td><td>1087572</td><td>null</td></tr><tr><td>80</td><td>733201928</td><td>null</td><td>null</td><td>null</td><td>null</td></tr></tbody></table></div>"
      ]
     },
     "metadata": {
      "application/vnd.databricks.v1+output": {
       "addedWidgets": {},
       "aggData": [],
       "aggError": "",
       "aggOverflow": false,
       "aggSchema": [],
       "aggSeriesLimitReached": false,
       "aggType": "",
       "arguments": {},
       "columnCustomDisplayInfos": {},
       "data": [
        [
         140,
         null,
         586889826,
         null,
         null,
         null
        ],
        [
         null,
         null,
         null,
         null,
         2212,
         null
        ],
        [
         40,
         null,
         null,
         null,
         null,
         483561536
        ],
        [
         20,
         null,
         null,
         null,
         1359678,
         null
        ],
        [
         120,
         null,
         211583456,
         null,
         null,
         null
        ],
        [
         100,
         null,
         null,
         1324023612,
         null,
         null
        ],
        [
         130,
         null,
         null,
         null,
         21837034,
         null
        ],
        [
         10,
         1296241438,
         null,
         null,
         null,
         null
        ],
        [
         50,
         null,
         null,
         null,
         1087572,
         null
        ],
        [
         80,
         733201928,
         null,
         null,
         null,
         null
        ]
       ],
       "datasetInfos": [],
       "dbfsResultPath": null,
       "isJsonSchema": true,
       "metadata": {},
       "overflow": false,
       "plotOptions": {
        "customPlotOptions": {},
        "displayType": "table",
        "pivotAggregation": null,
        "pivotColumns": null,
        "xColumns": null,
        "yColumns": null
       },
       "removedWidgets": [],
       "schema": [
        {
         "metadata": "{}",
         "name": "sub_region_id",
         "type": "\"integer\""
        },
        {
         "metadata": "{}",
         "name": "10",
         "type": "\"long\""
        },
        {
         "metadata": "{}",
         "name": "20",
         "type": "\"long\""
        },
        {
         "metadata": "{}",
         "name": "30",
         "type": "\"long\""
        },
        {
         "metadata": "{}",
         "name": "40",
         "type": "\"long\""
        },
        {
         "metadata": "{}",
         "name": "50",
         "type": "\"long\""
        }
       ],
       "type": "table"
      }
     },
     "output_type": "display_data"
    }
   ],
   "source": [
    "countries_df \\\n",
    "    .groupBy('sub_region_id') \\\n",
    "    .pivot('region_id') \\\n",
    "    .agg(sum(col('population'))) \\\n",
    "    .limit(10) \\\n",
    "    .display()\n",
    "\n",
    "\n",
    "    # Pivots are good for creating matrices"
   ]
  },
  {
   "cell_type": "code",
   "execution_count": 0,
   "metadata": {
    "application/vnd.databricks.v1+cell": {
     "cellMetadata": {
      "byteLimit": 2048000,
      "rowLimit": 10000
     },
     "inputWidgets": {},
     "nuid": "ed2e8d2b-e5d4-4fc5-b093-2109bd536093",
     "showTitle": false,
     "tableResultSettingsMap": {},
     "title": ""
    }
   },
   "outputs": [
    {
     "output_type": "display_data",
     "data": {
      "text/html": [
       "<style scoped>\n",
       "  .table-result-container {\n",
       "    max-height: 300px;\n",
       "    overflow: auto;\n",
       "  }\n",
       "  table, th, td {\n",
       "    border: 1px solid black;\n",
       "    border-collapse: collapse;\n",
       "  }\n",
       "  th, td {\n",
       "    padding: 5px;\n",
       "  }\n",
       "  th {\n",
       "    text-align: left;\n",
       "  }\n",
       "</style><div class='table-result-container'><table class='table-result'><thead style='background-color: white'><tr><th>country_name</th><th>region_name</th><th>population</th></tr></thead><tbody><tr><td>Afghanistan</td><td>Asia</td><td>38041754</td></tr><tr><td>Albania</td><td>Europe</td><td>2880917</td></tr><tr><td>Algeria</td><td>Africa</td><td>43053054</td></tr><tr><td>American Samoa</td><td>Oceania</td><td>55312</td></tr><tr><td>Andorra</td><td>Europe</td><td>77142</td></tr><tr><td>Angola</td><td>Africa</td><td>31825295</td></tr><tr><td>Anguilla</td><td>America</td><td>14869</td></tr><tr><td>Antarctica</td><td>Oceania</td><td>1106</td></tr><tr><td>Antigua and Barbuda</td><td>America</td><td>97118</td></tr><tr><td>Argentina</td><td>America</td><td>44780677</td></tr></tbody></table></div>"
      ]
     },
     "metadata": {
      "application/vnd.databricks.v1+output": {
       "addedWidgets": {},
       "aggData": [],
       "aggError": "",
       "aggOverflow": false,
       "aggSchema": [],
       "aggSeriesLimitReached": false,
       "aggType": "",
       "arguments": {},
       "columnCustomDisplayInfos": {},
       "data": [
        [
         "Afghanistan",
         "Asia",
         38041754
        ],
        [
         "Albania",
         "Europe",
         2880917
        ],
        [
         "Algeria",
         "Africa",
         43053054
        ],
        [
         "American Samoa",
         "Oceania",
         55312
        ],
        [
         "Andorra",
         "Europe",
         77142
        ],
        [
         "Angola",
         "Africa",
         31825295
        ],
        [
         "Anguilla",
         "America",
         14869
        ],
        [
         "Antarctica",
         "Oceania",
         1106
        ],
        [
         "Antigua and Barbuda",
         "America",
         97118
        ],
        [
         "Argentina",
         "America",
         44780677
        ]
       ],
       "datasetInfos": [],
       "dbfsResultPath": null,
       "isJsonSchema": true,
       "metadata": {},
       "overflow": false,
       "plotOptions": {
        "customPlotOptions": {},
        "displayType": "table",
        "pivotAggregation": null,
        "pivotColumns": null,
        "xColumns": null,
        "yColumns": null
       },
       "removedWidgets": [],
       "schema": [
        {
         "metadata": "{}",
         "name": "country_name",
         "type": "\"string\""
        },
        {
         "metadata": "{}",
         "name": "region_name",
         "type": "\"string\""
        },
        {
         "metadata": "{}",
         "name": "population",
         "type": "\"long\""
        }
       ],
       "type": "table"
      }
     },
     "output_type": "display_data"
    }
   ],
   "source": [
    "population_df = countries_df \\\n",
    "    .join(regions_df, countries_df['region_id'] == regions_df['id'], how='left') \\\n",
    "    .select(\n",
    "        countries_df['name'].alias('country_name'),\n",
    "        regions_df['name'].alias('region_name'),\n",
    "        countries_df['population']\n",
    "    )\n",
    " \n",
    "display(population_df.head(10))"
   ]
  },
  {
   "cell_type": "code",
   "execution_count": 0,
   "metadata": {
    "application/vnd.databricks.v1+cell": {
     "cellMetadata": {
      "byteLimit": 2048000,
      "rowLimit": 10000
     },
     "inputWidgets": {},
     "nuid": "c32f0873-072a-4f8b-a9e8-fddb725d8094",
     "showTitle": false,
     "tableResultSettingsMap": {},
     "title": ""
    }
   },
   "outputs": [
    {
     "output_type": "display_data",
     "data": {
      "text/html": [
       "<style scoped>\n",
       "  .table-result-container {\n",
       "    max-height: 300px;\n",
       "    overflow: auto;\n",
       "  }\n",
       "  table, th, td {\n",
       "    border: 1px solid black;\n",
       "    border-collapse: collapse;\n",
       "  }\n",
       "  th, td {\n",
       "    padding: 5px;\n",
       "  }\n",
       "  th {\n",
       "    text-align: left;\n",
       "  }\n",
       "</style><div class='table-result-container'><table class='table-result'><thead style='background-color: white'><tr><th>region_name</th><th>population</th></tr></thead><tbody><tr><td>Asia</td><td>4601371198</td></tr><tr><td>Africa</td><td>1308067919</td></tr><tr><td>America</td><td>1014721683</td></tr><tr><td>Europe</td><td>747205974</td></tr><tr><td>Oceania</td><td>42133644</td></tr></tbody></table></div>"
      ]
     },
     "metadata": {
      "application/vnd.databricks.v1+output": {
       "addedWidgets": {},
       "aggData": [],
       "aggError": "",
       "aggOverflow": false,
       "aggSchema": [],
       "aggSeriesLimitReached": false,
       "aggType": "",
       "arguments": {},
       "columnCustomDisplayInfos": {},
       "data": [
        [
         "Asia",
         4601371198
        ],
        [
         "Africa",
         1308067919
        ],
        [
         "America",
         1014721683
        ],
        [
         "Europe",
         747205974
        ],
        [
         "Oceania",
         42133644
        ]
       ],
       "datasetInfos": [],
       "dbfsResultPath": null,
       "isJsonSchema": true,
       "metadata": {},
       "overflow": false,
       "plotOptions": {
        "customPlotOptions": {},
        "displayType": "table",
        "pivotAggregation": null,
        "pivotColumns": null,
        "xColumns": null,
        "yColumns": null
       },
       "removedWidgets": [],
       "schema": [
        {
         "metadata": "{}",
         "name": "region_name",
         "type": "\"string\""
        },
        {
         "metadata": "{}",
         "name": "population",
         "type": "\"long\""
        }
       ],
       "type": "table"
      }
     },
     "output_type": "display_data"
    }
   ],
   "source": [
    "population_df \\\n",
    "    .groupBy('region_name') \\\n",
    "    .agg(sum('population').alias('population')) \\\n",
    "    .orderBy('population', ascending=False) \\\n",
    "    .display()  \n"
   ]
  },
  {
   "cell_type": "code",
   "execution_count": 0,
   "metadata": {
    "application/vnd.databricks.v1+cell": {
     "cellMetadata": {
      "byteLimit": 2048000,
      "rowLimit": 10000
     },
     "inputWidgets": {},
     "nuid": "6527fdc8-3bfd-4ba3-998f-71e46f0ea08a",
     "showTitle": false,
     "tableResultSettingsMap": {},
     "title": ""
    }
   },
   "outputs": [
    {
     "output_type": "display_data",
     "data": {
      "text/html": [
       "<style scoped>\n",
       "  .table-result-container {\n",
       "    max-height: 300px;\n",
       "    overflow: auto;\n",
       "  }\n",
       "  table, th, td {\n",
       "    border: 1px solid black;\n",
       "    border-collapse: collapse;\n",
       "  }\n",
       "  th, td {\n",
       "    padding: 5px;\n",
       "  }\n",
       "  th {\n",
       "    text-align: left;\n",
       "  }\n",
       "</style><div class='table-result-container'><table class='table-result'><thead style='background-color: white'><tr><th>country_name</th><th>Africa</th><th>America</th><th>Asia</th><th>Europe</th><th>Oceania</th></tr></thead><tbody><tr><td>Afghanistan</td><td>null</td><td>null</td><td>38041754</td><td>null</td><td>null</td></tr><tr><td>Albania</td><td>null</td><td>null</td><td>null</td><td>2880917</td><td>null</td></tr><tr><td>Algeria</td><td>43053054</td><td>null</td><td>null</td><td>null</td><td>null</td></tr><tr><td>American Samoa</td><td>null</td><td>null</td><td>null</td><td>null</td><td>55312</td></tr><tr><td>Andorra</td><td>null</td><td>null</td><td>null</td><td>77142</td><td>null</td></tr><tr><td>Angola</td><td>31825295</td><td>null</td><td>null</td><td>null</td><td>null</td></tr><tr><td>Anguilla</td><td>null</td><td>14869</td><td>null</td><td>null</td><td>null</td></tr><tr><td>Antarctica</td><td>null</td><td>null</td><td>null</td><td>null</td><td>1106</td></tr><tr><td>Antigua and Barbuda</td><td>null</td><td>97118</td><td>null</td><td>null</td><td>null</td></tr><tr><td>Argentina</td><td>null</td><td>44780677</td><td>null</td><td>null</td><td>null</td></tr></tbody></table></div>"
      ]
     },
     "metadata": {
      "application/vnd.databricks.v1+output": {
       "addedWidgets": {},
       "aggData": [],
       "aggError": "",
       "aggOverflow": false,
       "aggSchema": [],
       "aggSeriesLimitReached": false,
       "aggType": "",
       "arguments": {},
       "columnCustomDisplayInfos": {},
       "data": [
        [
         "Afghanistan",
         null,
         null,
         38041754,
         null,
         null
        ],
        [
         "Albania",
         null,
         null,
         null,
         2880917,
         null
        ],
        [
         "Algeria",
         43053054,
         null,
         null,
         null,
         null
        ],
        [
         "American Samoa",
         null,
         null,
         null,
         null,
         55312
        ],
        [
         "Andorra",
         null,
         null,
         null,
         77142,
         null
        ],
        [
         "Angola",
         31825295,
         null,
         null,
         null,
         null
        ],
        [
         "Anguilla",
         null,
         14869,
         null,
         null,
         null
        ],
        [
         "Antarctica",
         null,
         null,
         null,
         null,
         1106
        ],
        [
         "Antigua and Barbuda",
         null,
         97118,
         null,
         null,
         null
        ],
        [
         "Argentina",
         null,
         44780677,
         null,
         null,
         null
        ]
       ],
       "datasetInfos": [],
       "dbfsResultPath": null,
       "isJsonSchema": true,
       "metadata": {},
       "overflow": false,
       "plotOptions": {
        "customPlotOptions": {},
        "displayType": "table",
        "pivotAggregation": null,
        "pivotColumns": null,
        "xColumns": null,
        "yColumns": null
       },
       "removedWidgets": [],
       "schema": [
        {
         "metadata": "{}",
         "name": "country_name",
         "type": "\"string\""
        },
        {
         "metadata": "{}",
         "name": "Africa",
         "type": "\"long\""
        },
        {
         "metadata": "{}",
         "name": "America",
         "type": "\"long\""
        },
        {
         "metadata": "{}",
         "name": "Asia",
         "type": "\"long\""
        },
        {
         "metadata": "{}",
         "name": "Europe",
         "type": "\"long\""
        },
        {
         "metadata": "{}",
         "name": "Oceania",
         "type": "\"long\""
        }
       ],
       "type": "table"
      }
     },
     "output_type": "display_data"
    }
   ],
   "source": [
    " population_df \\\n",
    "    .groupBy('country_name') \\\n",
    "    .pivot('region_name') \\\n",
    "    .sum('population') \\\n",
    "    .orderBy('country_name') \\\n",
    "    .limit(10) \\\n",
    "    .display()\n",
    "\n"
   ]
  },
  {
   "cell_type": "code",
   "execution_count": 0,
   "metadata": {
    "application/vnd.databricks.v1+cell": {
     "cellMetadata": {
      "byteLimit": 2048000,
      "rowLimit": 10000
     },
     "inputWidgets": {},
     "nuid": "b7f5945a-b2e3-462c-9e7f-775d25d8a89e",
     "showTitle": false,
     "tableResultSettingsMap": {},
     "title": ""
    }
   },
   "outputs": [
    {
     "output_type": "display_data",
     "data": {
      "text/html": [
       "<style scoped>\n",
       "  .table-result-container {\n",
       "    max-height: 300px;\n",
       "    overflow: auto;\n",
       "  }\n",
       "  table, th, td {\n",
       "    border: 1px solid black;\n",
       "    border-collapse: collapse;\n",
       "  }\n",
       "  th, td {\n",
       "    padding: 5px;\n",
       "  }\n",
       "  th {\n",
       "    text-align: left;\n",
       "  }\n",
       "</style><div class='table-result-container'><table class='table-result'><thead style='background-color: white'><tr><th>region_name</th><th>country_name</th><th>population</th></tr></thead><tbody><tr><td>Asia</td><td>China</td><td>1433783686</td></tr><tr><td>Asia</td><td>India</td><td>1366417754</td></tr><tr><td>America</td><td>United States of America</td><td>329064917</td></tr><tr><td>Asia</td><td>Indonesia</td><td>270625568</td></tr><tr><td>Asia</td><td>Pakistan</td><td>216565318</td></tr><tr><td>America</td><td>Brazil</td><td>211049527</td></tr><tr><td>Africa</td><td>Nigeria</td><td>200963599</td></tr><tr><td>Asia</td><td>Bangladesh</td><td>163046161</td></tr><tr><td>Europe</td><td>Russian Federation</td><td>145872256</td></tr><tr><td>America</td><td>Mexico</td><td>127575529</td></tr></tbody></table></div>"
      ]
     },
     "metadata": {
      "application/vnd.databricks.v1+output": {
       "addedWidgets": {},
       "aggData": [],
       "aggError": "",
       "aggOverflow": false,
       "aggSchema": [],
       "aggSeriesLimitReached": false,
       "aggType": "",
       "arguments": {},
       "columnCustomDisplayInfos": {},
       "data": [
        [
         "Asia",
         "China",
         1433783686
        ],
        [
         "Asia",
         "India",
         1366417754
        ],
        [
         "America",
         "United States of America",
         329064917
        ],
        [
         "Asia",
         "Indonesia",
         270625568
        ],
        [
         "Asia",
         "Pakistan",
         216565318
        ],
        [
         "America",
         "Brazil",
         211049527
        ],
        [
         "Africa",
         "Nigeria",
         200963599
        ],
        [
         "Asia",
         "Bangladesh",
         163046161
        ],
        [
         "Europe",
         "Russian Federation",
         145872256
        ],
        [
         "America",
         "Mexico",
         127575529
        ]
       ],
       "datasetInfos": [],
       "dbfsResultPath": null,
       "isJsonSchema": true,
       "metadata": {},
       "overflow": false,
       "plotOptions": {
        "customPlotOptions": {},
        "displayType": "table",
        "pivotAggregation": null,
        "pivotColumns": null,
        "xColumns": null,
        "yColumns": null
       },
       "removedWidgets": [],
       "schema": [
        {
         "metadata": "{}",
         "name": "region_name",
         "type": "\"string\""
        },
        {
         "metadata": "{}",
         "name": "country_name",
         "type": "\"string\""
        },
        {
         "metadata": "{}",
         "name": "population",
         "type": "\"long\""
        }
       ],
       "type": "table"
      }
     },
     "output_type": "display_data"
    }
   ],
   "source": [
    "population_df \\\n",
    "    .groupBy('region_name','country_name') \\\n",
    "    .agg(sum('population').alias('population')) \\\n",
    "    .orderBy('population', ascending=False) \\\n",
    "    .limit(10) \\\n",
    "    .display()  \n"
   ]
  },
  {
   "cell_type": "code",
   "execution_count": 0,
   "metadata": {
    "application/vnd.databricks.v1+cell": {
     "cellMetadata": {
      "byteLimit": 2048000,
      "rowLimit": 10000
     },
     "inputWidgets": {},
     "nuid": "0e5e7822-7520-463f-a363-56c09e9032fc",
     "showTitle": false,
     "tableResultSettingsMap": {},
     "title": ""
    }
   },
   "outputs": [
    {
     "output_type": "display_data",
     "data": {
      "text/plain": [
       "\u001B[0;31m---------------------------------------------------------------------------\u001B[0m\n",
       "\u001B[0;31mParseException\u001B[0m                            Traceback (most recent call last)\n",
       "File \u001B[0;32m<command-1657774773984061>, line 4\u001B[0m\n",
       "\u001B[1;32m      1\u001B[0m \u001B[38;5;66;03m# Unpivot\u001B[39;00m\n",
       "\u001B[1;32m      3\u001B[0m population_df \\\n",
       "\u001B[0;32m----> 4\u001B[0m     \u001B[38;5;241m.\u001B[39mselect(\u001B[38;5;124m'\u001B[39m\u001B[38;5;124mcountry_name\u001B[39m\u001B[38;5;124m'\u001B[39m, expr(\u001B[38;5;124m\"\u001B[39m\u001B[38;5;124m\"\u001B[39m))\n",
       "\n",
       "File \u001B[0;32m/databricks/spark/python/pyspark/sql/utils.py:264\u001B[0m, in \u001B[0;36mtry_remote_functions.<locals>.wrapped\u001B[0;34m(*args, **kwargs)\u001B[0m\n",
       "\u001B[1;32m    262\u001B[0m     \u001B[38;5;28;01mreturn\u001B[39;00m \u001B[38;5;28mgetattr\u001B[39m(functions, f\u001B[38;5;241m.\u001B[39m\u001B[38;5;18m__name__\u001B[39m)(\u001B[38;5;241m*\u001B[39margs, \u001B[38;5;241m*\u001B[39m\u001B[38;5;241m*\u001B[39mkwargs)\n",
       "\u001B[1;32m    263\u001B[0m \u001B[38;5;28;01melse\u001B[39;00m:\n",
       "\u001B[0;32m--> 264\u001B[0m     \u001B[38;5;28;01mreturn\u001B[39;00m f(\u001B[38;5;241m*\u001B[39margs, \u001B[38;5;241m*\u001B[39m\u001B[38;5;241m*\u001B[39mkwargs)\n",
       "\n",
       "File \u001B[0;32m/databricks/spark/python/pyspark/sql/functions/builtin.py:6590\u001B[0m, in \u001B[0;36mexpr\u001B[0;34m(str)\u001B[0m\n",
       "\u001B[1;32m   6560\u001B[0m \u001B[38;5;129m@_try_remote_functions\u001B[39m\n",
       "\u001B[1;32m   6561\u001B[0m \u001B[38;5;28;01mdef\u001B[39;00m \u001B[38;5;21mexpr\u001B[39m(\u001B[38;5;28mstr\u001B[39m: \u001B[38;5;28mstr\u001B[39m) \u001B[38;5;241m-\u001B[39m\u001B[38;5;241m>\u001B[39m Column:\n",
       "\u001B[1;32m   6562\u001B[0m \u001B[38;5;250m    \u001B[39m\u001B[38;5;124;03m\"\"\"Parses the expression string into the column that it represents\u001B[39;00m\n",
       "\u001B[1;32m   6563\u001B[0m \n",
       "\u001B[1;32m   6564\u001B[0m \u001B[38;5;124;03m    .. versionadded:: 1.5.0\u001B[39;00m\n",
       "\u001B[0;32m   (...)\u001B[0m\n",
       "\u001B[1;32m   6588\u001B[0m \u001B[38;5;124;03m    +-----+------------+\u001B[39;00m\n",
       "\u001B[1;32m   6589\u001B[0m \u001B[38;5;124;03m    \"\"\"\u001B[39;00m\n",
       "\u001B[0;32m-> 6590\u001B[0m     \u001B[38;5;28;01mreturn\u001B[39;00m _invoke_function(\u001B[38;5;124m\"\u001B[39m\u001B[38;5;124mexpr\u001B[39m\u001B[38;5;124m\"\u001B[39m, \u001B[38;5;28mstr\u001B[39m)\n",
       "\n",
       "File \u001B[0;32m/databricks/spark/python/pyspark/sql/functions/builtin.py:103\u001B[0m, in \u001B[0;36m_invoke_function\u001B[0;34m(name, *args)\u001B[0m\n",
       "\u001B[1;32m    101\u001B[0m \u001B[38;5;28;01massert\u001B[39;00m SparkContext\u001B[38;5;241m.\u001B[39m_active_spark_context \u001B[38;5;129;01mis\u001B[39;00m \u001B[38;5;129;01mnot\u001B[39;00m \u001B[38;5;28;01mNone\u001B[39;00m\n",
       "\u001B[1;32m    102\u001B[0m jf \u001B[38;5;241m=\u001B[39m _get_jvm_function(name, SparkContext\u001B[38;5;241m.\u001B[39m_active_spark_context)\n",
       "\u001B[0;32m--> 103\u001B[0m \u001B[38;5;28;01mreturn\u001B[39;00m Column(jf(\u001B[38;5;241m*\u001B[39margs))\n",
       "\n",
       "File \u001B[0;32m/databricks/spark/python/lib/py4j-0.10.9.7-src.zip/py4j/java_gateway.py:1355\u001B[0m, in \u001B[0;36mJavaMember.__call__\u001B[0;34m(self, *args)\u001B[0m\n",
       "\u001B[1;32m   1349\u001B[0m command \u001B[38;5;241m=\u001B[39m proto\u001B[38;5;241m.\u001B[39mCALL_COMMAND_NAME \u001B[38;5;241m+\u001B[39m\\\n",
       "\u001B[1;32m   1350\u001B[0m     \u001B[38;5;28mself\u001B[39m\u001B[38;5;241m.\u001B[39mcommand_header \u001B[38;5;241m+\u001B[39m\\\n",
       "\u001B[1;32m   1351\u001B[0m     args_command \u001B[38;5;241m+\u001B[39m\\\n",
       "\u001B[1;32m   1352\u001B[0m     proto\u001B[38;5;241m.\u001B[39mEND_COMMAND_PART\n",
       "\u001B[1;32m   1354\u001B[0m answer \u001B[38;5;241m=\u001B[39m \u001B[38;5;28mself\u001B[39m\u001B[38;5;241m.\u001B[39mgateway_client\u001B[38;5;241m.\u001B[39msend_command(command)\n",
       "\u001B[0;32m-> 1355\u001B[0m return_value \u001B[38;5;241m=\u001B[39m get_return_value(\n",
       "\u001B[1;32m   1356\u001B[0m     answer, \u001B[38;5;28mself\u001B[39m\u001B[38;5;241m.\u001B[39mgateway_client, \u001B[38;5;28mself\u001B[39m\u001B[38;5;241m.\u001B[39mtarget_id, \u001B[38;5;28mself\u001B[39m\u001B[38;5;241m.\u001B[39mname)\n",
       "\u001B[1;32m   1358\u001B[0m \u001B[38;5;28;01mfor\u001B[39;00m temp_arg \u001B[38;5;129;01min\u001B[39;00m temp_args:\n",
       "\u001B[1;32m   1359\u001B[0m     \u001B[38;5;28;01mif\u001B[39;00m \u001B[38;5;28mhasattr\u001B[39m(temp_arg, \u001B[38;5;124m\"\u001B[39m\u001B[38;5;124m_detach\u001B[39m\u001B[38;5;124m\"\u001B[39m):\n",
       "\n",
       "File \u001B[0;32m/databricks/spark/python/pyspark/errors/exceptions/captured.py:261\u001B[0m, in \u001B[0;36mcapture_sql_exception.<locals>.deco\u001B[0;34m(*a, **kw)\u001B[0m\n",
       "\u001B[1;32m    257\u001B[0m converted \u001B[38;5;241m=\u001B[39m convert_exception(e\u001B[38;5;241m.\u001B[39mjava_exception)\n",
       "\u001B[1;32m    258\u001B[0m \u001B[38;5;28;01mif\u001B[39;00m \u001B[38;5;129;01mnot\u001B[39;00m \u001B[38;5;28misinstance\u001B[39m(converted, UnknownException):\n",
       "\u001B[1;32m    259\u001B[0m     \u001B[38;5;66;03m# Hide where the exception came from that shows a non-Pythonic\u001B[39;00m\n",
       "\u001B[1;32m    260\u001B[0m     \u001B[38;5;66;03m# JVM exception message.\u001B[39;00m\n",
       "\u001B[0;32m--> 261\u001B[0m     \u001B[38;5;28;01mraise\u001B[39;00m converted \u001B[38;5;28;01mfrom\u001B[39;00m \u001B[38;5;28;01mNone\u001B[39;00m\n",
       "\u001B[1;32m    262\u001B[0m \u001B[38;5;28;01melse\u001B[39;00m:\n",
       "\u001B[1;32m    263\u001B[0m     \u001B[38;5;28;01mraise\u001B[39;00m\n",
       "\n",
       "\u001B[0;31mParseException\u001B[0m: \n",
       "[PARSE_EMPTY_STATEMENT] Syntax error, unexpected empty statement. SQLSTATE: 42617 (line 1, pos 0)\n",
       "\n",
       "== SQL ==\n",
       "\n",
       "^^^\n"
      ]
     },
     "metadata": {
      "application/vnd.databricks.v1+output": {
       "addedWidgets": {},
       "arguments": {},
       "datasetInfos": [],
       "jupyterProps": {
        "ename": "ParseException",
        "evalue": "\n[PARSE_EMPTY_STATEMENT] Syntax error, unexpected empty statement. SQLSTATE: 42617 (line 1, pos 0)\n\n== SQL ==\n\n^^^\n"
       },
       "metadata": {
        "errorSummary": "Command skipped"
       },
       "removedWidgets": [],
       "sqlProps": {
        "errorClass": "PARSE_EMPTY_STATEMENT",
        "pysparkCallSite": null,
        "pysparkFragment": null,
        "sqlState": "42617",
        "stackTrace": null,
        "startIndex": null,
        "stopIndex": null
       },
       "stackFrames": [
        "\u001B[0;31m---------------------------------------------------------------------------\u001B[0m",
        "\u001B[0;31mParseException\u001B[0m                            Traceback (most recent call last)",
        "File \u001B[0;32m<command-1657774773984061>, line 4\u001B[0m\n\u001B[1;32m      1\u001B[0m \u001B[38;5;66;03m# Unpivot\u001B[39;00m\n\u001B[1;32m      3\u001B[0m population_df \\\n\u001B[0;32m----> 4\u001B[0m     \u001B[38;5;241m.\u001B[39mselect(\u001B[38;5;124m'\u001B[39m\u001B[38;5;124mcountry_name\u001B[39m\u001B[38;5;124m'\u001B[39m, expr(\u001B[38;5;124m\"\u001B[39m\u001B[38;5;124m\"\u001B[39m))\n",
        "File \u001B[0;32m/databricks/spark/python/pyspark/sql/utils.py:264\u001B[0m, in \u001B[0;36mtry_remote_functions.<locals>.wrapped\u001B[0;34m(*args, **kwargs)\u001B[0m\n\u001B[1;32m    262\u001B[0m     \u001B[38;5;28;01mreturn\u001B[39;00m \u001B[38;5;28mgetattr\u001B[39m(functions, f\u001B[38;5;241m.\u001B[39m\u001B[38;5;18m__name__\u001B[39m)(\u001B[38;5;241m*\u001B[39margs, \u001B[38;5;241m*\u001B[39m\u001B[38;5;241m*\u001B[39mkwargs)\n\u001B[1;32m    263\u001B[0m \u001B[38;5;28;01melse\u001B[39;00m:\n\u001B[0;32m--> 264\u001B[0m     \u001B[38;5;28;01mreturn\u001B[39;00m f(\u001B[38;5;241m*\u001B[39margs, \u001B[38;5;241m*\u001B[39m\u001B[38;5;241m*\u001B[39mkwargs)\n",
        "File \u001B[0;32m/databricks/spark/python/pyspark/sql/functions/builtin.py:6590\u001B[0m, in \u001B[0;36mexpr\u001B[0;34m(str)\u001B[0m\n\u001B[1;32m   6560\u001B[0m \u001B[38;5;129m@_try_remote_functions\u001B[39m\n\u001B[1;32m   6561\u001B[0m \u001B[38;5;28;01mdef\u001B[39;00m \u001B[38;5;21mexpr\u001B[39m(\u001B[38;5;28mstr\u001B[39m: \u001B[38;5;28mstr\u001B[39m) \u001B[38;5;241m-\u001B[39m\u001B[38;5;241m>\u001B[39m Column:\n\u001B[1;32m   6562\u001B[0m \u001B[38;5;250m    \u001B[39m\u001B[38;5;124;03m\"\"\"Parses the expression string into the column that it represents\u001B[39;00m\n\u001B[1;32m   6563\u001B[0m \n\u001B[1;32m   6564\u001B[0m \u001B[38;5;124;03m    .. versionadded:: 1.5.0\u001B[39;00m\n\u001B[0;32m   (...)\u001B[0m\n\u001B[1;32m   6588\u001B[0m \u001B[38;5;124;03m    +-----+------------+\u001B[39;00m\n\u001B[1;32m   6589\u001B[0m \u001B[38;5;124;03m    \"\"\"\u001B[39;00m\n\u001B[0;32m-> 6590\u001B[0m     \u001B[38;5;28;01mreturn\u001B[39;00m _invoke_function(\u001B[38;5;124m\"\u001B[39m\u001B[38;5;124mexpr\u001B[39m\u001B[38;5;124m\"\u001B[39m, \u001B[38;5;28mstr\u001B[39m)\n",
        "File \u001B[0;32m/databricks/spark/python/pyspark/sql/functions/builtin.py:103\u001B[0m, in \u001B[0;36m_invoke_function\u001B[0;34m(name, *args)\u001B[0m\n\u001B[1;32m    101\u001B[0m \u001B[38;5;28;01massert\u001B[39;00m SparkContext\u001B[38;5;241m.\u001B[39m_active_spark_context \u001B[38;5;129;01mis\u001B[39;00m \u001B[38;5;129;01mnot\u001B[39;00m \u001B[38;5;28;01mNone\u001B[39;00m\n\u001B[1;32m    102\u001B[0m jf \u001B[38;5;241m=\u001B[39m _get_jvm_function(name, SparkContext\u001B[38;5;241m.\u001B[39m_active_spark_context)\n\u001B[0;32m--> 103\u001B[0m \u001B[38;5;28;01mreturn\u001B[39;00m Column(jf(\u001B[38;5;241m*\u001B[39margs))\n",
        "File \u001B[0;32m/databricks/spark/python/lib/py4j-0.10.9.7-src.zip/py4j/java_gateway.py:1355\u001B[0m, in \u001B[0;36mJavaMember.__call__\u001B[0;34m(self, *args)\u001B[0m\n\u001B[1;32m   1349\u001B[0m command \u001B[38;5;241m=\u001B[39m proto\u001B[38;5;241m.\u001B[39mCALL_COMMAND_NAME \u001B[38;5;241m+\u001B[39m\\\n\u001B[1;32m   1350\u001B[0m     \u001B[38;5;28mself\u001B[39m\u001B[38;5;241m.\u001B[39mcommand_header \u001B[38;5;241m+\u001B[39m\\\n\u001B[1;32m   1351\u001B[0m     args_command \u001B[38;5;241m+\u001B[39m\\\n\u001B[1;32m   1352\u001B[0m     proto\u001B[38;5;241m.\u001B[39mEND_COMMAND_PART\n\u001B[1;32m   1354\u001B[0m answer \u001B[38;5;241m=\u001B[39m \u001B[38;5;28mself\u001B[39m\u001B[38;5;241m.\u001B[39mgateway_client\u001B[38;5;241m.\u001B[39msend_command(command)\n\u001B[0;32m-> 1355\u001B[0m return_value \u001B[38;5;241m=\u001B[39m get_return_value(\n\u001B[1;32m   1356\u001B[0m     answer, \u001B[38;5;28mself\u001B[39m\u001B[38;5;241m.\u001B[39mgateway_client, \u001B[38;5;28mself\u001B[39m\u001B[38;5;241m.\u001B[39mtarget_id, \u001B[38;5;28mself\u001B[39m\u001B[38;5;241m.\u001B[39mname)\n\u001B[1;32m   1358\u001B[0m \u001B[38;5;28;01mfor\u001B[39;00m temp_arg \u001B[38;5;129;01min\u001B[39;00m temp_args:\n\u001B[1;32m   1359\u001B[0m     \u001B[38;5;28;01mif\u001B[39;00m \u001B[38;5;28mhasattr\u001B[39m(temp_arg, \u001B[38;5;124m\"\u001B[39m\u001B[38;5;124m_detach\u001B[39m\u001B[38;5;124m\"\u001B[39m):\n",
        "File \u001B[0;32m/databricks/spark/python/pyspark/errors/exceptions/captured.py:261\u001B[0m, in \u001B[0;36mcapture_sql_exception.<locals>.deco\u001B[0;34m(*a, **kw)\u001B[0m\n\u001B[1;32m    257\u001B[0m converted \u001B[38;5;241m=\u001B[39m convert_exception(e\u001B[38;5;241m.\u001B[39mjava_exception)\n\u001B[1;32m    258\u001B[0m \u001B[38;5;28;01mif\u001B[39;00m \u001B[38;5;129;01mnot\u001B[39;00m \u001B[38;5;28misinstance\u001B[39m(converted, UnknownException):\n\u001B[1;32m    259\u001B[0m     \u001B[38;5;66;03m# Hide where the exception came from that shows a non-Pythonic\u001B[39;00m\n\u001B[1;32m    260\u001B[0m     \u001B[38;5;66;03m# JVM exception message.\u001B[39;00m\n\u001B[0;32m--> 261\u001B[0m     \u001B[38;5;28;01mraise\u001B[39;00m converted \u001B[38;5;28;01mfrom\u001B[39;00m \u001B[38;5;28;01mNone\u001B[39;00m\n\u001B[1;32m    262\u001B[0m \u001B[38;5;28;01melse\u001B[39;00m:\n\u001B[1;32m    263\u001B[0m     \u001B[38;5;28;01mraise\u001B[39;00m\n",
        "\u001B[0;31mParseException\u001B[0m: \n[PARSE_EMPTY_STATEMENT] Syntax error, unexpected empty statement. SQLSTATE: 42617 (line 1, pos 0)\n\n== SQL ==\n\n^^^\n"
       ],
       "type": "baseError"
      }
     },
     "output_type": "display_data"
    }
   ],
   "source": [
    "# Use Union to append two dataframes. Must have the same number of columns."
   ]
  },
  {
   "cell_type": "code",
   "execution_count": 0,
   "metadata": {
    "application/vnd.databricks.v1+cell": {
     "cellMetadata": {
      "byteLimit": 2048000,
      "rowLimit": 10000
     },
     "inputWidgets": {},
     "nuid": "2ca89bdf-e09e-4a50-81c4-2878572488a0",
     "showTitle": false,
     "tableResultSettingsMap": {},
     "title": ""
    }
   },
   "outputs": [
    {
     "output_type": "execute_result",
     "data": {
      "text/plain": [
       "249"
      ]
     },
     "execution_count": 19,
     "metadata": {},
     "output_type": "execute_result"
    }
   ],
   "source": [
    "countries_df.count()"
   ]
  },
  {
   "cell_type": "code",
   "execution_count": 0,
   "metadata": {
    "application/vnd.databricks.v1+cell": {
     "cellMetadata": {
      "byteLimit": 2048000,
      "rowLimit": 10000
     },
     "inputWidgets": {},
     "nuid": "c4f7a552-e9fa-4472-89d8-227b80bc8256",
     "showTitle": false,
     "tableResultSettingsMap": {},
     "title": ""
    }
   },
   "outputs": [],
   "source": [
    "countries_df = countries_df.union(countries_df)"
   ]
  },
  {
   "cell_type": "code",
   "execution_count": 0,
   "metadata": {
    "application/vnd.databricks.v1+cell": {
     "cellMetadata": {
      "byteLimit": 2048000,
      "rowLimit": 10000
     },
     "inputWidgets": {},
     "nuid": "57d94dcb-d6f6-4b24-b3fa-f4923e478e68",
     "showTitle": false,
     "tableResultSettingsMap": {},
     "title": ""
    }
   },
   "outputs": [
    {
     "output_type": "execute_result",
     "data": {
      "text/plain": [
       "498"
      ]
     },
     "execution_count": 21,
     "metadata": {},
     "output_type": "execute_result"
    }
   ],
   "source": [
    "countries_df.count()"
   ]
  },
  {
   "cell_type": "code",
   "execution_count": 0,
   "metadata": {
    "application/vnd.databricks.v1+cell": {
     "cellMetadata": {
      "byteLimit": 2048000,
      "rowLimit": 10000
     },
     "inputWidgets": {},
     "nuid": "109c716d-4167-46c2-a5d0-ad1a6ae4252d",
     "showTitle": false,
     "tableResultSettingsMap": {},
     "title": ""
    }
   },
   "outputs": [
    {
     "output_type": "stream",
     "name": "stdout",
     "output_type": "stream",
     "text": [
      "root\n |-- COUNTRY_ID: integer (nullable = true)\n |-- NAME: string (nullable = true)\n |-- NATIONALITY: string (nullable = true)\n |-- COUNTRY_CODE: string (nullable = true)\n |-- ISO_ALPHA2: string (nullable = true)\n |-- CAPITAL: string (nullable = true)\n |-- POPULATION: integer (nullable = true)\n |-- AREA_KM2: double (nullable = true)\n |-- REGION_ID: integer (nullable = true)\n |-- SUB_REGION_ID: integer (nullable = true)\n |-- INTERMEDIATE_REGION_ID: integer (nullable = true)\n |-- ORGANIZATION_REGION_ID: integer (nullable = true)\n\n"
     ]
    }
   ],
   "source": [
    "countries_df.printSchema()"
   ]
  }
 ],
 "metadata": {
  "application/vnd.databricks.v1+notebook": {
   "computePreferences": null,
   "dashboards": [],
   "environmentMetadata": {
    "base_environment": "",
    "client": "1"
   },
   "language": "python",
   "notebookMetadata": {
    "pythonIndentUnit": 4
   },
   "notebookName": "Joins and Pivots",
   "widgets": {}
  }
 },
 "nbformat": 4,
 "nbformat_minor": 0
}
