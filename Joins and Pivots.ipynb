{
 "cells": [
  {
   "cell_type": "markdown",
   "metadata": {
    "application/vnd.databricks.v1+cell": {
     "cellMetadata": {},
     "inputWidgets": {},
     "nuid": "596960fa-e363-4d10-a206-03bffb85301b",
     "showTitle": true,
     "tableResultSettingsMap": {},
     "title": "h = dbfs:/FileStore/sample_data/countries.txt"
    }
   },
   "source": [
    "# Joinning and Pivoting DataFrames"
   ]
  },
  {
   "cell_type": "code",
   "execution_count": 0,
   "metadata": {
    "application/vnd.databricks.v1+cell": {
     "cellMetadata": {
      "byteLimit": 2048000,
      "rowLimit": 10000
     },
     "inputWidgets": {},
     "nuid": "33f87b37-bd07-410c-a3c3-fffcf6cde514",
     "showTitle": false,
     "tableResultSettingsMap": {},
     "title": ""
    }
   },
   "outputs": [],
   "source": [
    "from pyspark.sql.functions import *"
   ]
  },
  {
   "cell_type": "code",
   "execution_count": 0,
   "metadata": {
    "application/vnd.databricks.v1+cell": {
     "cellMetadata": {
      "byteLimit": 2048000,
      "rowLimit": 10000
     },
     "inputWidgets": {},
     "nuid": "6d96b84d-ff6c-40fc-b813-d74d9ba6fe2f",
     "showTitle": false,
     "tableResultSettingsMap": {},
     "title": ""
    }
   },
   "outputs": [],
   "source": [
    "path_countries = \"dbfs:/FileStore/sample_data/countries.txt\"\n",
    "path_regions = 'dbfs:/FileStore/sample_data/country_regions.csv'"
   ]
  },
  {
   "cell_type": "code",
   "execution_count": 0,
   "metadata": {
    "application/vnd.databricks.v1+cell": {
     "cellMetadata": {
      "byteLimit": 2048000,
      "rowLimit": 10000
     },
     "inputWidgets": {},
     "nuid": "2e3c6554-50a0-4426-868f-5b126f8828bc",
     "showTitle": false,
     "tableResultSettingsMap": {},
     "title": ""
    }
   },
   "outputs": [],
   "source": [
    "countries_df = (spark.read\n",
    "    .format('csv')\n",
    "    .option('header','true')\n",
    "    .option('inferschema','true')\n",
    "     .option('sep', '\\t')\n",
    "    .load(path_countries)\n",
    ")"
   ]
  },
  {
   "cell_type": "code",
   "execution_count": 0,
   "metadata": {
    "application/vnd.databricks.v1+cell": {
     "cellMetadata": {
      "byteLimit": 2048000,
      "rowLimit": 10000
     },
     "inputWidgets": {},
     "nuid": "c834f394-4892-4e12-850b-fbb54bae76a0",
     "showTitle": false,
     "tableResultSettingsMap": {},
     "title": ""
    }
   },
   "outputs": [],
   "source": [
    "path_regions = 'dbfs:/FileStore/sample_data/country_regions.csv'\n",
    "\n",
    "regions_df = (spark.read\n",
    "    .format('csv')\n",
    "    .option('header','true')\n",
    "    .option('inferschema','true')\n",
    "     .option('sep', ',')\n",
    "    .load(path_regions)\n",
    ")"
   ]
  },
  {
   "cell_type": "code",
   "execution_count": 0,
   "metadata": {
    "application/vnd.databricks.v1+cell": {
     "cellMetadata": {
      "byteLimit": 2048000,
      "rowLimit": 10000
     },
     "inputWidgets": {},
     "nuid": "fc6243b9-484e-40b5-85a6-25384f9dd7ed",
     "showTitle": false,
     "tableResultSettingsMap": {},
     "title": ""
    }
   },
   "outputs": [
    {
     "output_type": "display_data",
     "data": {
      "text/html": [
       "<style scoped>\n",
       "  .table-result-container {\n",
       "    max-height: 300px;\n",
       "    overflow: auto;\n",
       "  }\n",
       "  table, th, td {\n",
       "    border: 1px solid black;\n",
       "    border-collapse: collapse;\n",
       "  }\n",
       "  th, td {\n",
       "    padding: 5px;\n",
       "  }\n",
       "  th {\n",
       "    text-align: left;\n",
       "  }\n",
       "</style><div class='table-result-container'><table class='table-result'><thead style='background-color: white'><tr><th>ID</th><th>NAME</th></tr></thead><tbody><tr><td>10</td><td>America</td></tr><tr><td>20</td><td>Europe</td></tr><tr><td>30</td><td>Asia</td></tr><tr><td>40</td><td>Oceania</td></tr><tr><td>50</td><td>Africa</td></tr></tbody></table></div>"
      ]
     },
     "metadata": {
      "application/vnd.databricks.v1+output": {
       "addedWidgets": {},
       "aggData": [],
       "aggError": "",
       "aggOverflow": false,
       "aggSchema": [],
       "aggSeriesLimitReached": false,
       "aggType": "",
       "arguments": {},
       "columnCustomDisplayInfos": {},
       "data": [
        [
         10,
         "America"
        ],
        [
         20,
         "Europe"
        ],
        [
         30,
         "Asia"
        ],
        [
         40,
         "Oceania"
        ],
        [
         50,
         "Africa"
        ]
       ],
       "datasetInfos": [],
       "dbfsResultPath": null,
       "isJsonSchema": true,
       "metadata": {},
       "overflow": false,
       "plotOptions": {
        "customPlotOptions": {},
        "displayType": "table",
        "pivotAggregation": null,
        "pivotColumns": null,
        "xColumns": null,
        "yColumns": null
       },
       "removedWidgets": [],
       "schema": [
        {
         "metadata": "{}",
         "name": "ID",
         "type": "\"integer\""
        },
        {
         "metadata": "{}",
         "name": "NAME",
         "type": "\"string\""
        }
       ],
       "type": "table"
      }
     },
     "output_type": "display_data"
    }
   ],
   "source": [
    "display(regions_df.limit(10))"
   ]
  },
  {
   "cell_type": "markdown",
   "metadata": {
    "application/vnd.databricks.v1+cell": {
     "cellMetadata": {},
     "inputWidgets": {},
     "nuid": "e9b276e7-ead7-4def-a930-d94ce5331218",
     "showTitle": false,
     "tableResultSettingsMap": {},
     "title": ""
    }
   },
   "source": [
    "\n",
    "When piviting a DF, you apply the pivot method after the groupby method but before the aggregation. "
   ]
  },
  {
   "cell_type": "code",
   "execution_count": 0,
   "metadata": {
    "application/vnd.databricks.v1+cell": {
     "cellMetadata": {
      "byteLimit": 2048000,
      "rowLimit": 10000
     },
     "inputWidgets": {},
     "nuid": "70d036fb-57aa-4a1b-a0ca-ba1d33314e65",
     "showTitle": false,
     "tableResultSettingsMap": {},
     "title": ""
    }
   },
   "outputs": [
    {
     "output_type": "display_data",
     "data": {
      "text/html": [
       "<style scoped>\n",
       "  .table-result-container {\n",
       "    max-height: 300px;\n",
       "    overflow: auto;\n",
       "  }\n",
       "  table, th, td {\n",
       "    border: 1px solid black;\n",
       "    border-collapse: collapse;\n",
       "  }\n",
       "  th, td {\n",
       "    padding: 5px;\n",
       "  }\n",
       "  th {\n",
       "    text-align: left;\n",
       "  }\n",
       "</style><div class='table-result-container'><table class='table-result'><thead style='background-color: white'><tr><th>region_id</th><th>sub_region_id</th><th>population</th></tr></thead><tbody><tr><td>30</td><td>30</td><td>1918211381</td></tr><tr><td>30</td><td>60</td><td>1672611098</td></tr><tr><td>50</td><td>160</td><td>1066287151</td></tr><tr><td>30</td><td>100</td><td>662011806</td></tr><tr><td>10</td><td>10</td><td>648120719</td></tr><tr><td>10</td><td>80</td><td>366600964</td></tr><tr><td>20</td><td>140</td><td>293444913</td></tr><tr><td>30</td><td>170</td><td>275324813</td></tr><tr><td>50</td><td>40</td><td>241780768</td></tr><tr><td>20</td><td>150</td><td>195522410</td></tr><tr><td>20</td><td>70</td><td>152446923</td></tr><tr><td>20</td><td>120</td><td>105791728</td></tr><tr><td>30</td><td>110</td><td>73212100</td></tr><tr><td>40</td><td>90</td><td>29990396</td></tr><tr><td>40</td><td>130</td><td>10918517</td></tr><tr><td>40</td><td>20</td><td>679839</td></tr><tr><td>40</td><td>50</td><td>543786</td></tr><tr><td>40</td><td>null</td><td>1106</td></tr></tbody></table></div>"
      ]
     },
     "metadata": {
      "application/vnd.databricks.v1+output": {
       "addedWidgets": {},
       "aggData": [],
       "aggError": "",
       "aggOverflow": false,
       "aggSchema": [],
       "aggSeriesLimitReached": false,
       "aggType": "",
       "arguments": {},
       "columnCustomDisplayInfos": {},
       "data": [
        [
         30,
         30,
         1918211381
        ],
        [
         30,
         60,
         1672611098
        ],
        [
         50,
         160,
         1066287151
        ],
        [
         30,
         100,
         662011806
        ],
        [
         10,
         10,
         648120719
        ],
        [
         10,
         80,
         366600964
        ],
        [
         20,
         140,
         293444913
        ],
        [
         30,
         170,
         275324813
        ],
        [
         50,
         40,
         241780768
        ],
        [
         20,
         150,
         195522410
        ],
        [
         20,
         70,
         152446923
        ],
        [
         20,
         120,
         105791728
        ],
        [
         30,
         110,
         73212100
        ],
        [
         40,
         90,
         29990396
        ],
        [
         40,
         130,
         10918517
        ],
        [
         40,
         20,
         679839
        ],
        [
         40,
         50,
         543786
        ],
        [
         40,
         null,
         1106
        ]
       ],
       "datasetInfos": [],
       "dbfsResultPath": null,
       "isJsonSchema": true,
       "metadata": {},
       "overflow": false,
       "plotOptions": {
        "customPlotOptions": {},
        "displayType": "table",
        "pivotAggregation": null,
        "pivotColumns": null,
        "xColumns": null,
        "yColumns": null
       },
       "removedWidgets": [],
       "schema": [
        {
         "metadata": "{}",
         "name": "region_id",
         "type": "\"integer\""
        },
        {
         "metadata": "{}",
         "name": "sub_region_id",
         "type": "\"integer\""
        },
        {
         "metadata": "{}",
         "name": "population",
         "type": "\"long\""
        }
       ],
       "type": "table"
      }
     },
     "output_type": "display_data"
    }
   ],
   "source": [
    "countries_df.groupBy('region_id','sub_region_id') \\\n",
    "    .agg(sum(col('population')) \\\n",
    "    .alias('population')) \\\n",
    "    .orderBy('population', ascending = False) \\\n",
    "    .display()"
   ]
  },
  {
   "cell_type": "code",
   "execution_count": 0,
   "metadata": {
    "application/vnd.databricks.v1+cell": {
     "cellMetadata": {
      "byteLimit": 2048000,
      "rowLimit": 10000
     },
     "inputWidgets": {},
     "nuid": "dc3965d4-8dc5-4daf-bf7d-2f8725772994",
     "showTitle": false,
     "tableResultSettingsMap": {},
     "title": ""
    }
   },
   "outputs": [
    {
     "output_type": "display_data",
     "data": {
      "text/html": [
       "<style scoped>\n",
       "  .table-result-container {\n",
       "    max-height: 300px;\n",
       "    overflow: auto;\n",
       "  }\n",
       "  table, th, td {\n",
       "    border: 1px solid black;\n",
       "    border-collapse: collapse;\n",
       "  }\n",
       "  th, td {\n",
       "    padding: 5px;\n",
       "  }\n",
       "  th {\n",
       "    text-align: left;\n",
       "  }\n",
       "</style><div class='table-result-container'><table class='table-result'><thead style='background-color: white'><tr><th>region_id</th><th>sub_region_id</th><th>10</th><th>20</th><th>30</th><th>40</th><th>50</th></tr></thead><tbody><tr><td>10</td><td>80</td><td>366600964</td><td>null</td><td>null</td><td>null</td><td>null</td></tr><tr><td>30</td><td>100</td><td>null</td><td>null</td><td>662011806</td><td>null</td><td>null</td></tr><tr><td>50</td><td>160</td><td>null</td><td>null</td><td>null</td><td>null</td><td>1066287151</td></tr><tr><td>20</td><td>150</td><td>null</td><td>195522410</td><td>null</td><td>null</td><td>null</td></tr><tr><td>30</td><td>170</td><td>null</td><td>null</td><td>275324813</td><td>null</td><td>null</td></tr><tr><td>40</td><td>null</td><td>null</td><td>null</td><td>null</td><td>1106</td><td>null</td></tr><tr><td>50</td><td>40</td><td>null</td><td>null</td><td>null</td><td>null</td><td>241780768</td></tr><tr><td>40</td><td>130</td><td>null</td><td>null</td><td>null</td><td>10918517</td><td>null</td></tr><tr><td>20</td><td>70</td><td>null</td><td>152446923</td><td>null</td><td>null</td><td>null</td></tr><tr><td>40</td><td>50</td><td>null</td><td>null</td><td>null</td><td>543786</td><td>null</td></tr><tr><td>40</td><td>20</td><td>null</td><td>null</td><td>null</td><td>679839</td><td>null</td></tr><tr><td>30</td><td>30</td><td>null</td><td>null</td><td>1918211381</td><td>null</td><td>null</td></tr><tr><td>30</td><td>60</td><td>null</td><td>null</td><td>1672611098</td><td>null</td><td>null</td></tr><tr><td>20</td><td>120</td><td>null</td><td>105791728</td><td>null</td><td>null</td><td>null</td></tr><tr><td>20</td><td>140</td><td>null</td><td>293444913</td><td>null</td><td>null</td><td>null</td></tr><tr><td>10</td><td>10</td><td>648120719</td><td>null</td><td>null</td><td>null</td><td>null</td></tr><tr><td>30</td><td>110</td><td>null</td><td>null</td><td>73212100</td><td>null</td><td>null</td></tr><tr><td>40</td><td>90</td><td>null</td><td>null</td><td>null</td><td>29990396</td><td>null</td></tr></tbody></table></div>"
      ]
     },
     "metadata": {
      "application/vnd.databricks.v1+output": {
       "addedWidgets": {},
       "aggData": [],
       "aggError": "",
       "aggOverflow": false,
       "aggSchema": [],
       "aggSeriesLimitReached": false,
       "aggType": "",
       "arguments": {},
       "columnCustomDisplayInfos": {},
       "data": [
        [
         10,
         80,
         366600964,
         null,
         null,
         null,
         null
        ],
        [
         30,
         100,
         null,
         null,
         662011806,
         null,
         null
        ],
        [
         50,
         160,
         null,
         null,
         null,
         null,
         1066287151
        ],
        [
         20,
         150,
         null,
         195522410,
         null,
         null,
         null
        ],
        [
         30,
         170,
         null,
         null,
         275324813,
         null,
         null
        ],
        [
         40,
         null,
         null,
         null,
         null,
         1106,
         null
        ],
        [
         50,
         40,
         null,
         null,
         null,
         null,
         241780768
        ],
        [
         40,
         130,
         null,
         null,
         null,
         10918517,
         null
        ],
        [
         20,
         70,
         null,
         152446923,
         null,
         null,
         null
        ],
        [
         40,
         50,
         null,
         null,
         null,
         543786,
         null
        ],
        [
         40,
         20,
         null,
         null,
         null,
         679839,
         null
        ],
        [
         30,
         30,
         null,
         null,
         1918211381,
         null,
         null
        ],
        [
         30,
         60,
         null,
         null,
         1672611098,
         null,
         null
        ],
        [
         20,
         120,
         null,
         105791728,
         null,
         null,
         null
        ],
        [
         20,
         140,
         null,
         293444913,
         null,
         null,
         null
        ],
        [
         10,
         10,
         648120719,
         null,
         null,
         null,
         null
        ],
        [
         30,
         110,
         null,
         null,
         73212100,
         null,
         null
        ],
        [
         40,
         90,
         null,
         null,
         null,
         29990396,
         null
        ]
       ],
       "datasetInfos": [],
       "dbfsResultPath": null,
       "isJsonSchema": true,
       "metadata": {},
       "overflow": false,
       "plotOptions": {
        "customPlotOptions": {},
        "displayType": "table",
        "pivotAggregation": null,
        "pivotColumns": null,
        "xColumns": null,
        "yColumns": null
       },
       "removedWidgets": [],
       "schema": [
        {
         "metadata": "{}",
         "name": "region_id",
         "type": "\"integer\""
        },
        {
         "metadata": "{}",
         "name": "sub_region_id",
         "type": "\"integer\""
        },
        {
         "metadata": "{}",
         "name": "10",
         "type": "\"long\""
        },
        {
         "metadata": "{}",
         "name": "20",
         "type": "\"long\""
        },
        {
         "metadata": "{}",
         "name": "30",
         "type": "\"long\""
        },
        {
         "metadata": "{}",
         "name": "40",
         "type": "\"long\""
        },
        {
         "metadata": "{}",
         "name": "50",
         "type": "\"long\""
        }
       ],
       "type": "table"
      }
     },
     "output_type": "display_data"
    }
   ],
   "source": [
    "countries_df \\\n",
    "    .groupBy('region_id','sub_region_id') \\\n",
    "    .pivot('region_id') \\\n",
    "    .agg(sum(col('population'))) \\\n",
    "    .display()\n",
    "\n",
    "\n",
    "    # We can drop region ID from the broupBy method"
   ]
  },
  {
   "cell_type": "code",
   "execution_count": 0,
   "metadata": {
    "application/vnd.databricks.v1+cell": {
     "cellMetadata": {
      "byteLimit": 2048000,
      "rowLimit": 10000
     },
     "inputWidgets": {},
     "nuid": "7ed21d62-693d-48b9-b9f7-c173a9d58fa7",
     "showTitle": false,
     "tableResultSettingsMap": {},
     "title": ""
    }
   },
   "outputs": [
    {
     "output_type": "display_data",
     "data": {
      "text/html": [
       "<style scoped>\n",
       "  .table-result-container {\n",
       "    max-height: 300px;\n",
       "    overflow: auto;\n",
       "  }\n",
       "  table, th, td {\n",
       "    border: 1px solid black;\n",
       "    border-collapse: collapse;\n",
       "  }\n",
       "  th, td {\n",
       "    padding: 5px;\n",
       "  }\n",
       "  th {\n",
       "    text-align: left;\n",
       "  }\n",
       "</style><div class='table-result-container'><table class='table-result'><thead style='background-color: white'><tr><th>sub_region_id</th><th>10</th><th>20</th><th>30</th><th>40</th><th>50</th></tr></thead><tbody><tr><td>140</td><td>null</td><td>293444913</td><td>null</td><td>null</td><td>null</td></tr><tr><td>null</td><td>null</td><td>null</td><td>null</td><td>1106</td><td>null</td></tr><tr><td>40</td><td>null</td><td>null</td><td>null</td><td>null</td><td>241780768</td></tr><tr><td>20</td><td>null</td><td>null</td><td>null</td><td>679839</td><td>null</td></tr><tr><td>120</td><td>null</td><td>105791728</td><td>null</td><td>null</td><td>null</td></tr><tr><td>100</td><td>null</td><td>null</td><td>662011806</td><td>null</td><td>null</td></tr><tr><td>130</td><td>null</td><td>null</td><td>null</td><td>10918517</td><td>null</td></tr><tr><td>10</td><td>648120719</td><td>null</td><td>null</td><td>null</td><td>null</td></tr><tr><td>50</td><td>null</td><td>null</td><td>null</td><td>543786</td><td>null</td></tr><tr><td>80</td><td>366600964</td><td>null</td><td>null</td><td>null</td><td>null</td></tr><tr><td>160</td><td>null</td><td>null</td><td>null</td><td>null</td><td>1066287151</td></tr><tr><td>70</td><td>null</td><td>152446923</td><td>null</td><td>null</td><td>null</td></tr><tr><td>60</td><td>null</td><td>null</td><td>1672611098</td><td>null</td><td>null</td></tr><tr><td>90</td><td>null</td><td>null</td><td>null</td><td>29990396</td><td>null</td></tr><tr><td>170</td><td>null</td><td>null</td><td>275324813</td><td>null</td><td>null</td></tr><tr><td>110</td><td>null</td><td>null</td><td>73212100</td><td>null</td><td>null</td></tr><tr><td>150</td><td>null</td><td>195522410</td><td>null</td><td>null</td><td>null</td></tr><tr><td>30</td><td>null</td><td>null</td><td>1918211381</td><td>null</td><td>null</td></tr></tbody></table></div>"
      ]
     },
     "metadata": {
      "application/vnd.databricks.v1+output": {
       "addedWidgets": {},
       "aggData": [],
       "aggError": "",
       "aggOverflow": false,
       "aggSchema": [],
       "aggSeriesLimitReached": false,
       "aggType": "",
       "arguments": {},
       "columnCustomDisplayInfos": {},
       "data": [
        [
         140,
         null,
         293444913,
         null,
         null,
         null
        ],
        [
         null,
         null,
         null,
         null,
         1106,
         null
        ],
        [
         40,
         null,
         null,
         null,
         null,
         241780768
        ],
        [
         20,
         null,
         null,
         null,
         679839,
         null
        ],
        [
         120,
         null,
         105791728,
         null,
         null,
         null
        ],
        [
         100,
         null,
         null,
         662011806,
         null,
         null
        ],
        [
         130,
         null,
         null,
         null,
         10918517,
         null
        ],
        [
         10,
         648120719,
         null,
         null,
         null,
         null
        ],
        [
         50,
         null,
         null,
         null,
         543786,
         null
        ],
        [
         80,
         366600964,
         null,
         null,
         null,
         null
        ],
        [
         160,
         null,
         null,
         null,
         null,
         1066287151
        ],
        [
         70,
         null,
         152446923,
         null,
         null,
         null
        ],
        [
         60,
         null,
         null,
         1672611098,
         null,
         null
        ],
        [
         90,
         null,
         null,
         null,
         29990396,
         null
        ],
        [
         170,
         null,
         null,
         275324813,
         null,
         null
        ],
        [
         110,
         null,
         null,
         73212100,
         null,
         null
        ],
        [
         150,
         null,
         195522410,
         null,
         null,
         null
        ],
        [
         30,
         null,
         null,
         1918211381,
         null,
         null
        ]
       ],
       "datasetInfos": [],
       "dbfsResultPath": null,
       "isJsonSchema": true,
       "metadata": {},
       "overflow": false,
       "plotOptions": {
        "customPlotOptions": {},
        "displayType": "table",
        "pivotAggregation": null,
        "pivotColumns": null,
        "xColumns": null,
        "yColumns": null
       },
       "removedWidgets": [],
       "schema": [
        {
         "metadata": "{}",
         "name": "sub_region_id",
         "type": "\"integer\""
        },
        {
         "metadata": "{}",
         "name": "10",
         "type": "\"long\""
        },
        {
         "metadata": "{}",
         "name": "20",
         "type": "\"long\""
        },
        {
         "metadata": "{}",
         "name": "30",
         "type": "\"long\""
        },
        {
         "metadata": "{}",
         "name": "40",
         "type": "\"long\""
        },
        {
         "metadata": "{}",
         "name": "50",
         "type": "\"long\""
        }
       ],
       "type": "table"
      }
     },
     "output_type": "display_data"
    }
   ],
   "source": [
    "countries_df \\\n",
    "    .groupBy('sub_region_id') \\\n",
    "    .pivot('region_id') \\\n",
    "    .agg(sum(col('population'))) \\\n",
    "    .display()\n",
    "\n",
    "\n",
    "    # Pivots are good for creating matrices"
   ]
  },
  {
   "cell_type": "code",
   "execution_count": 0,
   "metadata": {
    "application/vnd.databricks.v1+cell": {
     "cellMetadata": {
      "byteLimit": 2048000,
      "rowLimit": 10000
     },
     "inputWidgets": {},
     "nuid": "ed2e8d2b-e5d4-4fc5-b093-2109bd536093",
     "showTitle": false,
     "tableResultSettingsMap": {},
     "title": ""
    }
   },
   "outputs": [
    {
     "output_type": "display_data",
     "data": {
      "text/html": [
       "<style scoped>\n",
       "  .table-result-container {\n",
       "    max-height: 300px;\n",
       "    overflow: auto;\n",
       "  }\n",
       "  table, th, td {\n",
       "    border: 1px solid black;\n",
       "    border-collapse: collapse;\n",
       "  }\n",
       "  th, td {\n",
       "    padding: 5px;\n",
       "  }\n",
       "  th {\n",
       "    text-align: left;\n",
       "  }\n",
       "</style><div class='table-result-container'><table class='table-result'><thead style='background-color: white'><tr><th>country_name</th><th>region_name</th><th>population</th></tr></thead><tbody><tr><td>Afghanistan</td><td>Asia</td><td>38041754</td></tr><tr><td>Albania</td><td>Europe</td><td>2880917</td></tr><tr><td>Algeria</td><td>Africa</td><td>43053054</td></tr><tr><td>American Samoa</td><td>Oceania</td><td>55312</td></tr><tr><td>Andorra</td><td>Europe</td><td>77142</td></tr><tr><td>Angola</td><td>Africa</td><td>31825295</td></tr><tr><td>Anguilla</td><td>America</td><td>14869</td></tr><tr><td>Antarctica</td><td>Oceania</td><td>1106</td></tr><tr><td>Antigua and Barbuda</td><td>America</td><td>97118</td></tr><tr><td>Argentina</td><td>America</td><td>44780677</td></tr><tr><td>Armenia</td><td>Asia</td><td>2957731</td></tr><tr><td>Aruba</td><td>America</td><td>106314</td></tr><tr><td>Australia</td><td>Oceania</td><td>25203198</td></tr><tr><td>Austria</td><td>Europe</td><td>8955102</td></tr><tr><td>Azerbaijan</td><td>Asia</td><td>10047718</td></tr><tr><td>Bahamas</td><td>America</td><td>389482</td></tr><tr><td>Bahrain</td><td>Asia</td><td>1641172</td></tr><tr><td>Bangladesh</td><td>Asia</td><td>163046161</td></tr><tr><td>Barbados</td><td>America</td><td>287025</td></tr><tr><td>Belarus</td><td>Europe</td><td>9452411</td></tr><tr><td>Belgium</td><td>Europe</td><td>11539328</td></tr><tr><td>Belize</td><td>America</td><td>390353</td></tr><tr><td>Benin</td><td>Africa</td><td>11801151</td></tr><tr><td>Bermuda</td><td>America</td><td>62506</td></tr><tr><td>Bhutan</td><td>Asia</td><td>763092</td></tr><tr><td>Bolivia (Plurinational State of)</td><td>America</td><td>11513100</td></tr><tr><td>Bonaire, Sint Eustatius and Saba</td><td>America</td><td>25711</td></tr><tr><td>Bosnia and Herzegovina</td><td>Europe</td><td>3301000</td></tr><tr><td>Botswana</td><td>Africa</td><td>2303697</td></tr><tr><td>Bouvet Island</td><td>America</td><td>0</td></tr><tr><td>Brazil</td><td>America</td><td>211049527</td></tr><tr><td>British Indian Ocean Territory</td><td>Africa</td><td>4000</td></tr><tr><td>Brunei Darussalam</td><td>Asia</td><td>433285</td></tr><tr><td>Bulgaria</td><td>Europe</td><td>7000119</td></tr><tr><td>Burkina Faso</td><td>Africa</td><td>20321378</td></tr><tr><td>Burundi</td><td>Africa</td><td>11530580</td></tr><tr><td>Cabo Verde</td><td>Africa</td><td>549935</td></tr><tr><td>Cambodia</td><td>Asia</td><td>16486542</td></tr><tr><td>Cameroon</td><td>Africa</td><td>25876380</td></tr><tr><td>Canada</td><td>America</td><td>37411047</td></tr><tr><td>Cayman Islands</td><td>America</td><td>64948</td></tr><tr><td>Central African Republic</td><td>Africa</td><td>4745185</td></tr><tr><td>Chad</td><td>Africa</td><td>15946876</td></tr><tr><td>Chile</td><td>America</td><td>18952038</td></tr><tr><td>China</td><td>Asia</td><td>1433783686</td></tr><tr><td>Christmas Island</td><td>Oceania</td><td>1843</td></tr><tr><td>Cocos (Keeling) Islands</td><td>Oceania</td><td>544</td></tr><tr><td>Colombia</td><td>America</td><td>50339443</td></tr><tr><td>Comoros</td><td>Africa</td><td>850886</td></tr><tr><td>Congo</td><td>Africa</td><td>5380508</td></tr><tr><td>Congo, Democratic Republic of the</td><td>Africa</td><td>86790567</td></tr><tr><td>Cook Islands</td><td>Oceania</td><td>17548</td></tr><tr><td>Costa Rica</td><td>America</td><td>5047561</td></tr><tr><td>Croatia</td><td>Europe</td><td>4130304</td></tr><tr><td>Cuba</td><td>America</td><td>11333483</td></tr><tr><td>Cura�ao</td><td>America</td><td>163424</td></tr><tr><td>Cyprus</td><td>Asia</td><td>1198575</td></tr><tr><td>Czechia</td><td>Europe</td><td>10689209</td></tr><tr><td>C�te d'Ivoire</td><td>Africa</td><td>25716544</td></tr><tr><td>Denmark</td><td>Europe</td><td>5771876</td></tr><tr><td>Djibouti</td><td>Africa</td><td>973560</td></tr><tr><td>Dominica</td><td>America</td><td>71808</td></tr><tr><td>Dominican Republic</td><td>America</td><td>10738958</td></tr><tr><td>Ecuador</td><td>America</td><td>17373662</td></tr><tr><td>Egypt</td><td>Africa</td><td>100388073</td></tr><tr><td>El Salvador</td><td>America</td><td>6453553</td></tr><tr><td>Equatorial Guinea</td><td>Africa</td><td>1355986</td></tr><tr><td>Eritrea</td><td>Africa</td><td>3497117</td></tr><tr><td>Estonia</td><td>Europe</td><td>1325648</td></tr><tr><td>Eswatini</td><td>Africa</td><td>1148130</td></tr><tr><td>Ethiopia</td><td>Africa</td><td>112078730</td></tr><tr><td>Falkland Islands (Malvinas)</td><td>America</td><td>3377</td></tr><tr><td>Faroe Islands</td><td>Europe</td><td>48678</td></tr><tr><td>Fiji</td><td>Oceania</td><td>889953</td></tr><tr><td>Finland</td><td>Europe</td><td>5532156</td></tr><tr><td>France</td><td>Europe</td><td>65129728</td></tr><tr><td>French Guiana</td><td>America</td><td>290832</td></tr><tr><td>French Polynesia</td><td>Oceania</td><td>279287</td></tr><tr><td>French Southern Territories</td><td>Africa</td><td>150</td></tr><tr><td>Gabon</td><td>Africa</td><td>2172579</td></tr><tr><td>Gambia</td><td>Africa</td><td>2347706</td></tr><tr><td>Georgia</td><td>Asia</td><td>3996765</td></tr><tr><td>Germany</td><td>Europe</td><td>83517045</td></tr><tr><td>Ghana</td><td>Africa</td><td>30417856</td></tr><tr><td>Gibraltar</td><td>Europe</td><td>33701</td></tr><tr><td>Greece</td><td>Europe</td><td>10473455</td></tr><tr><td>Greenland</td><td>America</td><td>56672</td></tr><tr><td>Grenada</td><td>America</td><td>112003</td></tr><tr><td>Guadeloupe</td><td>America</td><td>400056</td></tr><tr><td>Guam</td><td>Oceania</td><td>167294</td></tr><tr><td>Guatemala</td><td>America</td><td>17581472</td></tr><tr><td>Guernsey</td><td>Europe</td><td>63026</td></tr><tr><td>Guinea</td><td>Africa</td><td>12771246</td></tr><tr><td>Guinea-Bissau</td><td>Africa</td><td>1920922</td></tr><tr><td>Guyana</td><td>America</td><td>782766</td></tr><tr><td>Haiti</td><td>America</td><td>11263077</td></tr><tr><td>Heard Island and McDonald Islands</td><td>Oceania</td><td>0</td></tr><tr><td>Holy See</td><td>Europe</td><td>799</td></tr><tr><td>Honduras</td><td>America</td><td>9746117</td></tr><tr><td>Hong Kong</td><td>Asia</td><td>7436154</td></tr><tr><td>Hungary</td><td>Europe</td><td>9684679</td></tr><tr><td>Iceland</td><td>Europe</td><td>339031</td></tr><tr><td>India</td><td>Asia</td><td>1366417754</td></tr><tr><td>Indonesia</td><td>Asia</td><td>270625568</td></tr><tr><td>Iran (Islamic Republic of)</td><td>Asia</td><td>82913906</td></tr><tr><td>Iraq</td><td>Asia</td><td>39309783</td></tr><tr><td>Ireland</td><td>Europe</td><td>4882495</td></tr><tr><td>Isle of Man</td><td>Europe</td><td>84584</td></tr><tr><td>Israel</td><td>Asia</td><td>8519377</td></tr><tr><td>Italy</td><td>Europe</td><td>60550075</td></tr><tr><td>Jamaica</td><td>America</td><td>2948279</td></tr><tr><td>Japan</td><td>Asia</td><td>126860301</td></tr><tr><td>Jersey</td><td>Europe</td><td>100000</td></tr><tr><td>Jordan</td><td>Asia</td><td>10101694</td></tr><tr><td>Kazakhstan</td><td>Asia</td><td>18551427</td></tr><tr><td>Kenya</td><td>Africa</td><td>52573973</td></tr><tr><td>Kiribati</td><td>Oceania</td><td>117606</td></tr><tr><td>Kuwait</td><td>Asia</td><td>4207083</td></tr><tr><td>Kyrgyzstan</td><td>Asia</td><td>6415850</td></tr><tr><td>Laos, People's Democratic Republic</td><td>Asia</td><td>7169455</td></tr><tr><td>Latvia</td><td>Europe</td><td>1906743</td></tr><tr><td>Lebanon</td><td>Asia</td><td>6855713</td></tr><tr><td>Lesotho</td><td>Africa</td><td>2125268</td></tr><tr><td>Liberia</td><td>Africa</td><td>4937374</td></tr><tr><td>Libya</td><td>Africa</td><td>6777452</td></tr><tr><td>Liechtenstein</td><td>Europe</td><td>38019</td></tr><tr><td>Lithuania</td><td>Europe</td><td>2759627</td></tr><tr><td>Luxembourg</td><td>Europe</td><td>615729</td></tr><tr><td>Macau</td><td>Asia</td><td>640445</td></tr><tr><td>Madagascar</td><td>Africa</td><td>26969307</td></tr><tr><td>Malawi</td><td>Africa</td><td>18628747</td></tr><tr><td>Malaysia</td><td>Asia</td><td>31949777</td></tr><tr><td>Maldives</td><td>Asia</td><td>530953</td></tr><tr><td>Mali</td><td>Africa</td><td>19658031</td></tr><tr><td>Malta</td><td>Europe</td><td>440372</td></tr><tr><td>Marshall Islands</td><td>Oceania</td><td>58791</td></tr><tr><td>Martinique</td><td>America</td><td>375554</td></tr><tr><td>Mauritania</td><td>Africa</td><td>4525696</td></tr><tr><td>Mauritius</td><td>Africa</td><td>1269668</td></tr><tr><td>Mayotte</td><td>Africa</td><td>266150</td></tr><tr><td>Mexico</td><td>America</td><td>127575529</td></tr><tr><td>Micronesia (Federated States of)</td><td>Oceania</td><td>113815</td></tr><tr><td>Moldova, Republic of</td><td>Europe</td><td>4043263</td></tr><tr><td>Monaco</td><td>Europe</td><td>38964</td></tr><tr><td>Mongolia</td><td>Asia</td><td>3225167</td></tr><tr><td>Montenegro</td><td>Europe</td><td>627987</td></tr><tr><td>Montserrat</td><td>America</td><td>4989</td></tr><tr><td>Morocco</td><td>Africa</td><td>36471769</td></tr><tr><td>Mozambique</td><td>Africa</td><td>30366036</td></tr><tr><td>Myanmar</td><td>Asia</td><td>54045420</td></tr><tr><td>Namibia</td><td>Africa</td><td>2494530</td></tr><tr><td>Nauru</td><td>Oceania</td><td>10756</td></tr><tr><td>Nepal</td><td>Asia</td><td>28608710</td></tr><tr><td>Netherlands</td><td>Europe</td><td>17097130</td></tr><tr><td>New Caledonia</td><td>Oceania</td><td>282750</td></tr><tr><td>New Zealand</td><td>Oceania</td><td>4783063</td></tr><tr><td>Nicaragua</td><td>America</td><td>6545502</td></tr><tr><td>Niger</td><td>Africa</td><td>23310715</td></tr><tr><td>Nigeria</td><td>Africa</td><td>200963599</td></tr><tr><td>Niue</td><td>Oceania</td><td>1615</td></tr><tr><td>Norfolk Island</td><td>Oceania</td><td>1748</td></tr><tr><td>North Korea (Democratic People's Republic of)</td><td>Asia</td><td>25666161</td></tr><tr><td>North Macedonia</td><td>Europe</td><td>2083459</td></tr><tr><td>Northern Mariana Islands</td><td>Oceania</td><td>57216</td></tr><tr><td>Norway</td><td>Europe</td><td>5378857</td></tr><tr><td>Oman</td><td>Asia</td><td>4974986</td></tr><tr><td>Pakistan</td><td>Asia</td><td>216565318</td></tr><tr><td>Palau</td><td>Oceania</td><td>18008</td></tr><tr><td>Palestine, State of</td><td>Asia</td><td>4981420</td></tr><tr><td>Panama</td><td>America</td><td>4246439</td></tr><tr><td>Papua New Guinea</td><td>Oceania</td><td>8776109</td></tr><tr><td>Paraguay</td><td>America</td><td>7044636</td></tr><tr><td>Peru</td><td>America</td><td>32510453</td></tr><tr><td>Philippines</td><td>Asia</td><td>108116615</td></tr><tr><td>Pitcairn</td><td>Oceania</td><td>68</td></tr><tr><td>Poland</td><td>Europe</td><td>37887768</td></tr><tr><td>Portugal</td><td>Europe</td><td>10226187</td></tr><tr><td>Puerto Rico</td><td>America</td><td>2933408</td></tr><tr><td>Qatar</td><td>Asia</td><td>2832067</td></tr><tr><td>Romania</td><td>Europe</td><td>19364557</td></tr><tr><td>Russian Federation</td><td>Europe</td><td>145872256</td></tr><tr><td>Rwanda</td><td>Africa</td><td>12626950</td></tr><tr><td>R�union</td><td>Africa</td><td>888927</td></tr><tr><td>Saint Barth�lemy</td><td>America</td><td>9847</td></tr><tr><td>Saint Helena, Ascension and Tristan da Cunha</td><td>Africa</td><td>5633</td></tr><tr><td>Saint Kitts and Nevis</td><td>America</td><td>52823</td></tr><tr><td>Saint Lucia</td><td>America</td><td>182790</td></tr><tr><td>Saint Martin (French part)</td><td>America</td><td>38002</td></tr><tr><td>Saint Pierre and Miquelon</td><td>America</td><td>5822</td></tr><tr><td>Saint Vincent and the Grenadines</td><td>America</td><td>110589</td></tr><tr><td>Samoa</td><td>Oceania</td><td>197097</td></tr><tr><td>San Marino</td><td>Europe</td><td>33860</td></tr><tr><td>Sao Tome and Principe</td><td>Africa</td><td>215056</td></tr><tr><td>Saudi Arabia</td><td>Asia</td><td>34268528</td></tr><tr><td>Senegal</td><td>Africa</td><td>16296364</td></tr><tr><td>Serbia</td><td>Europe</td><td>8772235</td></tr><tr><td>Seychelles</td><td>Africa</td><td>97739</td></tr><tr><td>Sierra Leone</td><td>Africa</td><td>7813215</td></tr><tr><td>Singapore</td><td>Asia</td><td>5804337</td></tr><tr><td>Sint Maarten (Dutch part)</td><td>America</td><td>42388</td></tr><tr><td>Slovakia</td><td>Europe</td><td>5457013</td></tr><tr><td>Slovenia</td><td>Europe</td><td>2078654</td></tr><tr><td>Solomon Islands</td><td>Oceania</td><td>669823</td></tr><tr><td>Somalia</td><td>Africa</td><td>15442905</td></tr><tr><td>South Africa</td><td>Africa</td><td>58558270</td></tr><tr><td>South Georgia and the South Sandwich Islands</td><td>America</td><td>30</td></tr><tr><td>South Korea (Republic of)</td><td>Asia</td><td>51225308</td></tr><tr><td>South Sudan</td><td>Africa</td><td>11062113</td></tr><tr><td>Spain</td><td>Europe</td><td>46736776</td></tr><tr><td>Sri Lanka</td><td>Asia</td><td>21323733</td></tr><tr><td>Sudan</td><td>Africa</td><td>42813238</td></tr><tr><td>Suriname</td><td>America</td><td>581372</td></tr><tr><td>Svalbard and Jan Mayen</td><td>Europe</td><td>2667</td></tr><tr><td>Sweden</td><td>Europe</td><td>10036379</td></tr><tr><td>Switzerland</td><td>Europe</td><td>8591365</td></tr><tr><td>Syrian Arab Republic</td><td>Asia</td><td>17070135</td></tr><tr><td>Taiwan (Province of China)</td><td>Asia</td><td>23773876</td></tr><tr><td>Tajikistan</td><td>Asia</td><td>9321018</td></tr><tr><td>Tanzania (United Republic of)</td><td>Africa</td><td>58005463</td></tr><tr><td>Thailand</td><td>Asia</td><td>69625582</td></tr><tr><td>Timor-Leste</td><td>Asia</td><td>1293119</td></tr><tr><td>Togo</td><td>Africa</td><td>8082366</td></tr><tr><td>Tokelau</td><td>Oceania</td><td>1340</td></tr><tr><td>Tonga</td><td>Oceania</td><td>104494</td></tr><tr><td>Trinidad and Tobago</td><td>America</td><td>1394973</td></tr><tr><td>Tunisia</td><td>Africa</td><td>11694719</td></tr><tr><td>Turkey</td><td>Asia</td><td>83429615</td></tr><tr><td>Turkmenistan</td><td>Asia</td><td>5942089</td></tr><tr><td>Turks and Caicos Islands</td><td>America</td><td>38191</td></tr><tr><td>Tuvalu</td><td>Oceania</td><td>11646</td></tr><tr><td>Uganda</td><td>Africa</td><td>44269594</td></tr><tr><td>Ukraine</td><td>Europe</td><td>43993638</td></tr><tr><td>United Arab Emirates</td><td>Asia</td><td>9770529</td></tr><tr><td>United Kingdom of Great Britain and Northern Ireland</td><td>Europe</td><td>67530172</td></tr><tr><td>United States Minor Outlying Islands</td><td>Oceania</td><td>300</td></tr><tr><td>United States of America</td><td>America</td><td>329064917</td></tr><tr><td>Uruguay</td><td>America</td><td>3461734</td></tr><tr><td>Uzbekistan</td><td>Asia</td><td>32981716</td></tr><tr><td>Vanuatu</td><td>Oceania</td><td>299882</td></tr><tr><td>Venezuela (Bolivarian Republic of)</td><td>America</td><td>28515829</td></tr><tr><td>Vietnam</td><td>Asia</td><td>96462106</td></tr><tr><td>Virgin Islands (British)</td><td>America</td><td>30030</td></tr><tr><td>Virgin Islands (U.S.)</td><td>America</td><td>104578</td></tr><tr><td>Wallis and Futuna</td><td>Oceania</td><td>11432</td></tr><tr><td>Western Sahara</td><td>Africa</td><td>582463</td></tr><tr><td>Yemen</td><td>Asia</td><td>29161922</td></tr><tr><td>Zambia</td><td>Africa</td><td>17861030</td></tr><tr><td>Zimbabwe</td><td>Africa</td><td>14645468</td></tr><tr><td>�land Islands</td><td>Europe</td><td>29789</td></tr></tbody></table></div>"
      ]
     },
     "metadata": {
      "application/vnd.databricks.v1+output": {
       "addedWidgets": {},
       "aggData": [],
       "aggError": "",
       "aggOverflow": false,
       "aggSchema": [],
       "aggSeriesLimitReached": false,
       "aggType": "",
       "arguments": {},
       "columnCustomDisplayInfos": {},
       "data": [
        [
         "Afghanistan",
         "Asia",
         38041754
        ],
        [
         "Albania",
         "Europe",
         2880917
        ],
        [
         "Algeria",
         "Africa",
         43053054
        ],
        [
         "American Samoa",
         "Oceania",
         55312
        ],
        [
         "Andorra",
         "Europe",
         77142
        ],
        [
         "Angola",
         "Africa",
         31825295
        ],
        [
         "Anguilla",
         "America",
         14869
        ],
        [
         "Antarctica",
         "Oceania",
         1106
        ],
        [
         "Antigua and Barbuda",
         "America",
         97118
        ],
        [
         "Argentina",
         "America",
         44780677
        ],
        [
         "Armenia",
         "Asia",
         2957731
        ],
        [
         "Aruba",
         "America",
         106314
        ],
        [
         "Australia",
         "Oceania",
         25203198
        ],
        [
         "Austria",
         "Europe",
         8955102
        ],
        [
         "Azerbaijan",
         "Asia",
         10047718
        ],
        [
         "Bahamas",
         "America",
         389482
        ],
        [
         "Bahrain",
         "Asia",
         1641172
        ],
        [
         "Bangladesh",
         "Asia",
         163046161
        ],
        [
         "Barbados",
         "America",
         287025
        ],
        [
         "Belarus",
         "Europe",
         9452411
        ],
        [
         "Belgium",
         "Europe",
         11539328
        ],
        [
         "Belize",
         "America",
         390353
        ],
        [
         "Benin",
         "Africa",
         11801151
        ],
        [
         "Bermuda",
         "America",
         62506
        ],
        [
         "Bhutan",
         "Asia",
         763092
        ],
        [
         "Bolivia (Plurinational State of)",
         "America",
         11513100
        ],
        [
         "Bonaire, Sint Eustatius and Saba",
         "America",
         25711
        ],
        [
         "Bosnia and Herzegovina",
         "Europe",
         3301000
        ],
        [
         "Botswana",
         "Africa",
         2303697
        ],
        [
         "Bouvet Island",
         "America",
         0
        ],
        [
         "Brazil",
         "America",
         211049527
        ],
        [
         "British Indian Ocean Territory",
         "Africa",
         4000
        ],
        [
         "Brunei Darussalam",
         "Asia",
         433285
        ],
        [
         "Bulgaria",
         "Europe",
         7000119
        ],
        [
         "Burkina Faso",
         "Africa",
         20321378
        ],
        [
         "Burundi",
         "Africa",
         11530580
        ],
        [
         "Cabo Verde",
         "Africa",
         549935
        ],
        [
         "Cambodia",
         "Asia",
         16486542
        ],
        [
         "Cameroon",
         "Africa",
         25876380
        ],
        [
         "Canada",
         "America",
         37411047
        ],
        [
         "Cayman Islands",
         "America",
         64948
        ],
        [
         "Central African Republic",
         "Africa",
         4745185
        ],
        [
         "Chad",
         "Africa",
         15946876
        ],
        [
         "Chile",
         "America",
         18952038
        ],
        [
         "China",
         "Asia",
         1433783686
        ],
        [
         "Christmas Island",
         "Oceania",
         1843
        ],
        [
         "Cocos (Keeling) Islands",
         "Oceania",
         544
        ],
        [
         "Colombia",
         "America",
         50339443
        ],
        [
         "Comoros",
         "Africa",
         850886
        ],
        [
         "Congo",
         "Africa",
         5380508
        ],
        [
         "Congo, Democratic Republic of the",
         "Africa",
         86790567
        ],
        [
         "Cook Islands",
         "Oceania",
         17548
        ],
        [
         "Costa Rica",
         "America",
         5047561
        ],
        [
         "Croatia",
         "Europe",
         4130304
        ],
        [
         "Cuba",
         "America",
         11333483
        ],
        [
         "Cura�ao",
         "America",
         163424
        ],
        [
         "Cyprus",
         "Asia",
         1198575
        ],
        [
         "Czechia",
         "Europe",
         10689209
        ],
        [
         "C�te d'Ivoire",
         "Africa",
         25716544
        ],
        [
         "Denmark",
         "Europe",
         5771876
        ],
        [
         "Djibouti",
         "Africa",
         973560
        ],
        [
         "Dominica",
         "America",
         71808
        ],
        [
         "Dominican Republic",
         "America",
         10738958
        ],
        [
         "Ecuador",
         "America",
         17373662
        ],
        [
         "Egypt",
         "Africa",
         100388073
        ],
        [
         "El Salvador",
         "America",
         6453553
        ],
        [
         "Equatorial Guinea",
         "Africa",
         1355986
        ],
        [
         "Eritrea",
         "Africa",
         3497117
        ],
        [
         "Estonia",
         "Europe",
         1325648
        ],
        [
         "Eswatini",
         "Africa",
         1148130
        ],
        [
         "Ethiopia",
         "Africa",
         112078730
        ],
        [
         "Falkland Islands (Malvinas)",
         "America",
         3377
        ],
        [
         "Faroe Islands",
         "Europe",
         48678
        ],
        [
         "Fiji",
         "Oceania",
         889953
        ],
        [
         "Finland",
         "Europe",
         5532156
        ],
        [
         "France",
         "Europe",
         65129728
        ],
        [
         "French Guiana",
         "America",
         290832
        ],
        [
         "French Polynesia",
         "Oceania",
         279287
        ],
        [
         "French Southern Territories",
         "Africa",
         150
        ],
        [
         "Gabon",
         "Africa",
         2172579
        ],
        [
         "Gambia",
         "Africa",
         2347706
        ],
        [
         "Georgia",
         "Asia",
         3996765
        ],
        [
         "Germany",
         "Europe",
         83517045
        ],
        [
         "Ghana",
         "Africa",
         30417856
        ],
        [
         "Gibraltar",
         "Europe",
         33701
        ],
        [
         "Greece",
         "Europe",
         10473455
        ],
        [
         "Greenland",
         "America",
         56672
        ],
        [
         "Grenada",
         "America",
         112003
        ],
        [
         "Guadeloupe",
         "America",
         400056
        ],
        [
         "Guam",
         "Oceania",
         167294
        ],
        [
         "Guatemala",
         "America",
         17581472
        ],
        [
         "Guernsey",
         "Europe",
         63026
        ],
        [
         "Guinea",
         "Africa",
         12771246
        ],
        [
         "Guinea-Bissau",
         "Africa",
         1920922
        ],
        [
         "Guyana",
         "America",
         782766
        ],
        [
         "Haiti",
         "America",
         11263077
        ],
        [
         "Heard Island and McDonald Islands",
         "Oceania",
         0
        ],
        [
         "Holy See",
         "Europe",
         799
        ],
        [
         "Honduras",
         "America",
         9746117
        ],
        [
         "Hong Kong",
         "Asia",
         7436154
        ],
        [
         "Hungary",
         "Europe",
         9684679
        ],
        [
         "Iceland",
         "Europe",
         339031
        ],
        [
         "India",
         "Asia",
         1366417754
        ],
        [
         "Indonesia",
         "Asia",
         270625568
        ],
        [
         "Iran (Islamic Republic of)",
         "Asia",
         82913906
        ],
        [
         "Iraq",
         "Asia",
         39309783
        ],
        [
         "Ireland",
         "Europe",
         4882495
        ],
        [
         "Isle of Man",
         "Europe",
         84584
        ],
        [
         "Israel",
         "Asia",
         8519377
        ],
        [
         "Italy",
         "Europe",
         60550075
        ],
        [
         "Jamaica",
         "America",
         2948279
        ],
        [
         "Japan",
         "Asia",
         126860301
        ],
        [
         "Jersey",
         "Europe",
         100000
        ],
        [
         "Jordan",
         "Asia",
         10101694
        ],
        [
         "Kazakhstan",
         "Asia",
         18551427
        ],
        [
         "Kenya",
         "Africa",
         52573973
        ],
        [
         "Kiribati",
         "Oceania",
         117606
        ],
        [
         "Kuwait",
         "Asia",
         4207083
        ],
        [
         "Kyrgyzstan",
         "Asia",
         6415850
        ],
        [
         "Laos, People's Democratic Republic",
         "Asia",
         7169455
        ],
        [
         "Latvia",
         "Europe",
         1906743
        ],
        [
         "Lebanon",
         "Asia",
         6855713
        ],
        [
         "Lesotho",
         "Africa",
         2125268
        ],
        [
         "Liberia",
         "Africa",
         4937374
        ],
        [
         "Libya",
         "Africa",
         6777452
        ],
        [
         "Liechtenstein",
         "Europe",
         38019
        ],
        [
         "Lithuania",
         "Europe",
         2759627
        ],
        [
         "Luxembourg",
         "Europe",
         615729
        ],
        [
         "Macau",
         "Asia",
         640445
        ],
        [
         "Madagascar",
         "Africa",
         26969307
        ],
        [
         "Malawi",
         "Africa",
         18628747
        ],
        [
         "Malaysia",
         "Asia",
         31949777
        ],
        [
         "Maldives",
         "Asia",
         530953
        ],
        [
         "Mali",
         "Africa",
         19658031
        ],
        [
         "Malta",
         "Europe",
         440372
        ],
        [
         "Marshall Islands",
         "Oceania",
         58791
        ],
        [
         "Martinique",
         "America",
         375554
        ],
        [
         "Mauritania",
         "Africa",
         4525696
        ],
        [
         "Mauritius",
         "Africa",
         1269668
        ],
        [
         "Mayotte",
         "Africa",
         266150
        ],
        [
         "Mexico",
         "America",
         127575529
        ],
        [
         "Micronesia (Federated States of)",
         "Oceania",
         113815
        ],
        [
         "Moldova, Republic of",
         "Europe",
         4043263
        ],
        [
         "Monaco",
         "Europe",
         38964
        ],
        [
         "Mongolia",
         "Asia",
         3225167
        ],
        [
         "Montenegro",
         "Europe",
         627987
        ],
        [
         "Montserrat",
         "America",
         4989
        ],
        [
         "Morocco",
         "Africa",
         36471769
        ],
        [
         "Mozambique",
         "Africa",
         30366036
        ],
        [
         "Myanmar",
         "Asia",
         54045420
        ],
        [
         "Namibia",
         "Africa",
         2494530
        ],
        [
         "Nauru",
         "Oceania",
         10756
        ],
        [
         "Nepal",
         "Asia",
         28608710
        ],
        [
         "Netherlands",
         "Europe",
         17097130
        ],
        [
         "New Caledonia",
         "Oceania",
         282750
        ],
        [
         "New Zealand",
         "Oceania",
         4783063
        ],
        [
         "Nicaragua",
         "America",
         6545502
        ],
        [
         "Niger",
         "Africa",
         23310715
        ],
        [
         "Nigeria",
         "Africa",
         200963599
        ],
        [
         "Niue",
         "Oceania",
         1615
        ],
        [
         "Norfolk Island",
         "Oceania",
         1748
        ],
        [
         "North Korea (Democratic People's Republic of)",
         "Asia",
         25666161
        ],
        [
         "North Macedonia",
         "Europe",
         2083459
        ],
        [
         "Northern Mariana Islands",
         "Oceania",
         57216
        ],
        [
         "Norway",
         "Europe",
         5378857
        ],
        [
         "Oman",
         "Asia",
         4974986
        ],
        [
         "Pakistan",
         "Asia",
         216565318
        ],
        [
         "Palau",
         "Oceania",
         18008
        ],
        [
         "Palestine, State of",
         "Asia",
         4981420
        ],
        [
         "Panama",
         "America",
         4246439
        ],
        [
         "Papua New Guinea",
         "Oceania",
         8776109
        ],
        [
         "Paraguay",
         "America",
         7044636
        ],
        [
         "Peru",
         "America",
         32510453
        ],
        [
         "Philippines",
         "Asia",
         108116615
        ],
        [
         "Pitcairn",
         "Oceania",
         68
        ],
        [
         "Poland",
         "Europe",
         37887768
        ],
        [
         "Portugal",
         "Europe",
         10226187
        ],
        [
         "Puerto Rico",
         "America",
         2933408
        ],
        [
         "Qatar",
         "Asia",
         2832067
        ],
        [
         "Romania",
         "Europe",
         19364557
        ],
        [
         "Russian Federation",
         "Europe",
         145872256
        ],
        [
         "Rwanda",
         "Africa",
         12626950
        ],
        [
         "R�union",
         "Africa",
         888927
        ],
        [
         "Saint Barth�lemy",
         "America",
         9847
        ],
        [
         "Saint Helena, Ascension and Tristan da Cunha",
         "Africa",
         5633
        ],
        [
         "Saint Kitts and Nevis",
         "America",
         52823
        ],
        [
         "Saint Lucia",
         "America",
         182790
        ],
        [
         "Saint Martin (French part)",
         "America",
         38002
        ],
        [
         "Saint Pierre and Miquelon",
         "America",
         5822
        ],
        [
         "Saint Vincent and the Grenadines",
         "America",
         110589
        ],
        [
         "Samoa",
         "Oceania",
         197097
        ],
        [
         "San Marino",
         "Europe",
         33860
        ],
        [
         "Sao Tome and Principe",
         "Africa",
         215056
        ],
        [
         "Saudi Arabia",
         "Asia",
         34268528
        ],
        [
         "Senegal",
         "Africa",
         16296364
        ],
        [
         "Serbia",
         "Europe",
         8772235
        ],
        [
         "Seychelles",
         "Africa",
         97739
        ],
        [
         "Sierra Leone",
         "Africa",
         7813215
        ],
        [
         "Singapore",
         "Asia",
         5804337
        ],
        [
         "Sint Maarten (Dutch part)",
         "America",
         42388
        ],
        [
         "Slovakia",
         "Europe",
         5457013
        ],
        [
         "Slovenia",
         "Europe",
         2078654
        ],
        [
         "Solomon Islands",
         "Oceania",
         669823
        ],
        [
         "Somalia",
         "Africa",
         15442905
        ],
        [
         "South Africa",
         "Africa",
         58558270
        ],
        [
         "South Georgia and the South Sandwich Islands",
         "America",
         30
        ],
        [
         "South Korea (Republic of)",
         "Asia",
         51225308
        ],
        [
         "South Sudan",
         "Africa",
         11062113
        ],
        [
         "Spain",
         "Europe",
         46736776
        ],
        [
         "Sri Lanka",
         "Asia",
         21323733
        ],
        [
         "Sudan",
         "Africa",
         42813238
        ],
        [
         "Suriname",
         "America",
         581372
        ],
        [
         "Svalbard and Jan Mayen",
         "Europe",
         2667
        ],
        [
         "Sweden",
         "Europe",
         10036379
        ],
        [
         "Switzerland",
         "Europe",
         8591365
        ],
        [
         "Syrian Arab Republic",
         "Asia",
         17070135
        ],
        [
         "Taiwan (Province of China)",
         "Asia",
         23773876
        ],
        [
         "Tajikistan",
         "Asia",
         9321018
        ],
        [
         "Tanzania (United Republic of)",
         "Africa",
         58005463
        ],
        [
         "Thailand",
         "Asia",
         69625582
        ],
        [
         "Timor-Leste",
         "Asia",
         1293119
        ],
        [
         "Togo",
         "Africa",
         8082366
        ],
        [
         "Tokelau",
         "Oceania",
         1340
        ],
        [
         "Tonga",
         "Oceania",
         104494
        ],
        [
         "Trinidad and Tobago",
         "America",
         1394973
        ],
        [
         "Tunisia",
         "Africa",
         11694719
        ],
        [
         "Turkey",
         "Asia",
         83429615
        ],
        [
         "Turkmenistan",
         "Asia",
         5942089
        ],
        [
         "Turks and Caicos Islands",
         "America",
         38191
        ],
        [
         "Tuvalu",
         "Oceania",
         11646
        ],
        [
         "Uganda",
         "Africa",
         44269594
        ],
        [
         "Ukraine",
         "Europe",
         43993638
        ],
        [
         "United Arab Emirates",
         "Asia",
         9770529
        ],
        [
         "United Kingdom of Great Britain and Northern Ireland",
         "Europe",
         67530172
        ],
        [
         "United States Minor Outlying Islands",
         "Oceania",
         300
        ],
        [
         "United States of America",
         "America",
         329064917
        ],
        [
         "Uruguay",
         "America",
         3461734
        ],
        [
         "Uzbekistan",
         "Asia",
         32981716
        ],
        [
         "Vanuatu",
         "Oceania",
         299882
        ],
        [
         "Venezuela (Bolivarian Republic of)",
         "America",
         28515829
        ],
        [
         "Vietnam",
         "Asia",
         96462106
        ],
        [
         "Virgin Islands (British)",
         "America",
         30030
        ],
        [
         "Virgin Islands (U.S.)",
         "America",
         104578
        ],
        [
         "Wallis and Futuna",
         "Oceania",
         11432
        ],
        [
         "Western Sahara",
         "Africa",
         582463
        ],
        [
         "Yemen",
         "Asia",
         29161922
        ],
        [
         "Zambia",
         "Africa",
         17861030
        ],
        [
         "Zimbabwe",
         "Africa",
         14645468
        ],
        [
         "�land Islands",
         "Europe",
         29789
        ]
       ],
       "datasetInfos": [],
       "dbfsResultPath": null,
       "isJsonSchema": true,
       "metadata": {},
       "overflow": false,
       "plotOptions": {
        "customPlotOptions": {},
        "displayType": "table",
        "pivotAggregation": null,
        "pivotColumns": null,
        "xColumns": null,
        "yColumns": null
       },
       "removedWidgets": [],
       "schema": [
        {
         "metadata": "{}",
         "name": "country_name",
         "type": "\"string\""
        },
        {
         "metadata": "{}",
         "name": "region_name",
         "type": "\"string\""
        },
        {
         "metadata": "{}",
         "name": "population",
         "type": "\"integer\""
        }
       ],
       "type": "table"
      }
     },
     "output_type": "display_data"
    }
   ],
   "source": [
    "population_df = countries_df \\\n",
    "    .join(regions_df, countries_df['region_id'] == regions_df['id'], how='left') \\\n",
    "    .select(\n",
    "        countries_df['name'].alias('country_name'),\n",
    "        regions_df['name'].alias('region_name'),\n",
    "        countries_df['population']\n",
    "    ) \\\n",
    " \n",
    "population_df.display()"
   ]
  },
  {
   "cell_type": "code",
   "execution_count": 0,
   "metadata": {
    "application/vnd.databricks.v1+cell": {
     "cellMetadata": {
      "byteLimit": 2048000,
      "rowLimit": 10000
     },
     "inputWidgets": {},
     "nuid": "c32f0873-072a-4f8b-a9e8-fddb725d8094",
     "showTitle": false,
     "tableResultSettingsMap": {},
     "title": ""
    }
   },
   "outputs": [
    {
     "output_type": "display_data",
     "data": {
      "text/html": [
       "<style scoped>\n",
       "  .table-result-container {\n",
       "    max-height: 300px;\n",
       "    overflow: auto;\n",
       "  }\n",
       "  table, th, td {\n",
       "    border: 1px solid black;\n",
       "    border-collapse: collapse;\n",
       "  }\n",
       "  th, td {\n",
       "    padding: 5px;\n",
       "  }\n",
       "  th {\n",
       "    text-align: left;\n",
       "  }\n",
       "</style><div class='table-result-container'><table class='table-result'><thead style='background-color: white'><tr><th>region_name</th><th>population</th></tr></thead><tbody><tr><td>Asia</td><td>4601371198</td></tr><tr><td>Africa</td><td>1308067919</td></tr><tr><td>America</td><td>1014721683</td></tr><tr><td>Europe</td><td>747205974</td></tr><tr><td>Oceania</td><td>42133644</td></tr></tbody></table></div>"
      ]
     },
     "metadata": {
      "application/vnd.databricks.v1+output": {
       "addedWidgets": {},
       "aggData": [],
       "aggError": "",
       "aggOverflow": false,
       "aggSchema": [],
       "aggSeriesLimitReached": false,
       "aggType": "",
       "arguments": {},
       "columnCustomDisplayInfos": {},
       "data": [
        [
         "Asia",
         4601371198
        ],
        [
         "Africa",
         1308067919
        ],
        [
         "America",
         1014721683
        ],
        [
         "Europe",
         747205974
        ],
        [
         "Oceania",
         42133644
        ]
       ],
       "datasetInfos": [],
       "dbfsResultPath": null,
       "isJsonSchema": true,
       "metadata": {},
       "overflow": false,
       "plotOptions": {
        "customPlotOptions": {},
        "displayType": "table",
        "pivotAggregation": null,
        "pivotColumns": null,
        "xColumns": null,
        "yColumns": null
       },
       "removedWidgets": [],
       "schema": [
        {
         "metadata": "{}",
         "name": "region_name",
         "type": "\"string\""
        },
        {
         "metadata": "{}",
         "name": "population",
         "type": "\"long\""
        }
       ],
       "type": "table"
      }
     },
     "output_type": "display_data"
    }
   ],
   "source": [
    "population_df \\\n",
    "    .groupBy('region_name') \\\n",
    "    .agg(sum('population').alias('population')) \\\n",
    "    .orderBy('population', ascending=False) \\\n",
    "    .display()  \n"
   ]
  },
  {
   "cell_type": "code",
   "execution_count": 0,
   "metadata": {
    "application/vnd.databricks.v1+cell": {
     "cellMetadata": {
      "byteLimit": 2048000,
      "rowLimit": 10000
     },
     "inputWidgets": {},
     "nuid": "6527fdc8-3bfd-4ba3-998f-71e46f0ea08a",
     "showTitle": false,
     "tableResultSettingsMap": {},
     "title": ""
    }
   },
   "outputs": [
    {
     "output_type": "display_data",
     "data": {
      "text/html": [
       "<style scoped>\n",
       "  .table-result-container {\n",
       "    max-height: 300px;\n",
       "    overflow: auto;\n",
       "  }\n",
       "  table, th, td {\n",
       "    border: 1px solid black;\n",
       "    border-collapse: collapse;\n",
       "  }\n",
       "  th, td {\n",
       "    padding: 5px;\n",
       "  }\n",
       "  th {\n",
       "    text-align: left;\n",
       "  }\n",
       "</style><div class='table-result-container'><table class='table-result'><thead style='background-color: white'><tr><th>country_name</th><th>Africa</th><th>America</th><th>Asia</th><th>Europe</th><th>Oceania</th></tr></thead><tbody><tr><td>Afghanistan</td><td>null</td><td>null</td><td>38041754</td><td>null</td><td>null</td></tr><tr><td>Albania</td><td>null</td><td>null</td><td>null</td><td>2880917</td><td>null</td></tr><tr><td>Algeria</td><td>43053054</td><td>null</td><td>null</td><td>null</td><td>null</td></tr><tr><td>American Samoa</td><td>null</td><td>null</td><td>null</td><td>null</td><td>55312</td></tr><tr><td>Andorra</td><td>null</td><td>null</td><td>null</td><td>77142</td><td>null</td></tr><tr><td>Angola</td><td>31825295</td><td>null</td><td>null</td><td>null</td><td>null</td></tr><tr><td>Anguilla</td><td>null</td><td>14869</td><td>null</td><td>null</td><td>null</td></tr><tr><td>Antarctica</td><td>null</td><td>null</td><td>null</td><td>null</td><td>1106</td></tr><tr><td>Antigua and Barbuda</td><td>null</td><td>97118</td><td>null</td><td>null</td><td>null</td></tr><tr><td>Argentina</td><td>null</td><td>44780677</td><td>null</td><td>null</td><td>null</td></tr><tr><td>Armenia</td><td>null</td><td>null</td><td>2957731</td><td>null</td><td>null</td></tr><tr><td>Aruba</td><td>null</td><td>106314</td><td>null</td><td>null</td><td>null</td></tr><tr><td>Australia</td><td>null</td><td>null</td><td>null</td><td>null</td><td>25203198</td></tr><tr><td>Austria</td><td>null</td><td>null</td><td>null</td><td>8955102</td><td>null</td></tr><tr><td>Azerbaijan</td><td>null</td><td>null</td><td>10047718</td><td>null</td><td>null</td></tr><tr><td>Bahamas</td><td>null</td><td>389482</td><td>null</td><td>null</td><td>null</td></tr><tr><td>Bahrain</td><td>null</td><td>null</td><td>1641172</td><td>null</td><td>null</td></tr><tr><td>Bangladesh</td><td>null</td><td>null</td><td>163046161</td><td>null</td><td>null</td></tr><tr><td>Barbados</td><td>null</td><td>287025</td><td>null</td><td>null</td><td>null</td></tr><tr><td>Belarus</td><td>null</td><td>null</td><td>null</td><td>9452411</td><td>null</td></tr><tr><td>Belgium</td><td>null</td><td>null</td><td>null</td><td>11539328</td><td>null</td></tr><tr><td>Belize</td><td>null</td><td>390353</td><td>null</td><td>null</td><td>null</td></tr><tr><td>Benin</td><td>11801151</td><td>null</td><td>null</td><td>null</td><td>null</td></tr><tr><td>Bermuda</td><td>null</td><td>62506</td><td>null</td><td>null</td><td>null</td></tr><tr><td>Bhutan</td><td>null</td><td>null</td><td>763092</td><td>null</td><td>null</td></tr><tr><td>Bolivia (Plurinational State of)</td><td>null</td><td>11513100</td><td>null</td><td>null</td><td>null</td></tr><tr><td>Bonaire, Sint Eustatius and Saba</td><td>null</td><td>25711</td><td>null</td><td>null</td><td>null</td></tr><tr><td>Bosnia and Herzegovina</td><td>null</td><td>null</td><td>null</td><td>3301000</td><td>null</td></tr><tr><td>Botswana</td><td>2303697</td><td>null</td><td>null</td><td>null</td><td>null</td></tr><tr><td>Bouvet Island</td><td>null</td><td>0</td><td>null</td><td>null</td><td>null</td></tr><tr><td>Brazil</td><td>null</td><td>211049527</td><td>null</td><td>null</td><td>null</td></tr><tr><td>British Indian Ocean Territory</td><td>4000</td><td>null</td><td>null</td><td>null</td><td>null</td></tr><tr><td>Brunei Darussalam</td><td>null</td><td>null</td><td>433285</td><td>null</td><td>null</td></tr><tr><td>Bulgaria</td><td>null</td><td>null</td><td>null</td><td>7000119</td><td>null</td></tr><tr><td>Burkina Faso</td><td>20321378</td><td>null</td><td>null</td><td>null</td><td>null</td></tr><tr><td>Burundi</td><td>11530580</td><td>null</td><td>null</td><td>null</td><td>null</td></tr><tr><td>Cabo Verde</td><td>549935</td><td>null</td><td>null</td><td>null</td><td>null</td></tr><tr><td>Cambodia</td><td>null</td><td>null</td><td>16486542</td><td>null</td><td>null</td></tr><tr><td>Cameroon</td><td>25876380</td><td>null</td><td>null</td><td>null</td><td>null</td></tr><tr><td>Canada</td><td>null</td><td>37411047</td><td>null</td><td>null</td><td>null</td></tr><tr><td>Cayman Islands</td><td>null</td><td>64948</td><td>null</td><td>null</td><td>null</td></tr><tr><td>Central African Republic</td><td>4745185</td><td>null</td><td>null</td><td>null</td><td>null</td></tr><tr><td>Chad</td><td>15946876</td><td>null</td><td>null</td><td>null</td><td>null</td></tr><tr><td>Chile</td><td>null</td><td>18952038</td><td>null</td><td>null</td><td>null</td></tr><tr><td>China</td><td>null</td><td>null</td><td>1433783686</td><td>null</td><td>null</td></tr><tr><td>Christmas Island</td><td>null</td><td>null</td><td>null</td><td>null</td><td>1843</td></tr><tr><td>Cocos (Keeling) Islands</td><td>null</td><td>null</td><td>null</td><td>null</td><td>544</td></tr><tr><td>Colombia</td><td>null</td><td>50339443</td><td>null</td><td>null</td><td>null</td></tr><tr><td>Comoros</td><td>850886</td><td>null</td><td>null</td><td>null</td><td>null</td></tr><tr><td>Congo</td><td>5380508</td><td>null</td><td>null</td><td>null</td><td>null</td></tr><tr><td>Congo, Democratic Republic of the</td><td>86790567</td><td>null</td><td>null</td><td>null</td><td>null</td></tr><tr><td>Cook Islands</td><td>null</td><td>null</td><td>null</td><td>null</td><td>17548</td></tr><tr><td>Costa Rica</td><td>null</td><td>5047561</td><td>null</td><td>null</td><td>null</td></tr><tr><td>Croatia</td><td>null</td><td>null</td><td>null</td><td>4130304</td><td>null</td></tr><tr><td>Cuba</td><td>null</td><td>11333483</td><td>null</td><td>null</td><td>null</td></tr><tr><td>Cura�ao</td><td>null</td><td>163424</td><td>null</td><td>null</td><td>null</td></tr><tr><td>Cyprus</td><td>null</td><td>null</td><td>1198575</td><td>null</td><td>null</td></tr><tr><td>Czechia</td><td>null</td><td>null</td><td>null</td><td>10689209</td><td>null</td></tr><tr><td>C�te d'Ivoire</td><td>25716544</td><td>null</td><td>null</td><td>null</td><td>null</td></tr><tr><td>Denmark</td><td>null</td><td>null</td><td>null</td><td>5771876</td><td>null</td></tr><tr><td>Djibouti</td><td>973560</td><td>null</td><td>null</td><td>null</td><td>null</td></tr><tr><td>Dominica</td><td>null</td><td>71808</td><td>null</td><td>null</td><td>null</td></tr><tr><td>Dominican Republic</td><td>null</td><td>10738958</td><td>null</td><td>null</td><td>null</td></tr><tr><td>Ecuador</td><td>null</td><td>17373662</td><td>null</td><td>null</td><td>null</td></tr><tr><td>Egypt</td><td>100388073</td><td>null</td><td>null</td><td>null</td><td>null</td></tr><tr><td>El Salvador</td><td>null</td><td>6453553</td><td>null</td><td>null</td><td>null</td></tr><tr><td>Equatorial Guinea</td><td>1355986</td><td>null</td><td>null</td><td>null</td><td>null</td></tr><tr><td>Eritrea</td><td>3497117</td><td>null</td><td>null</td><td>null</td><td>null</td></tr><tr><td>Estonia</td><td>null</td><td>null</td><td>null</td><td>1325648</td><td>null</td></tr><tr><td>Eswatini</td><td>1148130</td><td>null</td><td>null</td><td>null</td><td>null</td></tr><tr><td>Ethiopia</td><td>112078730</td><td>null</td><td>null</td><td>null</td><td>null</td></tr><tr><td>Falkland Islands (Malvinas)</td><td>null</td><td>3377</td><td>null</td><td>null</td><td>null</td></tr><tr><td>Faroe Islands</td><td>null</td><td>null</td><td>null</td><td>48678</td><td>null</td></tr><tr><td>Fiji</td><td>null</td><td>null</td><td>null</td><td>null</td><td>889953</td></tr><tr><td>Finland</td><td>null</td><td>null</td><td>null</td><td>5532156</td><td>null</td></tr><tr><td>France</td><td>null</td><td>null</td><td>null</td><td>65129728</td><td>null</td></tr><tr><td>French Guiana</td><td>null</td><td>290832</td><td>null</td><td>null</td><td>null</td></tr><tr><td>French Polynesia</td><td>null</td><td>null</td><td>null</td><td>null</td><td>279287</td></tr><tr><td>French Southern Territories</td><td>150</td><td>null</td><td>null</td><td>null</td><td>null</td></tr><tr><td>Gabon</td><td>2172579</td><td>null</td><td>null</td><td>null</td><td>null</td></tr><tr><td>Gambia</td><td>2347706</td><td>null</td><td>null</td><td>null</td><td>null</td></tr><tr><td>Georgia</td><td>null</td><td>null</td><td>3996765</td><td>null</td><td>null</td></tr><tr><td>Germany</td><td>null</td><td>null</td><td>null</td><td>83517045</td><td>null</td></tr><tr><td>Ghana</td><td>30417856</td><td>null</td><td>null</td><td>null</td><td>null</td></tr><tr><td>Gibraltar</td><td>null</td><td>null</td><td>null</td><td>33701</td><td>null</td></tr><tr><td>Greece</td><td>null</td><td>null</td><td>null</td><td>10473455</td><td>null</td></tr><tr><td>Greenland</td><td>null</td><td>56672</td><td>null</td><td>null</td><td>null</td></tr><tr><td>Grenada</td><td>null</td><td>112003</td><td>null</td><td>null</td><td>null</td></tr><tr><td>Guadeloupe</td><td>null</td><td>400056</td><td>null</td><td>null</td><td>null</td></tr><tr><td>Guam</td><td>null</td><td>null</td><td>null</td><td>null</td><td>167294</td></tr><tr><td>Guatemala</td><td>null</td><td>17581472</td><td>null</td><td>null</td><td>null</td></tr><tr><td>Guernsey</td><td>null</td><td>null</td><td>null</td><td>63026</td><td>null</td></tr><tr><td>Guinea</td><td>12771246</td><td>null</td><td>null</td><td>null</td><td>null</td></tr><tr><td>Guinea-Bissau</td><td>1920922</td><td>null</td><td>null</td><td>null</td><td>null</td></tr><tr><td>Guyana</td><td>null</td><td>782766</td><td>null</td><td>null</td><td>null</td></tr><tr><td>Haiti</td><td>null</td><td>11263077</td><td>null</td><td>null</td><td>null</td></tr><tr><td>Heard Island and McDonald Islands</td><td>null</td><td>null</td><td>null</td><td>null</td><td>0</td></tr><tr><td>Holy See</td><td>null</td><td>null</td><td>null</td><td>799</td><td>null</td></tr><tr><td>Honduras</td><td>null</td><td>9746117</td><td>null</td><td>null</td><td>null</td></tr><tr><td>Hong Kong</td><td>null</td><td>null</td><td>7436154</td><td>null</td><td>null</td></tr><tr><td>Hungary</td><td>null</td><td>null</td><td>null</td><td>9684679</td><td>null</td></tr><tr><td>Iceland</td><td>null</td><td>null</td><td>null</td><td>339031</td><td>null</td></tr><tr><td>India</td><td>null</td><td>null</td><td>1366417754</td><td>null</td><td>null</td></tr><tr><td>Indonesia</td><td>null</td><td>null</td><td>270625568</td><td>null</td><td>null</td></tr><tr><td>Iran (Islamic Republic of)</td><td>null</td><td>null</td><td>82913906</td><td>null</td><td>null</td></tr><tr><td>Iraq</td><td>null</td><td>null</td><td>39309783</td><td>null</td><td>null</td></tr><tr><td>Ireland</td><td>null</td><td>null</td><td>null</td><td>4882495</td><td>null</td></tr><tr><td>Isle of Man</td><td>null</td><td>null</td><td>null</td><td>84584</td><td>null</td></tr><tr><td>Israel</td><td>null</td><td>null</td><td>8519377</td><td>null</td><td>null</td></tr><tr><td>Italy</td><td>null</td><td>null</td><td>null</td><td>60550075</td><td>null</td></tr><tr><td>Jamaica</td><td>null</td><td>2948279</td><td>null</td><td>null</td><td>null</td></tr><tr><td>Japan</td><td>null</td><td>null</td><td>126860301</td><td>null</td><td>null</td></tr><tr><td>Jersey</td><td>null</td><td>null</td><td>null</td><td>100000</td><td>null</td></tr><tr><td>Jordan</td><td>null</td><td>null</td><td>10101694</td><td>null</td><td>null</td></tr><tr><td>Kazakhstan</td><td>null</td><td>null</td><td>18551427</td><td>null</td><td>null</td></tr><tr><td>Kenya</td><td>52573973</td><td>null</td><td>null</td><td>null</td><td>null</td></tr><tr><td>Kiribati</td><td>null</td><td>null</td><td>null</td><td>null</td><td>117606</td></tr><tr><td>Kuwait</td><td>null</td><td>null</td><td>4207083</td><td>null</td><td>null</td></tr><tr><td>Kyrgyzstan</td><td>null</td><td>null</td><td>6415850</td><td>null</td><td>null</td></tr><tr><td>Laos, People's Democratic Republic</td><td>null</td><td>null</td><td>7169455</td><td>null</td><td>null</td></tr><tr><td>Latvia</td><td>null</td><td>null</td><td>null</td><td>1906743</td><td>null</td></tr><tr><td>Lebanon</td><td>null</td><td>null</td><td>6855713</td><td>null</td><td>null</td></tr><tr><td>Lesotho</td><td>2125268</td><td>null</td><td>null</td><td>null</td><td>null</td></tr><tr><td>Liberia</td><td>4937374</td><td>null</td><td>null</td><td>null</td><td>null</td></tr><tr><td>Libya</td><td>6777452</td><td>null</td><td>null</td><td>null</td><td>null</td></tr><tr><td>Liechtenstein</td><td>null</td><td>null</td><td>null</td><td>38019</td><td>null</td></tr><tr><td>Lithuania</td><td>null</td><td>null</td><td>null</td><td>2759627</td><td>null</td></tr><tr><td>Luxembourg</td><td>null</td><td>null</td><td>null</td><td>615729</td><td>null</td></tr><tr><td>Macau</td><td>null</td><td>null</td><td>640445</td><td>null</td><td>null</td></tr><tr><td>Madagascar</td><td>26969307</td><td>null</td><td>null</td><td>null</td><td>null</td></tr><tr><td>Malawi</td><td>18628747</td><td>null</td><td>null</td><td>null</td><td>null</td></tr><tr><td>Malaysia</td><td>null</td><td>null</td><td>31949777</td><td>null</td><td>null</td></tr><tr><td>Maldives</td><td>null</td><td>null</td><td>530953</td><td>null</td><td>null</td></tr><tr><td>Mali</td><td>19658031</td><td>null</td><td>null</td><td>null</td><td>null</td></tr><tr><td>Malta</td><td>null</td><td>null</td><td>null</td><td>440372</td><td>null</td></tr><tr><td>Marshall Islands</td><td>null</td><td>null</td><td>null</td><td>null</td><td>58791</td></tr><tr><td>Martinique</td><td>null</td><td>375554</td><td>null</td><td>null</td><td>null</td></tr><tr><td>Mauritania</td><td>4525696</td><td>null</td><td>null</td><td>null</td><td>null</td></tr><tr><td>Mauritius</td><td>1269668</td><td>null</td><td>null</td><td>null</td><td>null</td></tr><tr><td>Mayotte</td><td>266150</td><td>null</td><td>null</td><td>null</td><td>null</td></tr><tr><td>Mexico</td><td>null</td><td>127575529</td><td>null</td><td>null</td><td>null</td></tr><tr><td>Micronesia (Federated States of)</td><td>null</td><td>null</td><td>null</td><td>null</td><td>113815</td></tr><tr><td>Moldova, Republic of</td><td>null</td><td>null</td><td>null</td><td>4043263</td><td>null</td></tr><tr><td>Monaco</td><td>null</td><td>null</td><td>null</td><td>38964</td><td>null</td></tr><tr><td>Mongolia</td><td>null</td><td>null</td><td>3225167</td><td>null</td><td>null</td></tr><tr><td>Montenegro</td><td>null</td><td>null</td><td>null</td><td>627987</td><td>null</td></tr><tr><td>Montserrat</td><td>null</td><td>4989</td><td>null</td><td>null</td><td>null</td></tr><tr><td>Morocco</td><td>36471769</td><td>null</td><td>null</td><td>null</td><td>null</td></tr><tr><td>Mozambique</td><td>30366036</td><td>null</td><td>null</td><td>null</td><td>null</td></tr><tr><td>Myanmar</td><td>null</td><td>null</td><td>54045420</td><td>null</td><td>null</td></tr><tr><td>Namibia</td><td>2494530</td><td>null</td><td>null</td><td>null</td><td>null</td></tr><tr><td>Nauru</td><td>null</td><td>null</td><td>null</td><td>null</td><td>10756</td></tr><tr><td>Nepal</td><td>null</td><td>null</td><td>28608710</td><td>null</td><td>null</td></tr><tr><td>Netherlands</td><td>null</td><td>null</td><td>null</td><td>17097130</td><td>null</td></tr><tr><td>New Caledonia</td><td>null</td><td>null</td><td>null</td><td>null</td><td>282750</td></tr><tr><td>New Zealand</td><td>null</td><td>null</td><td>null</td><td>null</td><td>4783063</td></tr><tr><td>Nicaragua</td><td>null</td><td>6545502</td><td>null</td><td>null</td><td>null</td></tr><tr><td>Niger</td><td>23310715</td><td>null</td><td>null</td><td>null</td><td>null</td></tr><tr><td>Nigeria</td><td>200963599</td><td>null</td><td>null</td><td>null</td><td>null</td></tr><tr><td>Niue</td><td>null</td><td>null</td><td>null</td><td>null</td><td>1615</td></tr><tr><td>Norfolk Island</td><td>null</td><td>null</td><td>null</td><td>null</td><td>1748</td></tr><tr><td>North Korea (Democratic People's Republic of)</td><td>null</td><td>null</td><td>25666161</td><td>null</td><td>null</td></tr><tr><td>North Macedonia</td><td>null</td><td>null</td><td>null</td><td>2083459</td><td>null</td></tr><tr><td>Northern Mariana Islands</td><td>null</td><td>null</td><td>null</td><td>null</td><td>57216</td></tr><tr><td>Norway</td><td>null</td><td>null</td><td>null</td><td>5378857</td><td>null</td></tr><tr><td>Oman</td><td>null</td><td>null</td><td>4974986</td><td>null</td><td>null</td></tr><tr><td>Pakistan</td><td>null</td><td>null</td><td>216565318</td><td>null</td><td>null</td></tr><tr><td>Palau</td><td>null</td><td>null</td><td>null</td><td>null</td><td>18008</td></tr><tr><td>Palestine, State of</td><td>null</td><td>null</td><td>4981420</td><td>null</td><td>null</td></tr><tr><td>Panama</td><td>null</td><td>4246439</td><td>null</td><td>null</td><td>null</td></tr><tr><td>Papua New Guinea</td><td>null</td><td>null</td><td>null</td><td>null</td><td>8776109</td></tr><tr><td>Paraguay</td><td>null</td><td>7044636</td><td>null</td><td>null</td><td>null</td></tr><tr><td>Peru</td><td>null</td><td>32510453</td><td>null</td><td>null</td><td>null</td></tr><tr><td>Philippines</td><td>null</td><td>null</td><td>108116615</td><td>null</td><td>null</td></tr><tr><td>Pitcairn</td><td>null</td><td>null</td><td>null</td><td>null</td><td>68</td></tr><tr><td>Poland</td><td>null</td><td>null</td><td>null</td><td>37887768</td><td>null</td></tr><tr><td>Portugal</td><td>null</td><td>null</td><td>null</td><td>10226187</td><td>null</td></tr><tr><td>Puerto Rico</td><td>null</td><td>2933408</td><td>null</td><td>null</td><td>null</td></tr><tr><td>Qatar</td><td>null</td><td>null</td><td>2832067</td><td>null</td><td>null</td></tr><tr><td>Romania</td><td>null</td><td>null</td><td>null</td><td>19364557</td><td>null</td></tr><tr><td>Russian Federation</td><td>null</td><td>null</td><td>null</td><td>145872256</td><td>null</td></tr><tr><td>Rwanda</td><td>12626950</td><td>null</td><td>null</td><td>null</td><td>null</td></tr><tr><td>R�union</td><td>888927</td><td>null</td><td>null</td><td>null</td><td>null</td></tr><tr><td>Saint Barth�lemy</td><td>null</td><td>9847</td><td>null</td><td>null</td><td>null</td></tr><tr><td>Saint Helena, Ascension and Tristan da Cunha</td><td>5633</td><td>null</td><td>null</td><td>null</td><td>null</td></tr><tr><td>Saint Kitts and Nevis</td><td>null</td><td>52823</td><td>null</td><td>null</td><td>null</td></tr><tr><td>Saint Lucia</td><td>null</td><td>182790</td><td>null</td><td>null</td><td>null</td></tr><tr><td>Saint Martin (French part)</td><td>null</td><td>38002</td><td>null</td><td>null</td><td>null</td></tr><tr><td>Saint Pierre and Miquelon</td><td>null</td><td>5822</td><td>null</td><td>null</td><td>null</td></tr><tr><td>Saint Vincent and the Grenadines</td><td>null</td><td>110589</td><td>null</td><td>null</td><td>null</td></tr><tr><td>Samoa</td><td>null</td><td>null</td><td>null</td><td>null</td><td>197097</td></tr><tr><td>San Marino</td><td>null</td><td>null</td><td>null</td><td>33860</td><td>null</td></tr><tr><td>Sao Tome and Principe</td><td>215056</td><td>null</td><td>null</td><td>null</td><td>null</td></tr><tr><td>Saudi Arabia</td><td>null</td><td>null</td><td>34268528</td><td>null</td><td>null</td></tr><tr><td>Senegal</td><td>16296364</td><td>null</td><td>null</td><td>null</td><td>null</td></tr><tr><td>Serbia</td><td>null</td><td>null</td><td>null</td><td>8772235</td><td>null</td></tr><tr><td>Seychelles</td><td>97739</td><td>null</td><td>null</td><td>null</td><td>null</td></tr><tr><td>Sierra Leone</td><td>7813215</td><td>null</td><td>null</td><td>null</td><td>null</td></tr><tr><td>Singapore</td><td>null</td><td>null</td><td>5804337</td><td>null</td><td>null</td></tr><tr><td>Sint Maarten (Dutch part)</td><td>null</td><td>42388</td><td>null</td><td>null</td><td>null</td></tr><tr><td>Slovakia</td><td>null</td><td>null</td><td>null</td><td>5457013</td><td>null</td></tr><tr><td>Slovenia</td><td>null</td><td>null</td><td>null</td><td>2078654</td><td>null</td></tr><tr><td>Solomon Islands</td><td>null</td><td>null</td><td>null</td><td>null</td><td>669823</td></tr><tr><td>Somalia</td><td>15442905</td><td>null</td><td>null</td><td>null</td><td>null</td></tr><tr><td>South Africa</td><td>58558270</td><td>null</td><td>null</td><td>null</td><td>null</td></tr><tr><td>South Georgia and the South Sandwich Islands</td><td>null</td><td>30</td><td>null</td><td>null</td><td>null</td></tr><tr><td>South Korea (Republic of)</td><td>null</td><td>null</td><td>51225308</td><td>null</td><td>null</td></tr><tr><td>South Sudan</td><td>11062113</td><td>null</td><td>null</td><td>null</td><td>null</td></tr><tr><td>Spain</td><td>null</td><td>null</td><td>null</td><td>46736776</td><td>null</td></tr><tr><td>Sri Lanka</td><td>null</td><td>null</td><td>21323733</td><td>null</td><td>null</td></tr><tr><td>Sudan</td><td>42813238</td><td>null</td><td>null</td><td>null</td><td>null</td></tr><tr><td>Suriname</td><td>null</td><td>581372</td><td>null</td><td>null</td><td>null</td></tr><tr><td>Svalbard and Jan Mayen</td><td>null</td><td>null</td><td>null</td><td>2667</td><td>null</td></tr><tr><td>Sweden</td><td>null</td><td>null</td><td>null</td><td>10036379</td><td>null</td></tr><tr><td>Switzerland</td><td>null</td><td>null</td><td>null</td><td>8591365</td><td>null</td></tr><tr><td>Syrian Arab Republic</td><td>null</td><td>null</td><td>17070135</td><td>null</td><td>null</td></tr><tr><td>Taiwan (Province of China)</td><td>null</td><td>null</td><td>23773876</td><td>null</td><td>null</td></tr><tr><td>Tajikistan</td><td>null</td><td>null</td><td>9321018</td><td>null</td><td>null</td></tr><tr><td>Tanzania (United Republic of)</td><td>58005463</td><td>null</td><td>null</td><td>null</td><td>null</td></tr><tr><td>Thailand</td><td>null</td><td>null</td><td>69625582</td><td>null</td><td>null</td></tr><tr><td>Timor-Leste</td><td>null</td><td>null</td><td>1293119</td><td>null</td><td>null</td></tr><tr><td>Togo</td><td>8082366</td><td>null</td><td>null</td><td>null</td><td>null</td></tr><tr><td>Tokelau</td><td>null</td><td>null</td><td>null</td><td>null</td><td>1340</td></tr><tr><td>Tonga</td><td>null</td><td>null</td><td>null</td><td>null</td><td>104494</td></tr><tr><td>Trinidad and Tobago</td><td>null</td><td>1394973</td><td>null</td><td>null</td><td>null</td></tr><tr><td>Tunisia</td><td>11694719</td><td>null</td><td>null</td><td>null</td><td>null</td></tr><tr><td>Turkey</td><td>null</td><td>null</td><td>83429615</td><td>null</td><td>null</td></tr><tr><td>Turkmenistan</td><td>null</td><td>null</td><td>5942089</td><td>null</td><td>null</td></tr><tr><td>Turks and Caicos Islands</td><td>null</td><td>38191</td><td>null</td><td>null</td><td>null</td></tr><tr><td>Tuvalu</td><td>null</td><td>null</td><td>null</td><td>null</td><td>11646</td></tr><tr><td>Uganda</td><td>44269594</td><td>null</td><td>null</td><td>null</td><td>null</td></tr><tr><td>Ukraine</td><td>null</td><td>null</td><td>null</td><td>43993638</td><td>null</td></tr><tr><td>United Arab Emirates</td><td>null</td><td>null</td><td>9770529</td><td>null</td><td>null</td></tr><tr><td>United Kingdom of Great Britain and Northern Ireland</td><td>null</td><td>null</td><td>null</td><td>67530172</td><td>null</td></tr><tr><td>United States Minor Outlying Islands</td><td>null</td><td>null</td><td>null</td><td>null</td><td>300</td></tr><tr><td>United States of America</td><td>null</td><td>329064917</td><td>null</td><td>null</td><td>null</td></tr><tr><td>Uruguay</td><td>null</td><td>3461734</td><td>null</td><td>null</td><td>null</td></tr><tr><td>Uzbekistan</td><td>null</td><td>null</td><td>32981716</td><td>null</td><td>null</td></tr><tr><td>Vanuatu</td><td>null</td><td>null</td><td>null</td><td>null</td><td>299882</td></tr><tr><td>Venezuela (Bolivarian Republic of)</td><td>null</td><td>28515829</td><td>null</td><td>null</td><td>null</td></tr><tr><td>Vietnam</td><td>null</td><td>null</td><td>96462106</td><td>null</td><td>null</td></tr><tr><td>Virgin Islands (British)</td><td>null</td><td>30030</td><td>null</td><td>null</td><td>null</td></tr><tr><td>Virgin Islands (U.S.)</td><td>null</td><td>104578</td><td>null</td><td>null</td><td>null</td></tr><tr><td>Wallis and Futuna</td><td>null</td><td>null</td><td>null</td><td>null</td><td>11432</td></tr><tr><td>Western Sahara</td><td>582463</td><td>null</td><td>null</td><td>null</td><td>null</td></tr><tr><td>Yemen</td><td>null</td><td>null</td><td>29161922</td><td>null</td><td>null</td></tr><tr><td>Zambia</td><td>17861030</td><td>null</td><td>null</td><td>null</td><td>null</td></tr><tr><td>Zimbabwe</td><td>14645468</td><td>null</td><td>null</td><td>null</td><td>null</td></tr><tr><td>�land Islands</td><td>null</td><td>null</td><td>null</td><td>29789</td><td>null</td></tr></tbody></table></div>"
      ]
     },
     "metadata": {
      "application/vnd.databricks.v1+output": {
       "addedWidgets": {},
       "aggData": [],
       "aggError": "",
       "aggOverflow": false,
       "aggSchema": [],
       "aggSeriesLimitReached": false,
       "aggType": "",
       "arguments": {},
       "columnCustomDisplayInfos": {},
       "data": [
        [
         "Afghanistan",
         null,
         null,
         38041754,
         null,
         null
        ],
        [
         "Albania",
         null,
         null,
         null,
         2880917,
         null
        ],
        [
         "Algeria",
         43053054,
         null,
         null,
         null,
         null
        ],
        [
         "American Samoa",
         null,
         null,
         null,
         null,
         55312
        ],
        [
         "Andorra",
         null,
         null,
         null,
         77142,
         null
        ],
        [
         "Angola",
         31825295,
         null,
         null,
         null,
         null
        ],
        [
         "Anguilla",
         null,
         14869,
         null,
         null,
         null
        ],
        [
         "Antarctica",
         null,
         null,
         null,
         null,
         1106
        ],
        [
         "Antigua and Barbuda",
         null,
         97118,
         null,
         null,
         null
        ],
        [
         "Argentina",
         null,
         44780677,
         null,
         null,
         null
        ],
        [
         "Armenia",
         null,
         null,
         2957731,
         null,
         null
        ],
        [
         "Aruba",
         null,
         106314,
         null,
         null,
         null
        ],
        [
         "Australia",
         null,
         null,
         null,
         null,
         25203198
        ],
        [
         "Austria",
         null,
         null,
         null,
         8955102,
         null
        ],
        [
         "Azerbaijan",
         null,
         null,
         10047718,
         null,
         null
        ],
        [
         "Bahamas",
         null,
         389482,
         null,
         null,
         null
        ],
        [
         "Bahrain",
         null,
         null,
         1641172,
         null,
         null
        ],
        [
         "Bangladesh",
         null,
         null,
         163046161,
         null,
         null
        ],
        [
         "Barbados",
         null,
         287025,
         null,
         null,
         null
        ],
        [
         "Belarus",
         null,
         null,
         null,
         9452411,
         null
        ],
        [
         "Belgium",
         null,
         null,
         null,
         11539328,
         null
        ],
        [
         "Belize",
         null,
         390353,
         null,
         null,
         null
        ],
        [
         "Benin",
         11801151,
         null,
         null,
         null,
         null
        ],
        [
         "Bermuda",
         null,
         62506,
         null,
         null,
         null
        ],
        [
         "Bhutan",
         null,
         null,
         763092,
         null,
         null
        ],
        [
         "Bolivia (Plurinational State of)",
         null,
         11513100,
         null,
         null,
         null
        ],
        [
         "Bonaire, Sint Eustatius and Saba",
         null,
         25711,
         null,
         null,
         null
        ],
        [
         "Bosnia and Herzegovina",
         null,
         null,
         null,
         3301000,
         null
        ],
        [
         "Botswana",
         2303697,
         null,
         null,
         null,
         null
        ],
        [
         "Bouvet Island",
         null,
         0,
         null,
         null,
         null
        ],
        [
         "Brazil",
         null,
         211049527,
         null,
         null,
         null
        ],
        [
         "British Indian Ocean Territory",
         4000,
         null,
         null,
         null,
         null
        ],
        [
         "Brunei Darussalam",
         null,
         null,
         433285,
         null,
         null
        ],
        [
         "Bulgaria",
         null,
         null,
         null,
         7000119,
         null
        ],
        [
         "Burkina Faso",
         20321378,
         null,
         null,
         null,
         null
        ],
        [
         "Burundi",
         11530580,
         null,
         null,
         null,
         null
        ],
        [
         "Cabo Verde",
         549935,
         null,
         null,
         null,
         null
        ],
        [
         "Cambodia",
         null,
         null,
         16486542,
         null,
         null
        ],
        [
         "Cameroon",
         25876380,
         null,
         null,
         null,
         null
        ],
        [
         "Canada",
         null,
         37411047,
         null,
         null,
         null
        ],
        [
         "Cayman Islands",
         null,
         64948,
         null,
         null,
         null
        ],
        [
         "Central African Republic",
         4745185,
         null,
         null,
         null,
         null
        ],
        [
         "Chad",
         15946876,
         null,
         null,
         null,
         null
        ],
        [
         "Chile",
         null,
         18952038,
         null,
         null,
         null
        ],
        [
         "China",
         null,
         null,
         1433783686,
         null,
         null
        ],
        [
         "Christmas Island",
         null,
         null,
         null,
         null,
         1843
        ],
        [
         "Cocos (Keeling) Islands",
         null,
         null,
         null,
         null,
         544
        ],
        [
         "Colombia",
         null,
         50339443,
         null,
         null,
         null
        ],
        [
         "Comoros",
         850886,
         null,
         null,
         null,
         null
        ],
        [
         "Congo",
         5380508,
         null,
         null,
         null,
         null
        ],
        [
         "Congo, Democratic Republic of the",
         86790567,
         null,
         null,
         null,
         null
        ],
        [
         "Cook Islands",
         null,
         null,
         null,
         null,
         17548
        ],
        [
         "Costa Rica",
         null,
         5047561,
         null,
         null,
         null
        ],
        [
         "Croatia",
         null,
         null,
         null,
         4130304,
         null
        ],
        [
         "Cuba",
         null,
         11333483,
         null,
         null,
         null
        ],
        [
         "Cura�ao",
         null,
         163424,
         null,
         null,
         null
        ],
        [
         "Cyprus",
         null,
         null,
         1198575,
         null,
         null
        ],
        [
         "Czechia",
         null,
         null,
         null,
         10689209,
         null
        ],
        [
         "C�te d'Ivoire",
         25716544,
         null,
         null,
         null,
         null
        ],
        [
         "Denmark",
         null,
         null,
         null,
         5771876,
         null
        ],
        [
         "Djibouti",
         973560,
         null,
         null,
         null,
         null
        ],
        [
         "Dominica",
         null,
         71808,
         null,
         null,
         null
        ],
        [
         "Dominican Republic",
         null,
         10738958,
         null,
         null,
         null
        ],
        [
         "Ecuador",
         null,
         17373662,
         null,
         null,
         null
        ],
        [
         "Egypt",
         100388073,
         null,
         null,
         null,
         null
        ],
        [
         "El Salvador",
         null,
         6453553,
         null,
         null,
         null
        ],
        [
         "Equatorial Guinea",
         1355986,
         null,
         null,
         null,
         null
        ],
        [
         "Eritrea",
         3497117,
         null,
         null,
         null,
         null
        ],
        [
         "Estonia",
         null,
         null,
         null,
         1325648,
         null
        ],
        [
         "Eswatini",
         1148130,
         null,
         null,
         null,
         null
        ],
        [
         "Ethiopia",
         112078730,
         null,
         null,
         null,
         null
        ],
        [
         "Falkland Islands (Malvinas)",
         null,
         3377,
         null,
         null,
         null
        ],
        [
         "Faroe Islands",
         null,
         null,
         null,
         48678,
         null
        ],
        [
         "Fiji",
         null,
         null,
         null,
         null,
         889953
        ],
        [
         "Finland",
         null,
         null,
         null,
         5532156,
         null
        ],
        [
         "France",
         null,
         null,
         null,
         65129728,
         null
        ],
        [
         "French Guiana",
         null,
         290832,
         null,
         null,
         null
        ],
        [
         "French Polynesia",
         null,
         null,
         null,
         null,
         279287
        ],
        [
         "French Southern Territories",
         150,
         null,
         null,
         null,
         null
        ],
        [
         "Gabon",
         2172579,
         null,
         null,
         null,
         null
        ],
        [
         "Gambia",
         2347706,
         null,
         null,
         null,
         null
        ],
        [
         "Georgia",
         null,
         null,
         3996765,
         null,
         null
        ],
        [
         "Germany",
         null,
         null,
         null,
         83517045,
         null
        ],
        [
         "Ghana",
         30417856,
         null,
         null,
         null,
         null
        ],
        [
         "Gibraltar",
         null,
         null,
         null,
         33701,
         null
        ],
        [
         "Greece",
         null,
         null,
         null,
         10473455,
         null
        ],
        [
         "Greenland",
         null,
         56672,
         null,
         null,
         null
        ],
        [
         "Grenada",
         null,
         112003,
         null,
         null,
         null
        ],
        [
         "Guadeloupe",
         null,
         400056,
         null,
         null,
         null
        ],
        [
         "Guam",
         null,
         null,
         null,
         null,
         167294
        ],
        [
         "Guatemala",
         null,
         17581472,
         null,
         null,
         null
        ],
        [
         "Guernsey",
         null,
         null,
         null,
         63026,
         null
        ],
        [
         "Guinea",
         12771246,
         null,
         null,
         null,
         null
        ],
        [
         "Guinea-Bissau",
         1920922,
         null,
         null,
         null,
         null
        ],
        [
         "Guyana",
         null,
         782766,
         null,
         null,
         null
        ],
        [
         "Haiti",
         null,
         11263077,
         null,
         null,
         null
        ],
        [
         "Heard Island and McDonald Islands",
         null,
         null,
         null,
         null,
         0
        ],
        [
         "Holy See",
         null,
         null,
         null,
         799,
         null
        ],
        [
         "Honduras",
         null,
         9746117,
         null,
         null,
         null
        ],
        [
         "Hong Kong",
         null,
         null,
         7436154,
         null,
         null
        ],
        [
         "Hungary",
         null,
         null,
         null,
         9684679,
         null
        ],
        [
         "Iceland",
         null,
         null,
         null,
         339031,
         null
        ],
        [
         "India",
         null,
         null,
         1366417754,
         null,
         null
        ],
        [
         "Indonesia",
         null,
         null,
         270625568,
         null,
         null
        ],
        [
         "Iran (Islamic Republic of)",
         null,
         null,
         82913906,
         null,
         null
        ],
        [
         "Iraq",
         null,
         null,
         39309783,
         null,
         null
        ],
        [
         "Ireland",
         null,
         null,
         null,
         4882495,
         null
        ],
        [
         "Isle of Man",
         null,
         null,
         null,
         84584,
         null
        ],
        [
         "Israel",
         null,
         null,
         8519377,
         null,
         null
        ],
        [
         "Italy",
         null,
         null,
         null,
         60550075,
         null
        ],
        [
         "Jamaica",
         null,
         2948279,
         null,
         null,
         null
        ],
        [
         "Japan",
         null,
         null,
         126860301,
         null,
         null
        ],
        [
         "Jersey",
         null,
         null,
         null,
         100000,
         null
        ],
        [
         "Jordan",
         null,
         null,
         10101694,
         null,
         null
        ],
        [
         "Kazakhstan",
         null,
         null,
         18551427,
         null,
         null
        ],
        [
         "Kenya",
         52573973,
         null,
         null,
         null,
         null
        ],
        [
         "Kiribati",
         null,
         null,
         null,
         null,
         117606
        ],
        [
         "Kuwait",
         null,
         null,
         4207083,
         null,
         null
        ],
        [
         "Kyrgyzstan",
         null,
         null,
         6415850,
         null,
         null
        ],
        [
         "Laos, People's Democratic Republic",
         null,
         null,
         7169455,
         null,
         null
        ],
        [
         "Latvia",
         null,
         null,
         null,
         1906743,
         null
        ],
        [
         "Lebanon",
         null,
         null,
         6855713,
         null,
         null
        ],
        [
         "Lesotho",
         2125268,
         null,
         null,
         null,
         null
        ],
        [
         "Liberia",
         4937374,
         null,
         null,
         null,
         null
        ],
        [
         "Libya",
         6777452,
         null,
         null,
         null,
         null
        ],
        [
         "Liechtenstein",
         null,
         null,
         null,
         38019,
         null
        ],
        [
         "Lithuania",
         null,
         null,
         null,
         2759627,
         null
        ],
        [
         "Luxembourg",
         null,
         null,
         null,
         615729,
         null
        ],
        [
         "Macau",
         null,
         null,
         640445,
         null,
         null
        ],
        [
         "Madagascar",
         26969307,
         null,
         null,
         null,
         null
        ],
        [
         "Malawi",
         18628747,
         null,
         null,
         null,
         null
        ],
        [
         "Malaysia",
         null,
         null,
         31949777,
         null,
         null
        ],
        [
         "Maldives",
         null,
         null,
         530953,
         null,
         null
        ],
        [
         "Mali",
         19658031,
         null,
         null,
         null,
         null
        ],
        [
         "Malta",
         null,
         null,
         null,
         440372,
         null
        ],
        [
         "Marshall Islands",
         null,
         null,
         null,
         null,
         58791
        ],
        [
         "Martinique",
         null,
         375554,
         null,
         null,
         null
        ],
        [
         "Mauritania",
         4525696,
         null,
         null,
         null,
         null
        ],
        [
         "Mauritius",
         1269668,
         null,
         null,
         null,
         null
        ],
        [
         "Mayotte",
         266150,
         null,
         null,
         null,
         null
        ],
        [
         "Mexico",
         null,
         127575529,
         null,
         null,
         null
        ],
        [
         "Micronesia (Federated States of)",
         null,
         null,
         null,
         null,
         113815
        ],
        [
         "Moldova, Republic of",
         null,
         null,
         null,
         4043263,
         null
        ],
        [
         "Monaco",
         null,
         null,
         null,
         38964,
         null
        ],
        [
         "Mongolia",
         null,
         null,
         3225167,
         null,
         null
        ],
        [
         "Montenegro",
         null,
         null,
         null,
         627987,
         null
        ],
        [
         "Montserrat",
         null,
         4989,
         null,
         null,
         null
        ],
        [
         "Morocco",
         36471769,
         null,
         null,
         null,
         null
        ],
        [
         "Mozambique",
         30366036,
         null,
         null,
         null,
         null
        ],
        [
         "Myanmar",
         null,
         null,
         54045420,
         null,
         null
        ],
        [
         "Namibia",
         2494530,
         null,
         null,
         null,
         null
        ],
        [
         "Nauru",
         null,
         null,
         null,
         null,
         10756
        ],
        [
         "Nepal",
         null,
         null,
         28608710,
         null,
         null
        ],
        [
         "Netherlands",
         null,
         null,
         null,
         17097130,
         null
        ],
        [
         "New Caledonia",
         null,
         null,
         null,
         null,
         282750
        ],
        [
         "New Zealand",
         null,
         null,
         null,
         null,
         4783063
        ],
        [
         "Nicaragua",
         null,
         6545502,
         null,
         null,
         null
        ],
        [
         "Niger",
         23310715,
         null,
         null,
         null,
         null
        ],
        [
         "Nigeria",
         200963599,
         null,
         null,
         null,
         null
        ],
        [
         "Niue",
         null,
         null,
         null,
         null,
         1615
        ],
        [
         "Norfolk Island",
         null,
         null,
         null,
         null,
         1748
        ],
        [
         "North Korea (Democratic People's Republic of)",
         null,
         null,
         25666161,
         null,
         null
        ],
        [
         "North Macedonia",
         null,
         null,
         null,
         2083459,
         null
        ],
        [
         "Northern Mariana Islands",
         null,
         null,
         null,
         null,
         57216
        ],
        [
         "Norway",
         null,
         null,
         null,
         5378857,
         null
        ],
        [
         "Oman",
         null,
         null,
         4974986,
         null,
         null
        ],
        [
         "Pakistan",
         null,
         null,
         216565318,
         null,
         null
        ],
        [
         "Palau",
         null,
         null,
         null,
         null,
         18008
        ],
        [
         "Palestine, State of",
         null,
         null,
         4981420,
         null,
         null
        ],
        [
         "Panama",
         null,
         4246439,
         null,
         null,
         null
        ],
        [
         "Papua New Guinea",
         null,
         null,
         null,
         null,
         8776109
        ],
        [
         "Paraguay",
         null,
         7044636,
         null,
         null,
         null
        ],
        [
         "Peru",
         null,
         32510453,
         null,
         null,
         null
        ],
        [
         "Philippines",
         null,
         null,
         108116615,
         null,
         null
        ],
        [
         "Pitcairn",
         null,
         null,
         null,
         null,
         68
        ],
        [
         "Poland",
         null,
         null,
         null,
         37887768,
         null
        ],
        [
         "Portugal",
         null,
         null,
         null,
         10226187,
         null
        ],
        [
         "Puerto Rico",
         null,
         2933408,
         null,
         null,
         null
        ],
        [
         "Qatar",
         null,
         null,
         2832067,
         null,
         null
        ],
        [
         "Romania",
         null,
         null,
         null,
         19364557,
         null
        ],
        [
         "Russian Federation",
         null,
         null,
         null,
         145872256,
         null
        ],
        [
         "Rwanda",
         12626950,
         null,
         null,
         null,
         null
        ],
        [
         "R�union",
         888927,
         null,
         null,
         null,
         null
        ],
        [
         "Saint Barth�lemy",
         null,
         9847,
         null,
         null,
         null
        ],
        [
         "Saint Helena, Ascension and Tristan da Cunha",
         5633,
         null,
         null,
         null,
         null
        ],
        [
         "Saint Kitts and Nevis",
         null,
         52823,
         null,
         null,
         null
        ],
        [
         "Saint Lucia",
         null,
         182790,
         null,
         null,
         null
        ],
        [
         "Saint Martin (French part)",
         null,
         38002,
         null,
         null,
         null
        ],
        [
         "Saint Pierre and Miquelon",
         null,
         5822,
         null,
         null,
         null
        ],
        [
         "Saint Vincent and the Grenadines",
         null,
         110589,
         null,
         null,
         null
        ],
        [
         "Samoa",
         null,
         null,
         null,
         null,
         197097
        ],
        [
         "San Marino",
         null,
         null,
         null,
         33860,
         null
        ],
        [
         "Sao Tome and Principe",
         215056,
         null,
         null,
         null,
         null
        ],
        [
         "Saudi Arabia",
         null,
         null,
         34268528,
         null,
         null
        ],
        [
         "Senegal",
         16296364,
         null,
         null,
         null,
         null
        ],
        [
         "Serbia",
         null,
         null,
         null,
         8772235,
         null
        ],
        [
         "Seychelles",
         97739,
         null,
         null,
         null,
         null
        ],
        [
         "Sierra Leone",
         7813215,
         null,
         null,
         null,
         null
        ],
        [
         "Singapore",
         null,
         null,
         5804337,
         null,
         null
        ],
        [
         "Sint Maarten (Dutch part)",
         null,
         42388,
         null,
         null,
         null
        ],
        [
         "Slovakia",
         null,
         null,
         null,
         5457013,
         null
        ],
        [
         "Slovenia",
         null,
         null,
         null,
         2078654,
         null
        ],
        [
         "Solomon Islands",
         null,
         null,
         null,
         null,
         669823
        ],
        [
         "Somalia",
         15442905,
         null,
         null,
         null,
         null
        ],
        [
         "South Africa",
         58558270,
         null,
         null,
         null,
         null
        ],
        [
         "South Georgia and the South Sandwich Islands",
         null,
         30,
         null,
         null,
         null
        ],
        [
         "South Korea (Republic of)",
         null,
         null,
         51225308,
         null,
         null
        ],
        [
         "South Sudan",
         11062113,
         null,
         null,
         null,
         null
        ],
        [
         "Spain",
         null,
         null,
         null,
         46736776,
         null
        ],
        [
         "Sri Lanka",
         null,
         null,
         21323733,
         null,
         null
        ],
        [
         "Sudan",
         42813238,
         null,
         null,
         null,
         null
        ],
        [
         "Suriname",
         null,
         581372,
         null,
         null,
         null
        ],
        [
         "Svalbard and Jan Mayen",
         null,
         null,
         null,
         2667,
         null
        ],
        [
         "Sweden",
         null,
         null,
         null,
         10036379,
         null
        ],
        [
         "Switzerland",
         null,
         null,
         null,
         8591365,
         null
        ],
        [
         "Syrian Arab Republic",
         null,
         null,
         17070135,
         null,
         null
        ],
        [
         "Taiwan (Province of China)",
         null,
         null,
         23773876,
         null,
         null
        ],
        [
         "Tajikistan",
         null,
         null,
         9321018,
         null,
         null
        ],
        [
         "Tanzania (United Republic of)",
         58005463,
         null,
         null,
         null,
         null
        ],
        [
         "Thailand",
         null,
         null,
         69625582,
         null,
         null
        ],
        [
         "Timor-Leste",
         null,
         null,
         1293119,
         null,
         null
        ],
        [
         "Togo",
         8082366,
         null,
         null,
         null,
         null
        ],
        [
         "Tokelau",
         null,
         null,
         null,
         null,
         1340
        ],
        [
         "Tonga",
         null,
         null,
         null,
         null,
         104494
        ],
        [
         "Trinidad and Tobago",
         null,
         1394973,
         null,
         null,
         null
        ],
        [
         "Tunisia",
         11694719,
         null,
         null,
         null,
         null
        ],
        [
         "Turkey",
         null,
         null,
         83429615,
         null,
         null
        ],
        [
         "Turkmenistan",
         null,
         null,
         5942089,
         null,
         null
        ],
        [
         "Turks and Caicos Islands",
         null,
         38191,
         null,
         null,
         null
        ],
        [
         "Tuvalu",
         null,
         null,
         null,
         null,
         11646
        ],
        [
         "Uganda",
         44269594,
         null,
         null,
         null,
         null
        ],
        [
         "Ukraine",
         null,
         null,
         null,
         43993638,
         null
        ],
        [
         "United Arab Emirates",
         null,
         null,
         9770529,
         null,
         null
        ],
        [
         "United Kingdom of Great Britain and Northern Ireland",
         null,
         null,
         null,
         67530172,
         null
        ],
        [
         "United States Minor Outlying Islands",
         null,
         null,
         null,
         null,
         300
        ],
        [
         "United States of America",
         null,
         329064917,
         null,
         null,
         null
        ],
        [
         "Uruguay",
         null,
         3461734,
         null,
         null,
         null
        ],
        [
         "Uzbekistan",
         null,
         null,
         32981716,
         null,
         null
        ],
        [
         "Vanuatu",
         null,
         null,
         null,
         null,
         299882
        ],
        [
         "Venezuela (Bolivarian Republic of)",
         null,
         28515829,
         null,
         null,
         null
        ],
        [
         "Vietnam",
         null,
         null,
         96462106,
         null,
         null
        ],
        [
         "Virgin Islands (British)",
         null,
         30030,
         null,
         null,
         null
        ],
        [
         "Virgin Islands (U.S.)",
         null,
         104578,
         null,
         null,
         null
        ],
        [
         "Wallis and Futuna",
         null,
         null,
         null,
         null,
         11432
        ],
        [
         "Western Sahara",
         582463,
         null,
         null,
         null,
         null
        ],
        [
         "Yemen",
         null,
         null,
         29161922,
         null,
         null
        ],
        [
         "Zambia",
         17861030,
         null,
         null,
         null,
         null
        ],
        [
         "Zimbabwe",
         14645468,
         null,
         null,
         null,
         null
        ],
        [
         "�land Islands",
         null,
         null,
         null,
         29789,
         null
        ]
       ],
       "datasetInfos": [],
       "dbfsResultPath": null,
       "isJsonSchema": true,
       "metadata": {},
       "overflow": false,
       "plotOptions": {
        "customPlotOptions": {},
        "displayType": "table",
        "pivotAggregation": null,
        "pivotColumns": null,
        "xColumns": null,
        "yColumns": null
       },
       "removedWidgets": [],
       "schema": [
        {
         "metadata": "{}",
         "name": "country_name",
         "type": "\"string\""
        },
        {
         "metadata": "{}",
         "name": "Africa",
         "type": "\"long\""
        },
        {
         "metadata": "{}",
         "name": "America",
         "type": "\"long\""
        },
        {
         "metadata": "{}",
         "name": "Asia",
         "type": "\"long\""
        },
        {
         "metadata": "{}",
         "name": "Europe",
         "type": "\"long\""
        },
        {
         "metadata": "{}",
         "name": "Oceania",
         "type": "\"long\""
        }
       ],
       "type": "table"
      }
     },
     "output_type": "display_data"
    }
   ],
   "source": [
    "population_df \\\n",
    "    .groupBy('country_name') \\\n",
    "    .pivot('region_name') \\\n",
    "    .sum('population') \\\n",
    "    .orderBy('country_name') \\\n",
    "    .display()  \n"
   ]
  },
  {
   "cell_type": "code",
   "execution_count": 0,
   "metadata": {
    "application/vnd.databricks.v1+cell": {
     "cellMetadata": {},
     "inputWidgets": {},
     "nuid": "1e43030d-8cae-4428-bb3e-f006cc23fc84",
     "showTitle": false,
     "tableResultSettingsMap": {},
     "title": ""
    }
   },
   "outputs": [],
   "source": [
    "# Unpivot\n",
    "\n",
    "population_df \\\n",
    "    .select('country_name', expr(\"\"))"
   ]
  },
  {
   "cell_type": "code",
   "execution_count": 0,
   "metadata": {
    "application/vnd.databricks.v1+cell": {
     "cellMetadata": {
      "byteLimit": 2048000,
      "rowLimit": 10000
     },
     "inputWidgets": {},
     "nuid": "b7f5945a-b2e3-462c-9e7f-775d25d8a89e",
     "showTitle": false,
     "tableResultSettingsMap": {},
     "title": ""
    }
   },
   "outputs": [
    {
     "output_type": "display_data",
     "data": {
      "text/html": [
       "<style scoped>\n",
       "  .table-result-container {\n",
       "    max-height: 300px;\n",
       "    overflow: auto;\n",
       "  }\n",
       "  table, th, td {\n",
       "    border: 1px solid black;\n",
       "    border-collapse: collapse;\n",
       "  }\n",
       "  th, td {\n",
       "    padding: 5px;\n",
       "  }\n",
       "  th {\n",
       "    text-align: left;\n",
       "  }\n",
       "</style><div class='table-result-container'><table class='table-result'><thead style='background-color: white'><tr><th>region_name</th><th>country_name</th><th>population</th></tr></thead><tbody><tr><td>Asia</td><td>China</td><td>1433783686</td></tr><tr><td>Asia</td><td>India</td><td>1366417754</td></tr><tr><td>America</td><td>United States of America</td><td>329064917</td></tr><tr><td>Asia</td><td>Indonesia</td><td>270625568</td></tr><tr><td>Asia</td><td>Pakistan</td><td>216565318</td></tr><tr><td>America</td><td>Brazil</td><td>211049527</td></tr><tr><td>Africa</td><td>Nigeria</td><td>200963599</td></tr><tr><td>Asia</td><td>Bangladesh</td><td>163046161</td></tr><tr><td>Europe</td><td>Russian Federation</td><td>145872256</td></tr><tr><td>America</td><td>Mexico</td><td>127575529</td></tr><tr><td>Asia</td><td>Japan</td><td>126860301</td></tr><tr><td>Africa</td><td>Ethiopia</td><td>112078730</td></tr><tr><td>Asia</td><td>Philippines</td><td>108116615</td></tr><tr><td>Africa</td><td>Egypt</td><td>100388073</td></tr><tr><td>Asia</td><td>Vietnam</td><td>96462106</td></tr><tr><td>Africa</td><td>Congo, Democratic Republic of the</td><td>86790567</td></tr><tr><td>Europe</td><td>Germany</td><td>83517045</td></tr><tr><td>Asia</td><td>Turkey</td><td>83429615</td></tr><tr><td>Asia</td><td>Iran (Islamic Republic of)</td><td>82913906</td></tr><tr><td>Asia</td><td>Thailand</td><td>69625582</td></tr><tr><td>Europe</td><td>United Kingdom of Great Britain and Northern Ireland</td><td>67530172</td></tr><tr><td>Europe</td><td>France</td><td>65129728</td></tr><tr><td>Europe</td><td>Italy</td><td>60550075</td></tr><tr><td>Africa</td><td>South Africa</td><td>58558270</td></tr><tr><td>Africa</td><td>Tanzania (United Republic of)</td><td>58005463</td></tr><tr><td>Asia</td><td>Myanmar</td><td>54045420</td></tr><tr><td>Africa</td><td>Kenya</td><td>52573973</td></tr><tr><td>Asia</td><td>South Korea (Republic of)</td><td>51225308</td></tr><tr><td>America</td><td>Colombia</td><td>50339443</td></tr><tr><td>Europe</td><td>Spain</td><td>46736776</td></tr><tr><td>America</td><td>Argentina</td><td>44780677</td></tr><tr><td>Africa</td><td>Uganda</td><td>44269594</td></tr><tr><td>Europe</td><td>Ukraine</td><td>43993638</td></tr><tr><td>Africa</td><td>Algeria</td><td>43053054</td></tr><tr><td>Africa</td><td>Sudan</td><td>42813238</td></tr><tr><td>Asia</td><td>Iraq</td><td>39309783</td></tr><tr><td>Asia</td><td>Afghanistan</td><td>38041754</td></tr><tr><td>Europe</td><td>Poland</td><td>37887768</td></tr><tr><td>America</td><td>Canada</td><td>37411047</td></tr><tr><td>Africa</td><td>Morocco</td><td>36471769</td></tr><tr><td>Asia</td><td>Saudi Arabia</td><td>34268528</td></tr><tr><td>Asia</td><td>Uzbekistan</td><td>32981716</td></tr><tr><td>America</td><td>Peru</td><td>32510453</td></tr><tr><td>Asia</td><td>Malaysia</td><td>31949777</td></tr><tr><td>Africa</td><td>Angola</td><td>31825295</td></tr><tr><td>Africa</td><td>Ghana</td><td>30417856</td></tr><tr><td>Africa</td><td>Mozambique</td><td>30366036</td></tr><tr><td>Asia</td><td>Yemen</td><td>29161922</td></tr><tr><td>Asia</td><td>Nepal</td><td>28608710</td></tr><tr><td>America</td><td>Venezuela (Bolivarian Republic of)</td><td>28515829</td></tr><tr><td>Africa</td><td>Madagascar</td><td>26969307</td></tr><tr><td>Africa</td><td>Cameroon</td><td>25876380</td></tr><tr><td>Africa</td><td>C�te d'Ivoire</td><td>25716544</td></tr><tr><td>Asia</td><td>North Korea (Democratic People's Republic of)</td><td>25666161</td></tr><tr><td>Oceania</td><td>Australia</td><td>25203198</td></tr><tr><td>Asia</td><td>Taiwan (Province of China)</td><td>23773876</td></tr><tr><td>Africa</td><td>Niger</td><td>23310715</td></tr><tr><td>Asia</td><td>Sri Lanka</td><td>21323733</td></tr><tr><td>Africa</td><td>Burkina Faso</td><td>20321378</td></tr><tr><td>Africa</td><td>Mali</td><td>19658031</td></tr><tr><td>Europe</td><td>Romania</td><td>19364557</td></tr><tr><td>America</td><td>Chile</td><td>18952038</td></tr><tr><td>Africa</td><td>Malawi</td><td>18628747</td></tr><tr><td>Asia</td><td>Kazakhstan</td><td>18551427</td></tr><tr><td>Africa</td><td>Zambia</td><td>17861030</td></tr><tr><td>America</td><td>Guatemala</td><td>17581472</td></tr><tr><td>America</td><td>Ecuador</td><td>17373662</td></tr><tr><td>Europe</td><td>Netherlands</td><td>17097130</td></tr><tr><td>Asia</td><td>Syrian Arab Republic</td><td>17070135</td></tr><tr><td>Asia</td><td>Cambodia</td><td>16486542</td></tr><tr><td>Africa</td><td>Senegal</td><td>16296364</td></tr><tr><td>Africa</td><td>Chad</td><td>15946876</td></tr><tr><td>Africa</td><td>Somalia</td><td>15442905</td></tr><tr><td>Africa</td><td>Zimbabwe</td><td>14645468</td></tr><tr><td>Africa</td><td>Guinea</td><td>12771246</td></tr><tr><td>Africa</td><td>Rwanda</td><td>12626950</td></tr><tr><td>Africa</td><td>Benin</td><td>11801151</td></tr><tr><td>Africa</td><td>Tunisia</td><td>11694719</td></tr><tr><td>Europe</td><td>Belgium</td><td>11539328</td></tr><tr><td>Africa</td><td>Burundi</td><td>11530580</td></tr><tr><td>America</td><td>Bolivia (Plurinational State of)</td><td>11513100</td></tr><tr><td>America</td><td>Cuba</td><td>11333483</td></tr><tr><td>America</td><td>Haiti</td><td>11263077</td></tr><tr><td>Africa</td><td>South Sudan</td><td>11062113</td></tr><tr><td>America</td><td>Dominican Republic</td><td>10738958</td></tr><tr><td>Europe</td><td>Czechia</td><td>10689209</td></tr><tr><td>Europe</td><td>Greece</td><td>10473455</td></tr><tr><td>Europe</td><td>Portugal</td><td>10226187</td></tr><tr><td>Asia</td><td>Jordan</td><td>10101694</td></tr><tr><td>Asia</td><td>Azerbaijan</td><td>10047718</td></tr><tr><td>Europe</td><td>Sweden</td><td>10036379</td></tr><tr><td>Asia</td><td>United Arab Emirates</td><td>9770529</td></tr><tr><td>America</td><td>Honduras</td><td>9746117</td></tr><tr><td>Europe</td><td>Hungary</td><td>9684679</td></tr><tr><td>Europe</td><td>Belarus</td><td>9452411</td></tr><tr><td>Asia</td><td>Tajikistan</td><td>9321018</td></tr><tr><td>Europe</td><td>Austria</td><td>8955102</td></tr><tr><td>Oceania</td><td>Papua New Guinea</td><td>8776109</td></tr><tr><td>Europe</td><td>Serbia</td><td>8772235</td></tr><tr><td>Europe</td><td>Switzerland</td><td>8591365</td></tr><tr><td>Asia</td><td>Israel</td><td>8519377</td></tr><tr><td>Africa</td><td>Togo</td><td>8082366</td></tr><tr><td>Africa</td><td>Sierra Leone</td><td>7813215</td></tr><tr><td>Asia</td><td>Hong Kong</td><td>7436154</td></tr><tr><td>Asia</td><td>Laos, People's Democratic Republic</td><td>7169455</td></tr><tr><td>America</td><td>Paraguay</td><td>7044636</td></tr><tr><td>Europe</td><td>Bulgaria</td><td>7000119</td></tr><tr><td>Asia</td><td>Lebanon</td><td>6855713</td></tr><tr><td>Africa</td><td>Libya</td><td>6777452</td></tr><tr><td>America</td><td>Nicaragua</td><td>6545502</td></tr><tr><td>America</td><td>El Salvador</td><td>6453553</td></tr><tr><td>Asia</td><td>Kyrgyzstan</td><td>6415850</td></tr><tr><td>Asia</td><td>Turkmenistan</td><td>5942089</td></tr><tr><td>Asia</td><td>Singapore</td><td>5804337</td></tr><tr><td>Europe</td><td>Denmark</td><td>5771876</td></tr><tr><td>Europe</td><td>Finland</td><td>5532156</td></tr><tr><td>Europe</td><td>Slovakia</td><td>5457013</td></tr><tr><td>Africa</td><td>Congo</td><td>5380508</td></tr><tr><td>Europe</td><td>Norway</td><td>5378857</td></tr><tr><td>America</td><td>Costa Rica</td><td>5047561</td></tr><tr><td>Asia</td><td>Palestine, State of</td><td>4981420</td></tr><tr><td>Asia</td><td>Oman</td><td>4974986</td></tr><tr><td>Africa</td><td>Liberia</td><td>4937374</td></tr><tr><td>Europe</td><td>Ireland</td><td>4882495</td></tr><tr><td>Oceania</td><td>New Zealand</td><td>4783063</td></tr><tr><td>Africa</td><td>Central African Republic</td><td>4745185</td></tr><tr><td>Africa</td><td>Mauritania</td><td>4525696</td></tr><tr><td>America</td><td>Panama</td><td>4246439</td></tr><tr><td>Asia</td><td>Kuwait</td><td>4207083</td></tr><tr><td>Europe</td><td>Croatia</td><td>4130304</td></tr><tr><td>Europe</td><td>Moldova, Republic of</td><td>4043263</td></tr><tr><td>Asia</td><td>Georgia</td><td>3996765</td></tr><tr><td>Africa</td><td>Eritrea</td><td>3497117</td></tr><tr><td>America</td><td>Uruguay</td><td>3461734</td></tr><tr><td>Europe</td><td>Bosnia and Herzegovina</td><td>3301000</td></tr><tr><td>Asia</td><td>Mongolia</td><td>3225167</td></tr><tr><td>Asia</td><td>Armenia</td><td>2957731</td></tr><tr><td>America</td><td>Jamaica</td><td>2948279</td></tr><tr><td>America</td><td>Puerto Rico</td><td>2933408</td></tr><tr><td>Europe</td><td>Albania</td><td>2880917</td></tr><tr><td>Asia</td><td>Qatar</td><td>2832067</td></tr><tr><td>Europe</td><td>Lithuania</td><td>2759627</td></tr><tr><td>Africa</td><td>Namibia</td><td>2494530</td></tr><tr><td>Africa</td><td>Gambia</td><td>2347706</td></tr><tr><td>Africa</td><td>Botswana</td><td>2303697</td></tr><tr><td>Africa</td><td>Gabon</td><td>2172579</td></tr><tr><td>Africa</td><td>Lesotho</td><td>2125268</td></tr><tr><td>Europe</td><td>North Macedonia</td><td>2083459</td></tr><tr><td>Europe</td><td>Slovenia</td><td>2078654</td></tr><tr><td>Africa</td><td>Guinea-Bissau</td><td>1920922</td></tr><tr><td>Europe</td><td>Latvia</td><td>1906743</td></tr><tr><td>Asia</td><td>Bahrain</td><td>1641172</td></tr><tr><td>America</td><td>Trinidad and Tobago</td><td>1394973</td></tr><tr><td>Africa</td><td>Equatorial Guinea</td><td>1355986</td></tr><tr><td>Europe</td><td>Estonia</td><td>1325648</td></tr><tr><td>Asia</td><td>Timor-Leste</td><td>1293119</td></tr><tr><td>Africa</td><td>Mauritius</td><td>1269668</td></tr><tr><td>Asia</td><td>Cyprus</td><td>1198575</td></tr><tr><td>Africa</td><td>Eswatini</td><td>1148130</td></tr><tr><td>Africa</td><td>Djibouti</td><td>973560</td></tr><tr><td>Oceania</td><td>Fiji</td><td>889953</td></tr><tr><td>Africa</td><td>R�union</td><td>888927</td></tr><tr><td>Africa</td><td>Comoros</td><td>850886</td></tr><tr><td>America</td><td>Guyana</td><td>782766</td></tr><tr><td>Asia</td><td>Bhutan</td><td>763092</td></tr><tr><td>Oceania</td><td>Solomon Islands</td><td>669823</td></tr><tr><td>Asia</td><td>Macau</td><td>640445</td></tr><tr><td>Europe</td><td>Montenegro</td><td>627987</td></tr><tr><td>Europe</td><td>Luxembourg</td><td>615729</td></tr><tr><td>Africa</td><td>Western Sahara</td><td>582463</td></tr><tr><td>America</td><td>Suriname</td><td>581372</td></tr><tr><td>Africa</td><td>Cabo Verde</td><td>549935</td></tr><tr><td>Asia</td><td>Maldives</td><td>530953</td></tr><tr><td>Europe</td><td>Malta</td><td>440372</td></tr><tr><td>Asia</td><td>Brunei Darussalam</td><td>433285</td></tr><tr><td>America</td><td>Guadeloupe</td><td>400056</td></tr><tr><td>America</td><td>Belize</td><td>390353</td></tr><tr><td>America</td><td>Bahamas</td><td>389482</td></tr><tr><td>America</td><td>Martinique</td><td>375554</td></tr><tr><td>Europe</td><td>Iceland</td><td>339031</td></tr><tr><td>Oceania</td><td>Vanuatu</td><td>299882</td></tr><tr><td>America</td><td>French Guiana</td><td>290832</td></tr><tr><td>America</td><td>Barbados</td><td>287025</td></tr><tr><td>Oceania</td><td>New Caledonia</td><td>282750</td></tr><tr><td>Oceania</td><td>French Polynesia</td><td>279287</td></tr><tr><td>Africa</td><td>Mayotte</td><td>266150</td></tr><tr><td>Africa</td><td>Sao Tome and Principe</td><td>215056</td></tr><tr><td>Oceania</td><td>Samoa</td><td>197097</td></tr><tr><td>America</td><td>Saint Lucia</td><td>182790</td></tr><tr><td>Oceania</td><td>Guam</td><td>167294</td></tr><tr><td>America</td><td>Cura�ao</td><td>163424</td></tr><tr><td>Oceania</td><td>Kiribati</td><td>117606</td></tr><tr><td>Oceania</td><td>Micronesia (Federated States of)</td><td>113815</td></tr><tr><td>America</td><td>Grenada</td><td>112003</td></tr><tr><td>America</td><td>Saint Vincent and the Grenadines</td><td>110589</td></tr><tr><td>America</td><td>Aruba</td><td>106314</td></tr><tr><td>America</td><td>Virgin Islands (U.S.)</td><td>104578</td></tr><tr><td>Oceania</td><td>Tonga</td><td>104494</td></tr><tr><td>Europe</td><td>Jersey</td><td>100000</td></tr><tr><td>Africa</td><td>Seychelles</td><td>97739</td></tr><tr><td>America</td><td>Antigua and Barbuda</td><td>97118</td></tr><tr><td>Europe</td><td>Isle of Man</td><td>84584</td></tr><tr><td>Europe</td><td>Andorra</td><td>77142</td></tr><tr><td>America</td><td>Dominica</td><td>71808</td></tr><tr><td>America</td><td>Cayman Islands</td><td>64948</td></tr><tr><td>Europe</td><td>Guernsey</td><td>63026</td></tr><tr><td>America</td><td>Bermuda</td><td>62506</td></tr><tr><td>Oceania</td><td>Marshall Islands</td><td>58791</td></tr><tr><td>Oceania</td><td>Northern Mariana Islands</td><td>57216</td></tr><tr><td>America</td><td>Greenland</td><td>56672</td></tr><tr><td>Oceania</td><td>American Samoa</td><td>55312</td></tr><tr><td>America</td><td>Saint Kitts and Nevis</td><td>52823</td></tr><tr><td>Europe</td><td>Faroe Islands</td><td>48678</td></tr><tr><td>America</td><td>Sint Maarten (Dutch part)</td><td>42388</td></tr><tr><td>Europe</td><td>Monaco</td><td>38964</td></tr><tr><td>America</td><td>Turks and Caicos Islands</td><td>38191</td></tr><tr><td>Europe</td><td>Liechtenstein</td><td>38019</td></tr><tr><td>America</td><td>Saint Martin (French part)</td><td>38002</td></tr><tr><td>Europe</td><td>San Marino</td><td>33860</td></tr><tr><td>Europe</td><td>Gibraltar</td><td>33701</td></tr><tr><td>America</td><td>Virgin Islands (British)</td><td>30030</td></tr><tr><td>Europe</td><td>�land Islands</td><td>29789</td></tr><tr><td>America</td><td>Bonaire, Sint Eustatius and Saba</td><td>25711</td></tr><tr><td>Oceania</td><td>Palau</td><td>18008</td></tr><tr><td>Oceania</td><td>Cook Islands</td><td>17548</td></tr><tr><td>America</td><td>Anguilla</td><td>14869</td></tr><tr><td>Oceania</td><td>Tuvalu</td><td>11646</td></tr><tr><td>Oceania</td><td>Wallis and Futuna</td><td>11432</td></tr><tr><td>Oceania</td><td>Nauru</td><td>10756</td></tr><tr><td>America</td><td>Saint Barth�lemy</td><td>9847</td></tr><tr><td>America</td><td>Saint Pierre and Miquelon</td><td>5822</td></tr><tr><td>Africa</td><td>Saint Helena, Ascension and Tristan da Cunha</td><td>5633</td></tr><tr><td>America</td><td>Montserrat</td><td>4989</td></tr><tr><td>Africa</td><td>British Indian Ocean Territory</td><td>4000</td></tr><tr><td>America</td><td>Falkland Islands (Malvinas)</td><td>3377</td></tr><tr><td>Europe</td><td>Svalbard and Jan Mayen</td><td>2667</td></tr><tr><td>Oceania</td><td>Christmas Island</td><td>1843</td></tr><tr><td>Oceania</td><td>Norfolk Island</td><td>1748</td></tr><tr><td>Oceania</td><td>Niue</td><td>1615</td></tr><tr><td>Oceania</td><td>Tokelau</td><td>1340</td></tr><tr><td>Oceania</td><td>Antarctica</td><td>1106</td></tr><tr><td>Europe</td><td>Holy See</td><td>799</td></tr><tr><td>Oceania</td><td>Cocos (Keeling) Islands</td><td>544</td></tr><tr><td>Oceania</td><td>United States Minor Outlying Islands</td><td>300</td></tr><tr><td>Africa</td><td>French Southern Territories</td><td>150</td></tr><tr><td>Oceania</td><td>Pitcairn</td><td>68</td></tr><tr><td>America</td><td>South Georgia and the South Sandwich Islands</td><td>30</td></tr><tr><td>America</td><td>Bouvet Island</td><td>0</td></tr><tr><td>Oceania</td><td>Heard Island and McDonald Islands</td><td>0</td></tr></tbody></table></div>"
      ]
     },
     "metadata": {
      "application/vnd.databricks.v1+output": {
       "addedWidgets": {},
       "aggData": [],
       "aggError": "",
       "aggOverflow": false,
       "aggSchema": [],
       "aggSeriesLimitReached": false,
       "aggType": "",
       "arguments": {},
       "columnCustomDisplayInfos": {},
       "data": [
        [
         "Asia",
         "China",
         1433783686
        ],
        [
         "Asia",
         "India",
         1366417754
        ],
        [
         "America",
         "United States of America",
         329064917
        ],
        [
         "Asia",
         "Indonesia",
         270625568
        ],
        [
         "Asia",
         "Pakistan",
         216565318
        ],
        [
         "America",
         "Brazil",
         211049527
        ],
        [
         "Africa",
         "Nigeria",
         200963599
        ],
        [
         "Asia",
         "Bangladesh",
         163046161
        ],
        [
         "Europe",
         "Russian Federation",
         145872256
        ],
        [
         "America",
         "Mexico",
         127575529
        ],
        [
         "Asia",
         "Japan",
         126860301
        ],
        [
         "Africa",
         "Ethiopia",
         112078730
        ],
        [
         "Asia",
         "Philippines",
         108116615
        ],
        [
         "Africa",
         "Egypt",
         100388073
        ],
        [
         "Asia",
         "Vietnam",
         96462106
        ],
        [
         "Africa",
         "Congo, Democratic Republic of the",
         86790567
        ],
        [
         "Europe",
         "Germany",
         83517045
        ],
        [
         "Asia",
         "Turkey",
         83429615
        ],
        [
         "Asia",
         "Iran (Islamic Republic of)",
         82913906
        ],
        [
         "Asia",
         "Thailand",
         69625582
        ],
        [
         "Europe",
         "United Kingdom of Great Britain and Northern Ireland",
         67530172
        ],
        [
         "Europe",
         "France",
         65129728
        ],
        [
         "Europe",
         "Italy",
         60550075
        ],
        [
         "Africa",
         "South Africa",
         58558270
        ],
        [
         "Africa",
         "Tanzania (United Republic of)",
         58005463
        ],
        [
         "Asia",
         "Myanmar",
         54045420
        ],
        [
         "Africa",
         "Kenya",
         52573973
        ],
        [
         "Asia",
         "South Korea (Republic of)",
         51225308
        ],
        [
         "America",
         "Colombia",
         50339443
        ],
        [
         "Europe",
         "Spain",
         46736776
        ],
        [
         "America",
         "Argentina",
         44780677
        ],
        [
         "Africa",
         "Uganda",
         44269594
        ],
        [
         "Europe",
         "Ukraine",
         43993638
        ],
        [
         "Africa",
         "Algeria",
         43053054
        ],
        [
         "Africa",
         "Sudan",
         42813238
        ],
        [
         "Asia",
         "Iraq",
         39309783
        ],
        [
         "Asia",
         "Afghanistan",
         38041754
        ],
        [
         "Europe",
         "Poland",
         37887768
        ],
        [
         "America",
         "Canada",
         37411047
        ],
        [
         "Africa",
         "Morocco",
         36471769
        ],
        [
         "Asia",
         "Saudi Arabia",
         34268528
        ],
        [
         "Asia",
         "Uzbekistan",
         32981716
        ],
        [
         "America",
         "Peru",
         32510453
        ],
        [
         "Asia",
         "Malaysia",
         31949777
        ],
        [
         "Africa",
         "Angola",
         31825295
        ],
        [
         "Africa",
         "Ghana",
         30417856
        ],
        [
         "Africa",
         "Mozambique",
         30366036
        ],
        [
         "Asia",
         "Yemen",
         29161922
        ],
        [
         "Asia",
         "Nepal",
         28608710
        ],
        [
         "America",
         "Venezuela (Bolivarian Republic of)",
         28515829
        ],
        [
         "Africa",
         "Madagascar",
         26969307
        ],
        [
         "Africa",
         "Cameroon",
         25876380
        ],
        [
         "Africa",
         "C�te d'Ivoire",
         25716544
        ],
        [
         "Asia",
         "North Korea (Democratic People's Republic of)",
         25666161
        ],
        [
         "Oceania",
         "Australia",
         25203198
        ],
        [
         "Asia",
         "Taiwan (Province of China)",
         23773876
        ],
        [
         "Africa",
         "Niger",
         23310715
        ],
        [
         "Asia",
         "Sri Lanka",
         21323733
        ],
        [
         "Africa",
         "Burkina Faso",
         20321378
        ],
        [
         "Africa",
         "Mali",
         19658031
        ],
        [
         "Europe",
         "Romania",
         19364557
        ],
        [
         "America",
         "Chile",
         18952038
        ],
        [
         "Africa",
         "Malawi",
         18628747
        ],
        [
         "Asia",
         "Kazakhstan",
         18551427
        ],
        [
         "Africa",
         "Zambia",
         17861030
        ],
        [
         "America",
         "Guatemala",
         17581472
        ],
        [
         "America",
         "Ecuador",
         17373662
        ],
        [
         "Europe",
         "Netherlands",
         17097130
        ],
        [
         "Asia",
         "Syrian Arab Republic",
         17070135
        ],
        [
         "Asia",
         "Cambodia",
         16486542
        ],
        [
         "Africa",
         "Senegal",
         16296364
        ],
        [
         "Africa",
         "Chad",
         15946876
        ],
        [
         "Africa",
         "Somalia",
         15442905
        ],
        [
         "Africa",
         "Zimbabwe",
         14645468
        ],
        [
         "Africa",
         "Guinea",
         12771246
        ],
        [
         "Africa",
         "Rwanda",
         12626950
        ],
        [
         "Africa",
         "Benin",
         11801151
        ],
        [
         "Africa",
         "Tunisia",
         11694719
        ],
        [
         "Europe",
         "Belgium",
         11539328
        ],
        [
         "Africa",
         "Burundi",
         11530580
        ],
        [
         "America",
         "Bolivia (Plurinational State of)",
         11513100
        ],
        [
         "America",
         "Cuba",
         11333483
        ],
        [
         "America",
         "Haiti",
         11263077
        ],
        [
         "Africa",
         "South Sudan",
         11062113
        ],
        [
         "America",
         "Dominican Republic",
         10738958
        ],
        [
         "Europe",
         "Czechia",
         10689209
        ],
        [
         "Europe",
         "Greece",
         10473455
        ],
        [
         "Europe",
         "Portugal",
         10226187
        ],
        [
         "Asia",
         "Jordan",
         10101694
        ],
        [
         "Asia",
         "Azerbaijan",
         10047718
        ],
        [
         "Europe",
         "Sweden",
         10036379
        ],
        [
         "Asia",
         "United Arab Emirates",
         9770529
        ],
        [
         "America",
         "Honduras",
         9746117
        ],
        [
         "Europe",
         "Hungary",
         9684679
        ],
        [
         "Europe",
         "Belarus",
         9452411
        ],
        [
         "Asia",
         "Tajikistan",
         9321018
        ],
        [
         "Europe",
         "Austria",
         8955102
        ],
        [
         "Oceania",
         "Papua New Guinea",
         8776109
        ],
        [
         "Europe",
         "Serbia",
         8772235
        ],
        [
         "Europe",
         "Switzerland",
         8591365
        ],
        [
         "Asia",
         "Israel",
         8519377
        ],
        [
         "Africa",
         "Togo",
         8082366
        ],
        [
         "Africa",
         "Sierra Leone",
         7813215
        ],
        [
         "Asia",
         "Hong Kong",
         7436154
        ],
        [
         "Asia",
         "Laos, People's Democratic Republic",
         7169455
        ],
        [
         "America",
         "Paraguay",
         7044636
        ],
        [
         "Europe",
         "Bulgaria",
         7000119
        ],
        [
         "Asia",
         "Lebanon",
         6855713
        ],
        [
         "Africa",
         "Libya",
         6777452
        ],
        [
         "America",
         "Nicaragua",
         6545502
        ],
        [
         "America",
         "El Salvador",
         6453553
        ],
        [
         "Asia",
         "Kyrgyzstan",
         6415850
        ],
        [
         "Asia",
         "Turkmenistan",
         5942089
        ],
        [
         "Asia",
         "Singapore",
         5804337
        ],
        [
         "Europe",
         "Denmark",
         5771876
        ],
        [
         "Europe",
         "Finland",
         5532156
        ],
        [
         "Europe",
         "Slovakia",
         5457013
        ],
        [
         "Africa",
         "Congo",
         5380508
        ],
        [
         "Europe",
         "Norway",
         5378857
        ],
        [
         "America",
         "Costa Rica",
         5047561
        ],
        [
         "Asia",
         "Palestine, State of",
         4981420
        ],
        [
         "Asia",
         "Oman",
         4974986
        ],
        [
         "Africa",
         "Liberia",
         4937374
        ],
        [
         "Europe",
         "Ireland",
         4882495
        ],
        [
         "Oceania",
         "New Zealand",
         4783063
        ],
        [
         "Africa",
         "Central African Republic",
         4745185
        ],
        [
         "Africa",
         "Mauritania",
         4525696
        ],
        [
         "America",
         "Panama",
         4246439
        ],
        [
         "Asia",
         "Kuwait",
         4207083
        ],
        [
         "Europe",
         "Croatia",
         4130304
        ],
        [
         "Europe",
         "Moldova, Republic of",
         4043263
        ],
        [
         "Asia",
         "Georgia",
         3996765
        ],
        [
         "Africa",
         "Eritrea",
         3497117
        ],
        [
         "America",
         "Uruguay",
         3461734
        ],
        [
         "Europe",
         "Bosnia and Herzegovina",
         3301000
        ],
        [
         "Asia",
         "Mongolia",
         3225167
        ],
        [
         "Asia",
         "Armenia",
         2957731
        ],
        [
         "America",
         "Jamaica",
         2948279
        ],
        [
         "America",
         "Puerto Rico",
         2933408
        ],
        [
         "Europe",
         "Albania",
         2880917
        ],
        [
         "Asia",
         "Qatar",
         2832067
        ],
        [
         "Europe",
         "Lithuania",
         2759627
        ],
        [
         "Africa",
         "Namibia",
         2494530
        ],
        [
         "Africa",
         "Gambia",
         2347706
        ],
        [
         "Africa",
         "Botswana",
         2303697
        ],
        [
         "Africa",
         "Gabon",
         2172579
        ],
        [
         "Africa",
         "Lesotho",
         2125268
        ],
        [
         "Europe",
         "North Macedonia",
         2083459
        ],
        [
         "Europe",
         "Slovenia",
         2078654
        ],
        [
         "Africa",
         "Guinea-Bissau",
         1920922
        ],
        [
         "Europe",
         "Latvia",
         1906743
        ],
        [
         "Asia",
         "Bahrain",
         1641172
        ],
        [
         "America",
         "Trinidad and Tobago",
         1394973
        ],
        [
         "Africa",
         "Equatorial Guinea",
         1355986
        ],
        [
         "Europe",
         "Estonia",
         1325648
        ],
        [
         "Asia",
         "Timor-Leste",
         1293119
        ],
        [
         "Africa",
         "Mauritius",
         1269668
        ],
        [
         "Asia",
         "Cyprus",
         1198575
        ],
        [
         "Africa",
         "Eswatini",
         1148130
        ],
        [
         "Africa",
         "Djibouti",
         973560
        ],
        [
         "Oceania",
         "Fiji",
         889953
        ],
        [
         "Africa",
         "R�union",
         888927
        ],
        [
         "Africa",
         "Comoros",
         850886
        ],
        [
         "America",
         "Guyana",
         782766
        ],
        [
         "Asia",
         "Bhutan",
         763092
        ],
        [
         "Oceania",
         "Solomon Islands",
         669823
        ],
        [
         "Asia",
         "Macau",
         640445
        ],
        [
         "Europe",
         "Montenegro",
         627987
        ],
        [
         "Europe",
         "Luxembourg",
         615729
        ],
        [
         "Africa",
         "Western Sahara",
         582463
        ],
        [
         "America",
         "Suriname",
         581372
        ],
        [
         "Africa",
         "Cabo Verde",
         549935
        ],
        [
         "Asia",
         "Maldives",
         530953
        ],
        [
         "Europe",
         "Malta",
         440372
        ],
        [
         "Asia",
         "Brunei Darussalam",
         433285
        ],
        [
         "America",
         "Guadeloupe",
         400056
        ],
        [
         "America",
         "Belize",
         390353
        ],
        [
         "America",
         "Bahamas",
         389482
        ],
        [
         "America",
         "Martinique",
         375554
        ],
        [
         "Europe",
         "Iceland",
         339031
        ],
        [
         "Oceania",
         "Vanuatu",
         299882
        ],
        [
         "America",
         "French Guiana",
         290832
        ],
        [
         "America",
         "Barbados",
         287025
        ],
        [
         "Oceania",
         "New Caledonia",
         282750
        ],
        [
         "Oceania",
         "French Polynesia",
         279287
        ],
        [
         "Africa",
         "Mayotte",
         266150
        ],
        [
         "Africa",
         "Sao Tome and Principe",
         215056
        ],
        [
         "Oceania",
         "Samoa",
         197097
        ],
        [
         "America",
         "Saint Lucia",
         182790
        ],
        [
         "Oceania",
         "Guam",
         167294
        ],
        [
         "America",
         "Cura�ao",
         163424
        ],
        [
         "Oceania",
         "Kiribati",
         117606
        ],
        [
         "Oceania",
         "Micronesia (Federated States of)",
         113815
        ],
        [
         "America",
         "Grenada",
         112003
        ],
        [
         "America",
         "Saint Vincent and the Grenadines",
         110589
        ],
        [
         "America",
         "Aruba",
         106314
        ],
        [
         "America",
         "Virgin Islands (U.S.)",
         104578
        ],
        [
         "Oceania",
         "Tonga",
         104494
        ],
        [
         "Europe",
         "Jersey",
         100000
        ],
        [
         "Africa",
         "Seychelles",
         97739
        ],
        [
         "America",
         "Antigua and Barbuda",
         97118
        ],
        [
         "Europe",
         "Isle of Man",
         84584
        ],
        [
         "Europe",
         "Andorra",
         77142
        ],
        [
         "America",
         "Dominica",
         71808
        ],
        [
         "America",
         "Cayman Islands",
         64948
        ],
        [
         "Europe",
         "Guernsey",
         63026
        ],
        [
         "America",
         "Bermuda",
         62506
        ],
        [
         "Oceania",
         "Marshall Islands",
         58791
        ],
        [
         "Oceania",
         "Northern Mariana Islands",
         57216
        ],
        [
         "America",
         "Greenland",
         56672
        ],
        [
         "Oceania",
         "American Samoa",
         55312
        ],
        [
         "America",
         "Saint Kitts and Nevis",
         52823
        ],
        [
         "Europe",
         "Faroe Islands",
         48678
        ],
        [
         "America",
         "Sint Maarten (Dutch part)",
         42388
        ],
        [
         "Europe",
         "Monaco",
         38964
        ],
        [
         "America",
         "Turks and Caicos Islands",
         38191
        ],
        [
         "Europe",
         "Liechtenstein",
         38019
        ],
        [
         "America",
         "Saint Martin (French part)",
         38002
        ],
        [
         "Europe",
         "San Marino",
         33860
        ],
        [
         "Europe",
         "Gibraltar",
         33701
        ],
        [
         "America",
         "Virgin Islands (British)",
         30030
        ],
        [
         "Europe",
         "�land Islands",
         29789
        ],
        [
         "America",
         "Bonaire, Sint Eustatius and Saba",
         25711
        ],
        [
         "Oceania",
         "Palau",
         18008
        ],
        [
         "Oceania",
         "Cook Islands",
         17548
        ],
        [
         "America",
         "Anguilla",
         14869
        ],
        [
         "Oceania",
         "Tuvalu",
         11646
        ],
        [
         "Oceania",
         "Wallis and Futuna",
         11432
        ],
        [
         "Oceania",
         "Nauru",
         10756
        ],
        [
         "America",
         "Saint Barth�lemy",
         9847
        ],
        [
         "America",
         "Saint Pierre and Miquelon",
         5822
        ],
        [
         "Africa",
         "Saint Helena, Ascension and Tristan da Cunha",
         5633
        ],
        [
         "America",
         "Montserrat",
         4989
        ],
        [
         "Africa",
         "British Indian Ocean Territory",
         4000
        ],
        [
         "America",
         "Falkland Islands (Malvinas)",
         3377
        ],
        [
         "Europe",
         "Svalbard and Jan Mayen",
         2667
        ],
        [
         "Oceania",
         "Christmas Island",
         1843
        ],
        [
         "Oceania",
         "Norfolk Island",
         1748
        ],
        [
         "Oceania",
         "Niue",
         1615
        ],
        [
         "Oceania",
         "Tokelau",
         1340
        ],
        [
         "Oceania",
         "Antarctica",
         1106
        ],
        [
         "Europe",
         "Holy See",
         799
        ],
        [
         "Oceania",
         "Cocos (Keeling) Islands",
         544
        ],
        [
         "Oceania",
         "United States Minor Outlying Islands",
         300
        ],
        [
         "Africa",
         "French Southern Territories",
         150
        ],
        [
         "Oceania",
         "Pitcairn",
         68
        ],
        [
         "America",
         "South Georgia and the South Sandwich Islands",
         30
        ],
        [
         "America",
         "Bouvet Island",
         0
        ],
        [
         "Oceania",
         "Heard Island and McDonald Islands",
         0
        ]
       ],
       "datasetInfos": [],
       "dbfsResultPath": null,
       "isJsonSchema": true,
       "metadata": {},
       "overflow": false,
       "plotOptions": {
        "customPlotOptions": {},
        "displayType": "table",
        "pivotAggregation": null,
        "pivotColumns": null,
        "xColumns": null,
        "yColumns": null
       },
       "removedWidgets": [],
       "schema": [
        {
         "metadata": "{}",
         "name": "region_name",
         "type": "\"string\""
        },
        {
         "metadata": "{}",
         "name": "country_name",
         "type": "\"string\""
        },
        {
         "metadata": "{}",
         "name": "population",
         "type": "\"long\""
        }
       ],
       "type": "table"
      }
     },
     "output_type": "display_data"
    }
   ],
   "source": [
    "population_df \\\n",
    "    .groupBy('region_name','country_name') \\\n",
    "    .agg(sum('population').alias('population')) \\\n",
    "    .orderBy('population', ascending=False) \\\n",
    "    .display()  \n"
   ]
  },
  {
   "cell_type": "code",
   "execution_count": 0,
   "metadata": {
    "application/vnd.databricks.v1+cell": {
     "cellMetadata": {
      "byteLimit": 2048000,
      "rowLimit": 10000
     },
     "inputWidgets": {},
     "nuid": "0e5e7822-7520-463f-a363-56c09e9032fc",
     "showTitle": false,
     "tableResultSettingsMap": {},
     "title": ""
    }
   },
   "outputs": [],
   "source": [
    "# Use Union to append two dataframes. Must have the same number of columns."
   ]
  },
  {
   "cell_type": "code",
   "execution_count": 0,
   "metadata": {
    "application/vnd.databricks.v1+cell": {
     "cellMetadata": {
      "byteLimit": 2048000,
      "rowLimit": 10000
     },
     "inputWidgets": {},
     "nuid": "2ca89bdf-e09e-4a50-81c4-2878572488a0",
     "showTitle": false,
     "tableResultSettingsMap": {},
     "title": ""
    }
   },
   "outputs": [
    {
     "output_type": "execute_result",
     "data": {
      "text/plain": [
       "249"
      ]
     },
     "execution_count": 75,
     "metadata": {},
     "output_type": "execute_result"
    }
   ],
   "source": [
    "countries_df.count()"
   ]
  },
  {
   "cell_type": "code",
   "execution_count": 0,
   "metadata": {
    "application/vnd.databricks.v1+cell": {
     "cellMetadata": {
      "byteLimit": 2048000,
      "rowLimit": 10000
     },
     "inputWidgets": {},
     "nuid": "c4f7a552-e9fa-4472-89d8-227b80bc8256",
     "showTitle": false,
     "tableResultSettingsMap": {},
     "title": ""
    }
   },
   "outputs": [],
   "source": [
    "countries_df = countries_df.union(countries_df)"
   ]
  },
  {
   "cell_type": "code",
   "execution_count": 0,
   "metadata": {
    "application/vnd.databricks.v1+cell": {
     "cellMetadata": {
      "byteLimit": 2048000,
      "rowLimit": 10000
     },
     "inputWidgets": {},
     "nuid": "57d94dcb-d6f6-4b24-b3fa-f4923e478e68",
     "showTitle": false,
     "tableResultSettingsMap": {},
     "title": ""
    }
   },
   "outputs": [
    {
     "output_type": "execute_result",
     "data": {
      "text/plain": [
       "498"
      ]
     },
     "execution_count": 78,
     "metadata": {},
     "output_type": "execute_result"
    }
   ],
   "source": [
    "countries_df.count()"
   ]
  },
  {
   "cell_type": "code",
   "execution_count": 0,
   "metadata": {
    "application/vnd.databricks.v1+cell": {
     "cellMetadata": {
      "byteLimit": 2048000,
      "rowLimit": 10000
     },
     "inputWidgets": {},
     "nuid": "109c716d-4167-46c2-a5d0-ad1a6ae4252d",
     "showTitle": false,
     "tableResultSettingsMap": {},
     "title": ""
    }
   },
   "outputs": [
    {
     "output_type": "stream",
     "name": "stdout",
     "output_type": "stream",
     "text": [
      "root\n |-- COUNTRY_ID: integer (nullable = true)\n |-- NAME: string (nullable = true)\n |-- NATIONALITY: string (nullable = true)\n |-- COUNTRY_CODE: string (nullable = true)\n |-- ISO_ALPHA2: string (nullable = true)\n |-- CAPITAL: string (nullable = true)\n |-- POPULATION: integer (nullable = true)\n |-- AREA_KM2: double (nullable = true)\n |-- REGION_ID: integer (nullable = true)\n |-- SUB_REGION_ID: integer (nullable = true)\n |-- INTERMEDIATE_REGION_ID: integer (nullable = true)\n |-- ORGANIZATION_REGION_ID: integer (nullable = true)\n\n"
     ]
    }
   ],
   "source": [
    "countries_df.printSchema()"
   ]
  }
 ],
 "metadata": {
  "application/vnd.databricks.v1+notebook": {
   "computePreferences": null,
   "dashboards": [],
   "environmentMetadata": {
    "base_environment": "",
    "client": "1"
   },
   "language": "python",
   "notebookMetadata": {
    "pythonIndentUnit": 4
   },
   "notebookName": "Joins and Pivots",
   "widgets": {}
  }
 },
 "nbformat": 4,
 "nbformat_minor": 0
}
